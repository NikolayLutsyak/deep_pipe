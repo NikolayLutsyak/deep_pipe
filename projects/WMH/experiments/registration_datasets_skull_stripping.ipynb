{
 "cells": [
  {
   "cell_type": "raw",
   "metadata": {},
   "source": [
    "первая партия была сделана так\n",
    "\n",
    "antsRegistrationSyNQuick.sh -d 3 -m ../Utr/Utrecht/17/pre/FLAIR.nii.gz \\\n",
    "-f ../Amst/GE3T/100/pre/FLAIR.nii.gz -t s -o patient_name_17_to_100  \n",
    "\n",
    "docker run --rm \\\n",
    "    --name sk_strip_17 \\\n",
    "    -v /home/mount/neuro-t01-ssd/home/amir/projects/segm/projects/WMH/data/trash:/input \\\n",
    "    brain_pipeline/frsrf_minc_fsl \\\n",
    "    bash -c \". /etc/fsl/5.0/fsl.sh \\\n",
    "    && bet /input/patient_name_17_to_100Warped.nii.gz /input/brainmask.nii -m -n -f .4\\"
   ]
  },
  {
   "cell_type": "raw",
   "metadata": {
    "collapsed": true
   },
   "source": [
    "export ANTSPATH=${HOME}/resnet_cnn_mri/antsbin/bin\n",
    "export PATH=${ANTSPATH}:$PATH"
   ]
  },
  {
   "cell_type": "raw",
   "metadata": {
    "collapsed": true
   },
   "source": [
    "img='../Utr/Utrecht/17/pre/FLAIR.nii.gz'\n",
    "toImg='../Amst/GE3T/100/pre/FLAIR.nii.gz'\n",
    "patientName='patientName17_to_100'\n",
    "\n",
    "antsRegistrationSyNQuick.sh -d 3 -m ${img} \\\n",
    "-f ${toImg} -t s -o ${patientName}"
   ]
  },
  {
   "cell_type": "raw",
   "metadata": {
    "collapsed": true
   },
   "source": [
    "pathToFolder='/home/mount/neuro-t01-ssd/home/amir/projects/segm/projects/WMH/data/trash'"
   ]
  },
  {
   "cell_type": "raw",
   "metadata": {
    "collapsed": true
   },
   "source": [
    "docker run --rm \\\n",
    "--name sk_strip \\\n",
    "-v ${pathToFolder}:/input \\\n",
    "brain_pipeline/frsrf_minc_fsl \\\n",
    "bash -c \". /etc/fsl/5.0/fsl.sh \\\n",
    "&& bet /input/${patientName}Warped.nii.gz /input/brainmask.nii -m -n -f .4\\ \""
   ]
  },
  {
   "cell_type": "markdown",
   "metadata": {},
   "source": [
    "_____"
   ]
  },
  {
   "cell_type": "markdown",
   "metadata": {},
   "source": [
    "# Registration "
   ]
  },
  {
   "cell_type": "code",
   "execution_count": 1,
   "metadata": {
    "collapsed": true
   },
   "outputs": [],
   "source": [
    "import os\n",
    "import shutil\n",
    "from itertools import combinations\n",
    "from subprocess import Popen, PIPE\n",
    "from multiprocessing import Pool, cpu_count\n",
    "\n",
    "import numpy as np\n",
    "import pandas as pd"
   ]
  },
  {
   "cell_type": "raw",
   "metadata": {},
   "source": [
    "%%sh\n",
    "export ANTSPATH=${HOME}/resnet_cnn_mri/ANTs/Scripts/\n",
    "export PATH=${ANTSPATH}:$PATH\n",
    "    \n",
    "export ANTSPATH=${HOME}/resnet_cnn_mri/antsbin/bin\n",
    "export PATH=${ANTSPATH}:$PATH"
   ]
  },
  {
   "cell_type": "code",
   "execution_count": 2,
   "metadata": {
    "collapsed": true
   },
   "outputs": [],
   "source": [
    "def run_docker(cmd, container_name):  \n",
    "    try:\n",
    "        proc = Popen(cmd, shell=True, stdout=PIPE, stderr=PIPE)\n",
    "        _ = proc.wait()\n",
    "        if _!=0:\n",
    "            print(proc.communicate())\n",
    "            print(proc.stdout())\n",
    "            return False\n",
    "    except Exception as e:\n",
    "        print (proc.communicate())\n",
    "        print (e)\n",
    "        proc_kill = Popen('docker stop '+ container_name, shell=True, stdout=PIPE)\n",
    "        proc_kill.wait()\n",
    "        proc_kill = Popen('docker rm ' + container_name, shell=True, stdout=PIPE)\n",
    "        proc_kill.wait()\n",
    "        proc.kill()\n",
    "        return False\n",
    "    return True"
   ]
  },
  {
   "cell_type": "code",
   "execution_count": 3,
   "metadata": {
    "collapsed": true
   },
   "outputs": [],
   "source": [
    "DOCKER_NAME = 'brain_pipeline/frsrf_minc_fsl'\n",
    "\n",
    "def bet_brain_mask(docker_container_name, path_to_sourse, file_name):\n",
    "    return '''docker run --rm \\\n",
    "    --name {1} \\\n",
    "    -v {2}:/input \\\n",
    "    {0} \\\n",
    "    bash -c \". /etc/fsl/5.0/fsl.sh \\\n",
    "    && bet /input/{3} /input/brainmask_{3} -m -n -f .4\\\n",
    "    \" '''.format(DOCKER_NAME, # 0\n",
    "                 docker_container_name, # 1\n",
    "                 path_to_sourse, # 2\n",
    "                 file_name # 3\n",
    "                 )"
   ]
  },
  {
   "cell_type": "code",
   "execution_count": 4,
   "metadata": {
    "collapsed": true
   },
   "outputs": [],
   "source": [
    "def reg_command(img, toImg, patientName):\n",
    "    imports='''export ANTSPATH=${HOME}/resnet_cnn_mri/ANTs/Scripts/\n",
    "    export PATH=${ANTSPATH}:$PATH\n",
    "    export ANTSPATH=${HOME}/resnet_cnn_mri/antsbin/bin\n",
    "    export PATH=${ANTSPATH}:$PATH\n",
    "    '''\n",
    "    s = '''antsRegistrationSyNQuick.sh -d 3 -m {0} -f {1} -t s -o {2}'''\n",
    "    return imports+s.format(img, toImg, patientName)"
   ]
  },
  {
   "cell_type": "markdown",
   "metadata": {},
   "source": [
    "____-"
   ]
  },
  {
   "cell_type": "code",
   "execution_count": 5,
   "metadata": {
    "collapsed": true
   },
   "outputs": [],
   "source": [
    "HOME = '/home/mount/neuro-t01-ssd/home/amir/'\n",
    "path_to_registration = os.path.join(HOME, 'projects/segm/projects/WMH/data/registration_for_histograms')\n",
    "path_to_save = '/home/mount/neuro-x02-hdd/WMHS_AUGM/'"
   ]
  },
  {
   "cell_type": "code",
   "execution_count": 6,
   "metadata": {
    "collapsed": false
   },
   "outputs": [],
   "source": [
    "meta = pd.DataFrame()\n",
    "university = []\n",
    "path = []\n",
    "path_to_mask = []\n",
    "idx = []\n",
    "path_br_mask = '../data/skull_stripping'\n",
    "PATHS = ['../data/Utr/Utrecht/', '../data/Sing/Singapore/', '../data/Amst/GE3T/']\n",
    "\n",
    "for PATH in PATHS:\n",
    "    for i in os.listdir(PATH):\n",
    "        university.append(PATH.split('/')[-2])\n",
    "        idx.append(i)\n",
    "        path_to_brain_mask = os.path.join(path_br_mask, PATH.split('/')[-2], i, 'brain_mask/brainmask_mask.nii.gz')\n",
    "        path_for_wmhm = os.path.join(PATH, i, 'pre/FLAIR.nii.gz')\n",
    "        path_for_wmhm = os.path.abspath(path_for_wmhm)\n",
    "        path_to_mask.append(path_to_brain_mask)\n",
    "        path.append(path_for_wmhm)\n",
    "meta['idx'] = idx\n",
    "meta[\"univ\"] = university\n",
    "meta['path_flair'] = path\n",
    "meta['path_mask'] = path_to_mask"
   ]
  },
  {
   "cell_type": "code",
   "execution_count": 7,
   "metadata": {
    "collapsed": false
   },
   "outputs": [
    {
     "data": {
      "text/html": [
       "<div>\n",
       "<style>\n",
       "    .dataframe thead tr:only-child th {\n",
       "        text-align: right;\n",
       "    }\n",
       "\n",
       "    .dataframe thead th {\n",
       "        text-align: left;\n",
       "    }\n",
       "\n",
       "    .dataframe tbody tr th {\n",
       "        vertical-align: top;\n",
       "    }\n",
       "</style>\n",
       "<table border=\"1\" class=\"dataframe\">\n",
       "  <thead>\n",
       "    <tr style=\"text-align: right;\">\n",
       "      <th></th>\n",
       "      <th>idx</th>\n",
       "      <th>univ</th>\n",
       "      <th>path_flair</th>\n",
       "      <th>path_mask</th>\n",
       "    </tr>\n",
       "  </thead>\n",
       "  <tbody>\n",
       "    <tr>\n",
       "      <th>5</th>\n",
       "      <td>49</td>\n",
       "      <td>Utrecht</td>\n",
       "      <td>/home/mount/neuro-t01-ssd/home/amir/projects/s...</td>\n",
       "      <td>../data/skull_stripping/Utrecht/49/brain_mask/...</td>\n",
       "    </tr>\n",
       "    <tr>\n",
       "      <th>35</th>\n",
       "      <td>57</td>\n",
       "      <td>Singapore</td>\n",
       "      <td>/home/mount/neuro-t01-ssd/home/amir/projects/s...</td>\n",
       "      <td>../data/skull_stripping/Singapore/57/brain_mas...</td>\n",
       "    </tr>\n",
       "    <tr>\n",
       "      <th>53</th>\n",
       "      <td>132</td>\n",
       "      <td>GE3T</td>\n",
       "      <td>/home/mount/neuro-t01-ssd/home/amir/projects/s...</td>\n",
       "      <td>../data/skull_stripping/GE3T/132/brain_mask/br...</td>\n",
       "    </tr>\n",
       "    <tr>\n",
       "      <th>4</th>\n",
       "      <td>19</td>\n",
       "      <td>Utrecht</td>\n",
       "      <td>/home/mount/neuro-t01-ssd/home/amir/projects/s...</td>\n",
       "      <td>../data/skull_stripping/Utrecht/19/brain_mask/...</td>\n",
       "    </tr>\n",
       "  </tbody>\n",
       "</table>\n",
       "</div>"
      ],
      "text/plain": [
       "    idx       univ                                         path_flair  \\\n",
       "5    49    Utrecht  /home/mount/neuro-t01-ssd/home/amir/projects/s...   \n",
       "35   57  Singapore  /home/mount/neuro-t01-ssd/home/amir/projects/s...   \n",
       "53  132       GE3T  /home/mount/neuro-t01-ssd/home/amir/projects/s...   \n",
       "4    19    Utrecht  /home/mount/neuro-t01-ssd/home/amir/projects/s...   \n",
       "\n",
       "                                            path_mask  \n",
       "5   ../data/skull_stripping/Utrecht/49/brain_mask/...  \n",
       "35  ../data/skull_stripping/Singapore/57/brain_mas...  \n",
       "53  ../data/skull_stripping/GE3T/132/brain_mask/br...  \n",
       "4   ../data/skull_stripping/Utrecht/19/brain_mask/...  "
      ]
     },
     "execution_count": 7,
     "metadata": {},
     "output_type": "execute_result"
    }
   ],
   "source": [
    "# сделали метадату со всеми путями\n",
    "\n",
    "meta.sample(4)"
   ]
  },
  {
   "cell_type": "code",
   "execution_count": 8,
   "metadata": {
    "collapsed": false
   },
   "outputs": [],
   "source": [
    "# список попарных регистраций\n",
    "tmp_arr = []\n",
    "for univ1, univ2 in combinations(meta.univ.unique(), 2):\n",
    "    for first in meta[meta.univ==univ1].values:\n",
    "        for second in meta[meta.univ==univ2].values:\n",
    "            img_path, univ, idx, to_img_path, univ_to, idx_to=\\\n",
    "            first[2], first[1], first[0], second[2], second[1], second[0]\n",
    "            tmp_arr.append((img_path, univ, idx, to_img_path, univ_to, idx_to))"
   ]
  },
  {
   "cell_type": "code",
   "execution_count": 9,
   "metadata": {
    "collapsed": false
   },
   "outputs": [
    {
     "data": {
      "text/plain": [
       "1200"
      ]
     },
     "execution_count": 9,
     "metadata": {},
     "output_type": "execute_result"
    }
   ],
   "source": [
    "len(tmp_arr)"
   ]
  },
  {
   "cell_type": "code",
   "execution_count": 11,
   "metadata": {
    "collapsed": false
   },
   "outputs": [],
   "source": [
    "def registration_from_to(img_path, univ, idx, to_img_path, univ_to, idx_to):\n",
    "    path = os.path.join(path_to_registration, univ+'_'+univ_to)\n",
    "    if not os.path.exists(path):\n",
    "        try:\n",
    "            os.makedirs(path, mode=0o777)\n",
    "        except Exception:\n",
    "            pass\n",
    "    path_to_save = os.path.join(path, idx+'_'+idx_to+'/')\n",
    "    if not os.path.exists(path_to_save):\n",
    "        try:\n",
    "            os.makedirs(path_to_save, mode=0o777)\n",
    "        except Exception:\n",
    "            pass\n",
    "    cmd = reg_command(img_path, to_img_path, path_to_save)\n",
    "    print (cmd)\n",
    "    try:\n",
    "        proc = Popen(cmd, shell=True, stdout=PIPE, stderr=PIPE)\n",
    "        a = proc.wait()\n",
    "        if a!=0:\n",
    "            print(proc.communicate())\n",
    "            return False\n",
    "    except Exception as e:\n",
    "        print (proc.communicate())\n",
    "        print (e)\n",
    "    return path_to_save"
   ]
  },
  {
   "cell_type": "code",
   "execution_count": 12,
   "metadata": {
    "collapsed": true
   },
   "outputs": [],
   "source": [
    "def skull_strip_for(path_to_sourse, file_name):\n",
    "    '''For new_registered_img'''\n",
    "    docker_container_name = 'sk_str'+str(file_name)\n",
    "    cmd = bet_brain_mask(docker_container_name, path_to_sourse, file_name)\n",
    "    print(cmd)\n",
    "    _ = run_docker(cmd, docker_container_name)\n",
    "    return _"
   ]
  },
  {
   "cell_type": "markdown",
   "metadata": {},
   "source": [
    "собрали список? зачем?"
   ]
  },
  {
   "cell_type": "code",
   "execution_count": null,
   "metadata": {
    "collapsed": true
   },
   "outputs": [],
   "source": []
  },
  {
   "cell_type": "code",
   "execution_count": 13,
   "metadata": {
    "collapsed": true
   },
   "outputs": [],
   "source": [
    "## Запуск на многих процессах;"
   ]
  },
  {
   "cell_type": "code",
   "execution_count": 45,
   "metadata": {
    "collapsed": true
   },
   "outputs": [],
   "source": [
    "def get_data_for_hist(meta):\n",
    "    path = registration_from_to(*meta)\n",
    "    if path:\n",
    "        skull_strip_for(path+'/', 'Warped.nii.gz')\n",
    "        skull_strip_for(path+'/', 'InverseWarped.nii.gz')\n",
    "    p = np.array(meta)[[1,2,4,5]]\n",
    "    p = '_'.join(p)\n",
    "    print (path_to_save+p)\n",
    "    shutil.copytree(path, path_to_save+p)\n",
    "    shutil.rmtree(path)\n",
    "    return True"
   ]
  },
  {
   "cell_type": "code",
   "execution_count": 46,
   "metadata": {
    "collapsed": false
   },
   "outputs": [
    {
     "data": {
      "text/plain": [
       "[('/home/mount/neuro-t01-ssd/home/amir/projects/segm/projects/WMH/data/Sing/Singapore/68/pre/FLAIR.nii.gz',\n",
       "  'Singapore',\n",
       "  '68',\n",
       "  '/home/mount/neuro-t01-ssd/home/amir/projects/segm/projects/WMH/data/Amst/GE3T/108/pre/FLAIR.nii.gz',\n",
       "  'GE3T',\n",
       "  '108'),\n",
       " ('/home/mount/neuro-t01-ssd/home/amir/projects/segm/projects/WMH/data/Sing/Singapore/68/pre/FLAIR.nii.gz',\n",
       "  'Singapore',\n",
       "  '68',\n",
       "  '/home/mount/neuro-t01-ssd/home/amir/projects/segm/projects/WMH/data/Amst/GE3T/113/pre/FLAIR.nii.gz',\n",
       "  'GE3T',\n",
       "  '113')]"
      ]
     },
     "execution_count": 46,
     "metadata": {},
     "output_type": "execute_result"
    }
   ],
   "source": [
    "tmp_arr[810:812]"
   ]
  },
  {
   "cell_type": "raw",
   "metadata": {
    "collapsed": false
   },
   "source": [
    "get_data_for_hist(tmp_arr[1])"
   ]
  },
  {
   "cell_type": "code",
   "execution_count": null,
   "metadata": {
    "collapsed": true
   },
   "outputs": [],
   "source": []
  },
  {
   "cell_type": "code",
   "execution_count": null,
   "metadata": {
    "collapsed": false
   },
   "outputs": [
    {
     "name": "stdout",
     "output_type": "stream",
     "text": [
      "export ANTSPATH=${HOME}/resnet_cnn_mri/ANTs/Scripts/\n",
      "    export PATH=${ANTSPATH}:$PATH\n",
      "    export ANTSPATH=${HOME}/resnet_cnn_mri/antsbin/bin\n",
      "    export PATH=${ANTSPATH}:$PATH\n",
      "    antsRegistrationSyNQuick.sh -d 3 -m /home/mount/neuro-t01-ssd/home/amir/projects/segm/projects/WMH/data/Utr/Utrecht/27/pre/FLAIR.nii.gz -f /home/mount/neuro-t01-ssd/home/amir/projects/segm/projects/WMH/data/Sing/Singapore/68/pre/FLAIR.nii.gz -t s -o /home/mount/neuro-t01-ssd/home/amir/projects/segm/projects/WMH/data/registration_for_histograms/Utrecht_Singapore/27_68/\n",
      "export ANTSPATH=${HOME}/resnet_cnn_mri/ANTs/Scripts/\n",
      "    export PATH=${ANTSPATH}:$PATH\n",
      "    export ANTSPATH=${HOME}/resnet_cnn_mri/antsbin/bin\n",
      "    export PATH=${ANTSPATH}:$PATH\n",
      "    antsRegistrationSyNQuick.sh -d 3 -m /home/mount/neuro-t01-ssd/home/amir/projects/segm/projects/WMH/data/Utr/Utrecht/27/pre/FLAIR.nii.gz -f /home/mount/neuro-t01-ssd/home/amir/projects/segm/projects/WMH/data/Sing/Singapore/58/pre/FLAIR.nii.gz -t s -o /home/mount/neuro-t01-ssd/home/amir/projects/segm/projects/WMH/data/registration_for_histograms/Utrecht_Singapore/27_58/export ANTSPATH=${HOME}/resnet_cnn_mri/ANTs/Scripts/\n",
      "    export PATH=${ANTSPATH}:$PATH\n",
      "    export ANTSPATH=${HOME}/resnet_cnn_mri/antsbin/bin\n",
      "    export PATH=${ANTSPATH}:$PATH\n",
      "    antsRegistrationSyNQuick.sh -d 3 -m /home/mount/neuro-t01-ssd/home/amir/projects/segm/projects/WMH/data/Utr/Utrecht/27/pre/FLAIR.nii.gz -f /home/mount/neuro-t01-ssd/home/amir/projects/segm/projects/WMH/data/Sing/Singapore/65/pre/FLAIR.nii.gz -t s -o /home/mount/neuro-t01-ssd/home/amir/projects/segm/projects/WMH/data/registration_for_histograms/Utrecht_Singapore/27_65/export ANTSPATH=${HOME}/resnet_cnn_mri/ANTs/Scripts/\n",
      "    export PATH=${ANTSPATH}:$PATH\n",
      "    export ANTSPATH=${HOME}/resnet_cnn_mri/antsbin/bin\n",
      "    export PATH=${ANTSPATH}:$PATH\n",
      "    antsRegistrationSyNQuick.sh -d 3 -m /home/mount/neuro-t01-ssd/home/amir/projects/segm/projects/WMH/data/Utr/Utrecht/27/pre/FLAIR.nii.gz -f /home/mount/neuro-t01-ssd/home/amir/projects/segm/projects/WMH/data/Sing/Singapore/66/pre/FLAIR.nii.gz -t s -o /home/mount/neuro-t01-ssd/home/amir/projects/segm/projects/WMH/data/registration_for_histograms/Utrecht_Singapore/27_66/\n",
      "export ANTSPATH=${HOME}/resnet_cnn_mri/ANTs/Scripts/\n",
      "    export PATH=${ANTSPATH}:$PATH\n",
      "    export ANTSPATH=${HOME}/resnet_cnn_mri/antsbin/bin\n",
      "    export PATH=${ANTSPATH}:$PATH\n",
      "    antsRegistrationSyNQuick.sh -d 3 -m /home/mount/neuro-t01-ssd/home/amir/projects/segm/projects/WMH/data/Utr/Utrecht/27/pre/FLAIR.nii.gz -f /home/mount/neuro-t01-ssd/home/amir/projects/segm/projects/WMH/data/Sing/Singapore/67/pre/FLAIR.nii.gz -t s -o /home/mount/neuro-t01-ssd/home/amir/projects/segm/projects/WMH/data/registration_for_histograms/Utrecht_Singapore/27_67/\n",
      "\n",
      "\n",
      "docker run --rm     --name sk_strWarped.nii.gz     -v /home/mount/neuro-t01-ssd/home/amir/projects/segm/projects/WMH/data/registration_for_histograms/Utrecht_Singapore/27_67//:/input     brain_pipeline/frsrf_minc_fsl     bash -c \". /etc/fsl/5.0/fsl.sh     && bet /input/Warped.nii.gz /input/brainmask_Warped.nii.gz -m -n -f .4    \" \n",
      "docker run --rm     --name sk_strInverseWarped.nii.gz     -v /home/mount/neuro-t01-ssd/home/amir/projects/segm/projects/WMH/data/registration_for_histograms/Utrecht_Singapore/27_67//:/input     brain_pipeline/frsrf_minc_fsl     bash -c \". /etc/fsl/5.0/fsl.sh     && bet /input/InverseWarped.nii.gz /input/brainmask_InverseWarped.nii.gz -m -n -f .4    \" \n",
      "/home/mount/neuro-x02-hdd/WMHS_AUGM/Utrecht_27_Singapore_67\n",
      "export ANTSPATH=${HOME}/resnet_cnn_mri/ANTs/Scripts/\n",
      "    export PATH=${ANTSPATH}:$PATH\n",
      "    export ANTSPATH=${HOME}/resnet_cnn_mri/antsbin/bin\n",
      "    export PATH=${ANTSPATH}:$PATH\n",
      "    antsRegistrationSyNQuick.sh -d 3 -m /home/mount/neuro-t01-ssd/home/amir/projects/segm/projects/WMH/data/Utr/Utrecht/27/pre/FLAIR.nii.gz -f /home/mount/neuro-t01-ssd/home/amir/projects/segm/projects/WMH/data/Sing/Singapore/59/pre/FLAIR.nii.gz -t s -o /home/mount/neuro-t01-ssd/home/amir/projects/segm/projects/WMH/data/registration_for_histograms/Utrecht_Singapore/27_59/\n",
      "docker run --rm     --name sk_strWarped.nii.gz     -v /home/mount/neuro-t01-ssd/home/amir/projects/segm/projects/WMH/data/registration_for_histograms/Utrecht_Singapore/27_68//:/input     brain_pipeline/frsrf_minc_fsl     bash -c \". /etc/fsl/5.0/fsl.sh     && bet /input/Warped.nii.gz /input/brainmask_Warped.nii.gz -m -n -f .4    \" \n",
      "docker run --rm     --name sk_strInverseWarped.nii.gz     -v /home/mount/neuro-t01-ssd/home/amir/projects/segm/projects/WMH/data/registration_for_histograms/Utrecht_Singapore/27_68//:/input     brain_pipeline/frsrf_minc_fsl     bash -c \". /etc/fsl/5.0/fsl.sh     && bet /input/InverseWarped.nii.gz /input/brainmask_InverseWarped.nii.gz -m -n -f .4    \" \n",
      "/home/mount/neuro-x02-hdd/WMHS_AUGM/Utrecht_27_Singapore_68\n",
      "export ANTSPATH=${HOME}/resnet_cnn_mri/ANTs/Scripts/\n",
      "    export PATH=${ANTSPATH}:$PATH\n",
      "    export ANTSPATH=${HOME}/resnet_cnn_mri/antsbin/bin\n",
      "    export PATH=${ANTSPATH}:$PATH\n",
      "    antsRegistrationSyNQuick.sh -d 3 -m /home/mount/neuro-t01-ssd/home/amir/projects/segm/projects/WMH/data/Utr/Utrecht/27/pre/FLAIR.nii.gz -f /home/mount/neuro-t01-ssd/home/amir/projects/segm/projects/WMH/data/Sing/Singapore/60/pre/FLAIR.nii.gz -t s -o /home/mount/neuro-t01-ssd/home/amir/projects/segm/projects/WMH/data/registration_for_histograms/Utrecht_Singapore/27_60/\n",
      "docker run --rm     --name sk_strWarped.nii.gz     -v /home/mount/neuro-t01-ssd/home/amir/projects/segm/projects/WMH/data/registration_for_histograms/Utrecht_Singapore/27_66//:/input     brain_pipeline/frsrf_minc_fsl     bash -c \". /etc/fsl/5.0/fsl.sh     && bet /input/Warped.nii.gz /input/brainmask_Warped.nii.gz -m -n -f .4    \" \n",
      "docker run --rm     --name sk_strInverseWarped.nii.gz     -v /home/mount/neuro-t01-ssd/home/amir/projects/segm/projects/WMH/data/registration_for_histograms/Utrecht_Singapore/27_66//:/input     brain_pipeline/frsrf_minc_fsl     bash -c \". /etc/fsl/5.0/fsl.sh     && bet /input/InverseWarped.nii.gz /input/brainmask_InverseWarped.nii.gz -m -n -f .4    \" \n",
      "/home/mount/neuro-x02-hdd/WMHS_AUGM/Utrecht_27_Singapore_66\n",
      "export ANTSPATH=${HOME}/resnet_cnn_mri/ANTs/Scripts/\n",
      "    export PATH=${ANTSPATH}:$PATH\n",
      "    export ANTSPATH=${HOME}/resnet_cnn_mri/antsbin/bin\n",
      "    export PATH=${ANTSPATH}:$PATH\n",
      "    antsRegistrationSyNQuick.sh -d 3 -m /home/mount/neuro-t01-ssd/home/amir/projects/segm/projects/WMH/data/Utr/Utrecht/27/pre/FLAIR.nii.gz -f /home/mount/neuro-t01-ssd/home/amir/projects/segm/projects/WMH/data/Sing/Singapore/61/pre/FLAIR.nii.gz -t s -o /home/mount/neuro-t01-ssd/home/amir/projects/segm/projects/WMH/data/registration_for_histograms/Utrecht_Singapore/27_61/\n",
      "docker run --rm     --name sk_strWarped.nii.gz     -v /home/mount/neuro-t01-ssd/home/amir/projects/segm/projects/WMH/data/registration_for_histograms/Utrecht_Singapore/27_65//:/input     brain_pipeline/frsrf_minc_fsl     bash -c \". /etc/fsl/5.0/fsl.sh     && bet /input/Warped.nii.gz /input/brainmask_Warped.nii.gz -m -n -f .4    \" \n",
      "docker run --rm     --name sk_strInverseWarped.nii.gz     -v /home/mount/neuro-t01-ssd/home/amir/projects/segm/projects/WMH/data/registration_for_histograms/Utrecht_Singapore/27_65//:/input     brain_pipeline/frsrf_minc_fsl     bash -c \". /etc/fsl/5.0/fsl.sh     && bet /input/InverseWarped.nii.gz /input/brainmask_InverseWarped.nii.gz -m -n -f .4    \" \n",
      "/home/mount/neuro-x02-hdd/WMHS_AUGM/Utrecht_27_Singapore_65\n",
      "export ANTSPATH=${HOME}/resnet_cnn_mri/ANTs/Scripts/\n",
      "    export PATH=${ANTSPATH}:$PATH\n",
      "    export ANTSPATH=${HOME}/resnet_cnn_mri/antsbin/bin\n",
      "    export PATH=${ANTSPATH}:$PATH\n",
      "    antsRegistrationSyNQuick.sh -d 3 -m /home/mount/neuro-t01-ssd/home/amir/projects/segm/projects/WMH/data/Utr/Utrecht/27/pre/FLAIR.nii.gz -f /home/mount/neuro-t01-ssd/home/amir/projects/segm/projects/WMH/data/Sing/Singapore/69/pre/FLAIR.nii.gz -t s -o /home/mount/neuro-t01-ssd/home/amir/projects/segm/projects/WMH/data/registration_for_histograms/Utrecht_Singapore/27_69/\n",
      "docker run --rm     --name sk_strWarped.nii.gz     -v /home/mount/neuro-t01-ssd/home/amir/projects/segm/projects/WMH/data/registration_for_histograms/Utrecht_Singapore/27_58//:/input     brain_pipeline/frsrf_minc_fsl     bash -c \". /etc/fsl/5.0/fsl.sh     && bet /input/Warped.nii.gz /input/brainmask_Warped.nii.gz -m -n -f .4    \" \n",
      "docker run --rm     --name sk_strInverseWarped.nii.gz     -v /home/mount/neuro-t01-ssd/home/amir/projects/segm/projects/WMH/data/registration_for_histograms/Utrecht_Singapore/27_58//:/input     brain_pipeline/frsrf_minc_fsl     bash -c \". /etc/fsl/5.0/fsl.sh     && bet /input/InverseWarped.nii.gz /input/brainmask_InverseWarped.nii.gz -m -n -f .4    \" \n",
      "/home/mount/neuro-x02-hdd/WMHS_AUGM/Utrecht_27_Singapore_58\n",
      "export ANTSPATH=${HOME}/resnet_cnn_mri/ANTs/Scripts/\n",
      "    export PATH=${ANTSPATH}:$PATH\n",
      "    export ANTSPATH=${HOME}/resnet_cnn_mri/antsbin/bin\n",
      "    export PATH=${ANTSPATH}:$PATH\n",
      "    antsRegistrationSyNQuick.sh -d 3 -m /home/mount/neuro-t01-ssd/home/amir/projects/segm/projects/WMH/data/Utr/Utrecht/27/pre/FLAIR.nii.gz -f /home/mount/neuro-t01-ssd/home/amir/projects/segm/projects/WMH/data/Sing/Singapore/55/pre/FLAIR.nii.gz -t s -o /home/mount/neuro-t01-ssd/home/amir/projects/segm/projects/WMH/data/registration_for_histograms/Utrecht_Singapore/27_55/\n",
      "docker run --rm     --name sk_strWarped.nii.gz     -v /home/mount/neuro-t01-ssd/home/amir/projects/segm/projects/WMH/data/registration_for_histograms/Utrecht_Singapore/27_59//:/input     brain_pipeline/frsrf_minc_fsl     bash -c \". /etc/fsl/5.0/fsl.sh     && bet /input/Warped.nii.gz /input/brainmask_Warped.nii.gz -m -n -f .4    \" \n",
      "docker run --rm     --name sk_strInverseWarped.nii.gz     -v /home/mount/neuro-t01-ssd/home/amir/projects/segm/projects/WMH/data/registration_for_histograms/Utrecht_Singapore/27_59//:/input     brain_pipeline/frsrf_minc_fsl     bash -c \". /etc/fsl/5.0/fsl.sh     && bet /input/InverseWarped.nii.gz /input/brainmask_InverseWarped.nii.gz -m -n -f .4    \" \n",
      "/home/mount/neuro-x02-hdd/WMHS_AUGM/Utrecht_27_Singapore_59\n",
      "export ANTSPATH=${HOME}/resnet_cnn_mri/ANTs/Scripts/\n",
      "    export PATH=${ANTSPATH}:$PATH\n",
      "    export ANTSPATH=${HOME}/resnet_cnn_mri/antsbin/bin\n",
      "    export PATH=${ANTSPATH}:$PATH\n",
      "    antsRegistrationSyNQuick.sh -d 3 -m /home/mount/neuro-t01-ssd/home/amir/projects/segm/projects/WMH/data/Utr/Utrecht/27/pre/FLAIR.nii.gz -f /home/mount/neuro-t01-ssd/home/amir/projects/segm/projects/WMH/data/Sing/Singapore/63/pre/FLAIR.nii.gz -t s -o /home/mount/neuro-t01-ssd/home/amir/projects/segm/projects/WMH/data/registration_for_histograms/Utrecht_Singapore/27_63/\n",
      "docker run --rm     --name sk_strWarped.nii.gz     -v /home/mount/neuro-t01-ssd/home/amir/projects/segm/projects/WMH/data/registration_for_histograms/Utrecht_Singapore/27_60//:/input     brain_pipeline/frsrf_minc_fsl     bash -c \". /etc/fsl/5.0/fsl.sh     && bet /input/Warped.nii.gz /input/brainmask_Warped.nii.gz -m -n -f .4    \" \n",
      "docker run --rm     --name sk_strInverseWarped.nii.gz     -v /home/mount/neuro-t01-ssd/home/amir/projects/segm/projects/WMH/data/registration_for_histograms/Utrecht_Singapore/27_60//:/input     brain_pipeline/frsrf_minc_fsl     bash -c \". /etc/fsl/5.0/fsl.sh     && bet /input/InverseWarped.nii.gz /input/brainmask_InverseWarped.nii.gz -m -n -f .4    \" \n",
      "/home/mount/neuro-x02-hdd/WMHS_AUGM/Utrecht_27_Singapore_60\n",
      "export ANTSPATH=${HOME}/resnet_cnn_mri/ANTs/Scripts/\n",
      "    export PATH=${ANTSPATH}:$PATH\n",
      "    export ANTSPATH=${HOME}/resnet_cnn_mri/antsbin/bin\n",
      "    export PATH=${ANTSPATH}:$PATH\n",
      "    antsRegistrationSyNQuick.sh -d 3 -m /home/mount/neuro-t01-ssd/home/amir/projects/segm/projects/WMH/data/Utr/Utrecht/27/pre/FLAIR.nii.gz -f /home/mount/neuro-t01-ssd/home/amir/projects/segm/projects/WMH/data/Sing/Singapore/54/pre/FLAIR.nii.gz -t s -o /home/mount/neuro-t01-ssd/home/amir/projects/segm/projects/WMH/data/registration_for_histograms/Utrecht_Singapore/27_54/\n",
      "docker run --rm     --name sk_strWarped.nii.gz     -v /home/mount/neuro-t01-ssd/home/amir/projects/segm/projects/WMH/data/registration_for_histograms/Utrecht_Singapore/27_69//:/input     brain_pipeline/frsrf_minc_fsl     bash -c \". /etc/fsl/5.0/fsl.sh     && bet /input/Warped.nii.gz /input/brainmask_Warped.nii.gz -m -n -f .4    \" \n",
      "docker run --rm     --name sk_strInverseWarped.nii.gz     -v /home/mount/neuro-t01-ssd/home/amir/projects/segm/projects/WMH/data/registration_for_histograms/Utrecht_Singapore/27_69//:/input     brain_pipeline/frsrf_minc_fsl     bash -c \". /etc/fsl/5.0/fsl.sh     && bet /input/InverseWarped.nii.gz /input/brainmask_InverseWarped.nii.gz -m -n -f .4    \" \n",
      "/home/mount/neuro-x02-hdd/WMHS_AUGM/Utrecht_27_Singapore_69\n",
      "export ANTSPATH=${HOME}/resnet_cnn_mri/ANTs/Scripts/\n",
      "    export PATH=${ANTSPATH}:$PATH\n",
      "    export ANTSPATH=${HOME}/resnet_cnn_mri/antsbin/bin\n",
      "    export PATH=${ANTSPATH}:$PATH\n",
      "    antsRegistrationSyNQuick.sh -d 3 -m /home/mount/neuro-t01-ssd/home/amir/projects/segm/projects/WMH/data/Utr/Utrecht/27/pre/FLAIR.nii.gz -f /home/mount/neuro-t01-ssd/home/amir/projects/segm/projects/WMH/data/Sing/Singapore/62/pre/FLAIR.nii.gz -t s -o /home/mount/neuro-t01-ssd/home/amir/projects/segm/projects/WMH/data/registration_for_histograms/Utrecht_Singapore/27_62/\n",
      "docker run --rm     --name sk_strWarped.nii.gz     -v /home/mount/neuro-t01-ssd/home/amir/projects/segm/projects/WMH/data/registration_for_histograms/Utrecht_Singapore/27_61//:/input     brain_pipeline/frsrf_minc_fsl     bash -c \". /etc/fsl/5.0/fsl.sh     && bet /input/Warped.nii.gz /input/brainmask_Warped.nii.gz -m -n -f .4    \" \n",
      "docker run --rm     --name sk_strInverseWarped.nii.gz     -v /home/mount/neuro-t01-ssd/home/amir/projects/segm/projects/WMH/data/registration_for_histograms/Utrecht_Singapore/27_61//:/input     brain_pipeline/frsrf_minc_fsl     bash -c \". /etc/fsl/5.0/fsl.sh     && bet /input/InverseWarped.nii.gz /input/brainmask_InverseWarped.nii.gz -m -n -f .4    \" \n",
      "/home/mount/neuro-x02-hdd/WMHS_AUGM/Utrecht_27_Singapore_61\n",
      "export ANTSPATH=${HOME}/resnet_cnn_mri/ANTs/Scripts/\n",
      "    export PATH=${ANTSPATH}:$PATH\n",
      "    export ANTSPATH=${HOME}/resnet_cnn_mri/antsbin/bin\n",
      "    export PATH=${ANTSPATH}:$PATH\n",
      "    antsRegistrationSyNQuick.sh -d 3 -m /home/mount/neuro-t01-ssd/home/amir/projects/segm/projects/WMH/data/Utr/Utrecht/27/pre/FLAIR.nii.gz -f /home/mount/neuro-t01-ssd/home/amir/projects/segm/projects/WMH/data/Sing/Singapore/52/pre/FLAIR.nii.gz -t s -o /home/mount/neuro-t01-ssd/home/amir/projects/segm/projects/WMH/data/registration_for_histograms/Utrecht_Singapore/27_52/\n",
      "docker run --rm     --name sk_strWarped.nii.gz     -v /home/mount/neuro-t01-ssd/home/amir/projects/segm/projects/WMH/data/registration_for_histograms/Utrecht_Singapore/27_55//:/input     brain_pipeline/frsrf_minc_fsl     bash -c \". /etc/fsl/5.0/fsl.sh     && bet /input/Warped.nii.gz /input/brainmask_Warped.nii.gz -m -n -f .4    \" \n",
      "docker run --rm     --name sk_strInverseWarped.nii.gz     -v /home/mount/neuro-t01-ssd/home/amir/projects/segm/projects/WMH/data/registration_for_histograms/Utrecht_Singapore/27_55//:/input     brain_pipeline/frsrf_minc_fsl     bash -c \". /etc/fsl/5.0/fsl.sh     && bet /input/InverseWarped.nii.gz /input/brainmask_InverseWarped.nii.gz -m -n -f .4    \" \n",
      "/home/mount/neuro-x02-hdd/WMHS_AUGM/Utrecht_27_Singapore_55\n",
      "export ANTSPATH=${HOME}/resnet_cnn_mri/ANTs/Scripts/\n",
      "    export PATH=${ANTSPATH}:$PATH\n",
      "    export ANTSPATH=${HOME}/resnet_cnn_mri/antsbin/bin\n",
      "    export PATH=${ANTSPATH}:$PATH\n",
      "    antsRegistrationSyNQuick.sh -d 3 -m /home/mount/neuro-t01-ssd/home/amir/projects/segm/projects/WMH/data/Utr/Utrecht/27/pre/FLAIR.nii.gz -f /home/mount/neuro-t01-ssd/home/amir/projects/segm/projects/WMH/data/Sing/Singapore/51/pre/FLAIR.nii.gz -t s -o /home/mount/neuro-t01-ssd/home/amir/projects/segm/projects/WMH/data/registration_for_histograms/Utrecht_Singapore/27_51/\n",
      "docker run --rm     --name sk_strWarped.nii.gz     -v /home/mount/neuro-t01-ssd/home/amir/projects/segm/projects/WMH/data/registration_for_histograms/Utrecht_Singapore/27_63//:/input     brain_pipeline/frsrf_minc_fsl     bash -c \". /etc/fsl/5.0/fsl.sh     && bet /input/Warped.nii.gz /input/brainmask_Warped.nii.gz -m -n -f .4    \" \n",
      "docker run --rm     --name sk_strInverseWarped.nii.gz     -v /home/mount/neuro-t01-ssd/home/amir/projects/segm/projects/WMH/data/registration_for_histograms/Utrecht_Singapore/27_63//:/input     brain_pipeline/frsrf_minc_fsl     bash -c \". /etc/fsl/5.0/fsl.sh     && bet /input/InverseWarped.nii.gz /input/brainmask_InverseWarped.nii.gz -m -n -f .4    \" \n",
      "/home/mount/neuro-x02-hdd/WMHS_AUGM/Utrecht_27_Singapore_63\n",
      "export ANTSPATH=${HOME}/resnet_cnn_mri/ANTs/Scripts/\n",
      "    export PATH=${ANTSPATH}:$PATH\n",
      "    export ANTSPATH=${HOME}/resnet_cnn_mri/antsbin/bin\n",
      "    export PATH=${ANTSPATH}:$PATH\n",
      "    antsRegistrationSyNQuick.sh -d 3 -m /home/mount/neuro-t01-ssd/home/amir/projects/segm/projects/WMH/data/Utr/Utrecht/27/pre/FLAIR.nii.gz -f /home/mount/neuro-t01-ssd/home/amir/projects/segm/projects/WMH/data/Sing/Singapore/57/pre/FLAIR.nii.gz -t s -o /home/mount/neuro-t01-ssd/home/amir/projects/segm/projects/WMH/data/registration_for_histograms/Utrecht_Singapore/27_57/\n",
      "docker run --rm     --name sk_strWarped.nii.gz     -v /home/mount/neuro-t01-ssd/home/amir/projects/segm/projects/WMH/data/registration_for_histograms/Utrecht_Singapore/27_62//:/input     brain_pipeline/frsrf_minc_fsl     bash -c \". /etc/fsl/5.0/fsl.sh     && bet /input/Warped.nii.gz /input/brainmask_Warped.nii.gz -m -n -f .4    \" \n",
      "docker run --rm     --name sk_strInverseWarped.nii.gz     -v /home/mount/neuro-t01-ssd/home/amir/projects/segm/projects/WMH/data/registration_for_histograms/Utrecht_Singapore/27_62//:/input     brain_pipeline/frsrf_minc_fsl     bash -c \". /etc/fsl/5.0/fsl.sh     && bet /input/InverseWarped.nii.gz /input/brainmask_InverseWarped.nii.gz -m -n -f .4    \" \n",
      "/home/mount/neuro-x02-hdd/WMHS_AUGM/Utrecht_27_Singapore_62\n",
      "export ANTSPATH=${HOME}/resnet_cnn_mri/ANTs/Scripts/\n",
      "    export PATH=${ANTSPATH}:$PATH\n",
      "    export ANTSPATH=${HOME}/resnet_cnn_mri/antsbin/bin\n",
      "    export PATH=${ANTSPATH}:$PATH\n",
      "    antsRegistrationSyNQuick.sh -d 3 -m /home/mount/neuro-t01-ssd/home/amir/projects/segm/projects/WMH/data/Utr/Utrecht/27/pre/FLAIR.nii.gz -f /home/mount/neuro-t01-ssd/home/amir/projects/segm/projects/WMH/data/Sing/Singapore/56/pre/FLAIR.nii.gz -t s -o /home/mount/neuro-t01-ssd/home/amir/projects/segm/projects/WMH/data/registration_for_histograms/Utrecht_Singapore/27_56/\n",
      "docker run --rm     --name sk_strWarped.nii.gz     -v /home/mount/neuro-t01-ssd/home/amir/projects/segm/projects/WMH/data/registration_for_histograms/Utrecht_Singapore/27_54//:/input     brain_pipeline/frsrf_minc_fsl     bash -c \". /etc/fsl/5.0/fsl.sh     && bet /input/Warped.nii.gz /input/brainmask_Warped.nii.gz -m -n -f .4    \" \n",
      "docker run --rm     --name sk_strInverseWarped.nii.gz     -v /home/mount/neuro-t01-ssd/home/amir/projects/segm/projects/WMH/data/registration_for_histograms/Utrecht_Singapore/27_54//:/input     brain_pipeline/frsrf_minc_fsl     bash -c \". /etc/fsl/5.0/fsl.sh     && bet /input/InverseWarped.nii.gz /input/brainmask_InverseWarped.nii.gz -m -n -f .4    \" \n",
      "/home/mount/neuro-x02-hdd/WMHS_AUGM/Utrecht_27_Singapore_54\n",
      "export ANTSPATH=${HOME}/resnet_cnn_mri/ANTs/Scripts/\n",
      "    export PATH=${ANTSPATH}:$PATH\n",
      "    export ANTSPATH=${HOME}/resnet_cnn_mri/antsbin/bin\n",
      "    export PATH=${ANTSPATH}:$PATH\n",
      "    antsRegistrationSyNQuick.sh -d 3 -m /home/mount/neuro-t01-ssd/home/amir/projects/segm/projects/WMH/data/Utr/Utrecht/33/pre/FLAIR.nii.gz -f /home/mount/neuro-t01-ssd/home/amir/projects/segm/projects/WMH/data/Sing/Singapore/60/pre/FLAIR.nii.gz -t s -o /home/mount/neuro-t01-ssd/home/amir/projects/segm/projects/WMH/data/registration_for_histograms/Utrecht_Singapore/33_60/\n",
      "docker run --rm     --name sk_strWarped.nii.gz     -v /home/mount/neuro-t01-ssd/home/amir/projects/segm/projects/WMH/data/registration_for_histograms/Utrecht_Singapore/27_52//:/input     brain_pipeline/frsrf_minc_fsl     bash -c \". /etc/fsl/5.0/fsl.sh     && bet /input/Warped.nii.gz /input/brainmask_Warped.nii.gz -m -n -f .4    \" \n",
      "docker run --rm     --name sk_strInverseWarped.nii.gz     -v /home/mount/neuro-t01-ssd/home/amir/projects/segm/projects/WMH/data/registration_for_histograms/Utrecht_Singapore/27_52//:/input     brain_pipeline/frsrf_minc_fsl     bash -c \". /etc/fsl/5.0/fsl.sh     && bet /input/InverseWarped.nii.gz /input/brainmask_InverseWarped.nii.gz -m -n -f .4    \" \n",
      "/home/mount/neuro-x02-hdd/WMHS_AUGM/Utrecht_27_Singapore_52\n",
      "export ANTSPATH=${HOME}/resnet_cnn_mri/ANTs/Scripts/\n",
      "    export PATH=${ANTSPATH}:$PATH\n",
      "    export ANTSPATH=${HOME}/resnet_cnn_mri/antsbin/bin\n",
      "    export PATH=${ANTSPATH}:$PATH\n",
      "    antsRegistrationSyNQuick.sh -d 3 -m /home/mount/neuro-t01-ssd/home/amir/projects/segm/projects/WMH/data/Utr/Utrecht/33/pre/FLAIR.nii.gz -f /home/mount/neuro-t01-ssd/home/amir/projects/segm/projects/WMH/data/Sing/Singapore/55/pre/FLAIR.nii.gz -t s -o /home/mount/neuro-t01-ssd/home/amir/projects/segm/projects/WMH/data/registration_for_histograms/Utrecht_Singapore/33_55/\n",
      "docker run --rm     --name sk_strWarped.nii.gz     -v /home/mount/neuro-t01-ssd/home/amir/projects/segm/projects/WMH/data/registration_for_histograms/Utrecht_Singapore/27_51//:/input     brain_pipeline/frsrf_minc_fsl     bash -c \". /etc/fsl/5.0/fsl.sh     && bet /input/Warped.nii.gz /input/brainmask_Warped.nii.gz -m -n -f .4    \" \n",
      "docker run --rm     --name sk_strInverseWarped.nii.gz     -v /home/mount/neuro-t01-ssd/home/amir/projects/segm/projects/WMH/data/registration_for_histograms/Utrecht_Singapore/27_51//:/input     brain_pipeline/frsrf_minc_fsl     bash -c \". /etc/fsl/5.0/fsl.sh     && bet /input/InverseWarped.nii.gz /input/brainmask_InverseWarped.nii.gz -m -n -f .4    \" \n",
      "/home/mount/neuro-x02-hdd/WMHS_AUGM/Utrecht_27_Singapore_51\n",
      "export ANTSPATH=${HOME}/resnet_cnn_mri/ANTs/Scripts/\n",
      "    export PATH=${ANTSPATH}:$PATH\n",
      "    export ANTSPATH=${HOME}/resnet_cnn_mri/antsbin/bin\n",
      "    export PATH=${ANTSPATH}:$PATH\n",
      "    antsRegistrationSyNQuick.sh -d 3 -m /home/mount/neuro-t01-ssd/home/amir/projects/segm/projects/WMH/data/Utr/Utrecht/33/pre/FLAIR.nii.gz -f /home/mount/neuro-t01-ssd/home/amir/projects/segm/projects/WMH/data/Sing/Singapore/61/pre/FLAIR.nii.gz -t s -o /home/mount/neuro-t01-ssd/home/amir/projects/segm/projects/WMH/data/registration_for_histograms/Utrecht_Singapore/33_61/\n",
      "docker run --rm     --name sk_strWarped.nii.gz     -v /home/mount/neuro-t01-ssd/home/amir/projects/segm/projects/WMH/data/registration_for_histograms/Utrecht_Singapore/27_57//:/input     brain_pipeline/frsrf_minc_fsl     bash -c \". /etc/fsl/5.0/fsl.sh     && bet /input/Warped.nii.gz /input/brainmask_Warped.nii.gz -m -n -f .4    \" \n",
      "docker run --rm     --name sk_strInverseWarped.nii.gz     -v /home/mount/neuro-t01-ssd/home/amir/projects/segm/projects/WMH/data/registration_for_histograms/Utrecht_Singapore/27_57//:/input     brain_pipeline/frsrf_minc_fsl     bash -c \". /etc/fsl/5.0/fsl.sh     && bet /input/InverseWarped.nii.gz /input/brainmask_InverseWarped.nii.gz -m -n -f .4    \" \n",
      "/home/mount/neuro-x02-hdd/WMHS_AUGM/Utrecht_27_Singapore_57\n",
      "export ANTSPATH=${HOME}/resnet_cnn_mri/ANTs/Scripts/\n",
      "    export PATH=${ANTSPATH}:$PATH\n",
      "    export ANTSPATH=${HOME}/resnet_cnn_mri/antsbin/bin\n",
      "    export PATH=${ANTSPATH}:$PATH\n",
      "    antsRegistrationSyNQuick.sh -d 3 -m /home/mount/neuro-t01-ssd/home/amir/projects/segm/projects/WMH/data/Utr/Utrecht/27/pre/FLAIR.nii.gz -f /home/mount/neuro-t01-ssd/home/amir/projects/segm/projects/WMH/data/Sing/Singapore/50/pre/FLAIR.nii.gz -t s -o /home/mount/neuro-t01-ssd/home/amir/projects/segm/projects/WMH/data/registration_for_histograms/Utrecht_Singapore/27_50/\n",
      "docker run --rm     --name sk_strWarped.nii.gz     -v /home/mount/neuro-t01-ssd/home/amir/projects/segm/projects/WMH/data/registration_for_histograms/Utrecht_Singapore/27_56//:/input     brain_pipeline/frsrf_minc_fsl     bash -c \". /etc/fsl/5.0/fsl.sh     && bet /input/Warped.nii.gz /input/brainmask_Warped.nii.gz -m -n -f .4    \" \n",
      "docker run --rm     --name sk_strInverseWarped.nii.gz     -v /home/mount/neuro-t01-ssd/home/amir/projects/segm/projects/WMH/data/registration_for_histograms/Utrecht_Singapore/27_56//:/input     brain_pipeline/frsrf_minc_fsl     bash -c \". /etc/fsl/5.0/fsl.sh     && bet /input/InverseWarped.nii.gz /input/brainmask_InverseWarped.nii.gz -m -n -f .4    \" \n",
      "/home/mount/neuro-x02-hdd/WMHS_AUGM/Utrecht_27_Singapore_56\n",
      "export ANTSPATH=${HOME}/resnet_cnn_mri/ANTs/Scripts/\n",
      "    export PATH=${ANTSPATH}:$PATH\n",
      "    export ANTSPATH=${HOME}/resnet_cnn_mri/antsbin/bin\n",
      "    export PATH=${ANTSPATH}:$PATH\n",
      "    antsRegistrationSyNQuick.sh -d 3 -m /home/mount/neuro-t01-ssd/home/amir/projects/segm/projects/WMH/data/Utr/Utrecht/27/pre/FLAIR.nii.gz -f /home/mount/neuro-t01-ssd/home/amir/projects/segm/projects/WMH/data/Sing/Singapore/53/pre/FLAIR.nii.gz -t s -o /home/mount/neuro-t01-ssd/home/amir/projects/segm/projects/WMH/data/registration_for_histograms/Utrecht_Singapore/27_53/\n",
      "docker run --rm     --name sk_strWarped.nii.gz     -v /home/mount/neuro-t01-ssd/home/amir/projects/segm/projects/WMH/data/registration_for_histograms/Utrecht_Singapore/33_55//:/input     brain_pipeline/frsrf_minc_fsl     bash -c \". /etc/fsl/5.0/fsl.sh     && bet /input/Warped.nii.gz /input/brainmask_Warped.nii.gz -m -n -f .4    \" \n",
      "docker run --rm     --name sk_strInverseWarped.nii.gz     -v /home/mount/neuro-t01-ssd/home/amir/projects/segm/projects/WMH/data/registration_for_histograms/Utrecht_Singapore/33_55//:/input     brain_pipeline/frsrf_minc_fsl     bash -c \". /etc/fsl/5.0/fsl.sh     && bet /input/InverseWarped.nii.gz /input/brainmask_InverseWarped.nii.gz -m -n -f .4    \" \n",
      "/home/mount/neuro-x02-hdd/WMHS_AUGM/Utrecht_33_Singapore_55\n",
      "export ANTSPATH=${HOME}/resnet_cnn_mri/ANTs/Scripts/\n",
      "    export PATH=${ANTSPATH}:$PATH\n",
      "    export ANTSPATH=${HOME}/resnet_cnn_mri/antsbin/bin\n",
      "    export PATH=${ANTSPATH}:$PATH\n",
      "    antsRegistrationSyNQuick.sh -d 3 -m /home/mount/neuro-t01-ssd/home/amir/projects/segm/projects/WMH/data/Utr/Utrecht/33/pre/FLAIR.nii.gz -f /home/mount/neuro-t01-ssd/home/amir/projects/segm/projects/WMH/data/Sing/Singapore/51/pre/FLAIR.nii.gz -t s -o /home/mount/neuro-t01-ssd/home/amir/projects/segm/projects/WMH/data/registration_for_histograms/Utrecht_Singapore/33_51/\n",
      "docker run --rm     --name sk_strWarped.nii.gz     -v /home/mount/neuro-t01-ssd/home/amir/projects/segm/projects/WMH/data/registration_for_histograms/Utrecht_Singapore/33_60//:/input     brain_pipeline/frsrf_minc_fsl     bash -c \". /etc/fsl/5.0/fsl.sh     && bet /input/Warped.nii.gz /input/brainmask_Warped.nii.gz -m -n -f .4    \" \n",
      "docker run --rm     --name sk_strInverseWarped.nii.gz     -v /home/mount/neuro-t01-ssd/home/amir/projects/segm/projects/WMH/data/registration_for_histograms/Utrecht_Singapore/33_60//:/input     brain_pipeline/frsrf_minc_fsl     bash -c \". /etc/fsl/5.0/fsl.sh     && bet /input/InverseWarped.nii.gz /input/brainmask_InverseWarped.nii.gz -m -n -f .4    \" \n",
      "/home/mount/neuro-x02-hdd/WMHS_AUGM/Utrecht_33_Singapore_60\n",
      "export ANTSPATH=${HOME}/resnet_cnn_mri/ANTs/Scripts/\n",
      "    export PATH=${ANTSPATH}:$PATH\n",
      "    export ANTSPATH=${HOME}/resnet_cnn_mri/antsbin/bin\n",
      "    export PATH=${ANTSPATH}:$PATH\n",
      "    antsRegistrationSyNQuick.sh -d 3 -m /home/mount/neuro-t01-ssd/home/amir/projects/segm/projects/WMH/data/Utr/Utrecht/33/pre/FLAIR.nii.gz -f /home/mount/neuro-t01-ssd/home/amir/projects/segm/projects/WMH/data/Sing/Singapore/54/pre/FLAIR.nii.gz -t s -o /home/mount/neuro-t01-ssd/home/amir/projects/segm/projects/WMH/data/registration_for_histograms/Utrecht_Singapore/33_54/\n",
      "docker run --rm     --name sk_strWarped.nii.gz     -v /home/mount/neuro-t01-ssd/home/amir/projects/segm/projects/WMH/data/registration_for_histograms/Utrecht_Singapore/33_61//:/input     brain_pipeline/frsrf_minc_fsl     bash -c \". /etc/fsl/5.0/fsl.sh     && bet /input/Warped.nii.gz /input/brainmask_Warped.nii.gz -m -n -f .4    \" \n",
      "docker run --rm     --name sk_strInverseWarped.nii.gz     -v /home/mount/neuro-t01-ssd/home/amir/projects/segm/projects/WMH/data/registration_for_histograms/Utrecht_Singapore/33_61//:/input     brain_pipeline/frsrf_minc_fsl     bash -c \". /etc/fsl/5.0/fsl.sh     && bet /input/InverseWarped.nii.gz /input/brainmask_InverseWarped.nii.gz -m -n -f .4    \" \n",
      "/home/mount/neuro-x02-hdd/WMHS_AUGM/Utrecht_33_Singapore_61\n",
      "export ANTSPATH=${HOME}/resnet_cnn_mri/ANTs/Scripts/\n",
      "    export PATH=${ANTSPATH}:$PATH\n",
      "    export ANTSPATH=${HOME}/resnet_cnn_mri/antsbin/bin\n",
      "    export PATH=${ANTSPATH}:$PATH\n",
      "    antsRegistrationSyNQuick.sh -d 3 -m /home/mount/neuro-t01-ssd/home/amir/projects/segm/projects/WMH/data/Utr/Utrecht/33/pre/FLAIR.nii.gz -f /home/mount/neuro-t01-ssd/home/amir/projects/segm/projects/WMH/data/Sing/Singapore/52/pre/FLAIR.nii.gz -t s -o /home/mount/neuro-t01-ssd/home/amir/projects/segm/projects/WMH/data/registration_for_histograms/Utrecht_Singapore/33_52/\n"
     ]
    }
   ],
   "source": [
    "with Pool(5) as pool: #cpu_count() - 2 or 1\n",
    "    result = pool.map(get_data_for_hist, tmp_arr[0:50])\n",
    "    print(np.sum(result))\n",
    "    with open('output.txt', 'a') as f:\n",
    "        f.write(str(sum(result)))\n",
    "        f.write('\\n')"
   ]
  },
  {
   "cell_type": "code",
   "execution_count": null,
   "metadata": {
    "collapsed": false
   },
   "outputs": [],
   "source": []
  },
  {
   "cell_type": "raw",
   "metadata": {
    "collapsed": true
   },
   "source": [
    "rm -rf /home/mount/neuro-x02-hdd/WMHS_AUGM/*"
   ]
  },
  {
   "cell_type": "raw",
   "metadata": {
    "collapsed": true
   },
   "source": [
    "!rm -rf $path_to_registration/*"
   ]
  },
  {
   "cell_type": "code",
   "execution_count": null,
   "metadata": {
    "collapsed": false
   },
   "outputs": [],
   "source": [
    "!ls $path_to_registration/"
   ]
  },
  {
   "cell_type": "code",
   "execution_count": null,
   "metadata": {
    "collapsed": false
   },
   "outputs": [],
   "source": [
    "ls /home/mount/neuro-x02-hdd/WMHS_AUGM/*"
   ]
  },
  {
   "cell_type": "code",
   "execution_count": null,
   "metadata": {
    "collapsed": false
   },
   "outputs": [],
   "source": [
    "!ls -la /home/mount/neuro-x02-hdd/WMHS_AUGM"
   ]
  },
  {
   "cell_type": "code",
   "execution_count": null,
   "metadata": {
    "collapsed": true
   },
   "outputs": [],
   "source": []
  }
 ],
 "metadata": {
  "kernelspec": {
   "display_name": "Python 3",
   "language": "python",
   "name": "python3"
  },
  "language_info": {
   "codemirror_mode": {
    "name": "ipython",
    "version": 3
   },
   "file_extension": ".py",
   "mimetype": "text/x-python",
   "name": "python",
   "nbconvert_exporter": "python",
   "pygments_lexer": "ipython3",
   "version": "3.6.0"
  }
 },
 "nbformat": 4,
 "nbformat_minor": 2
}
