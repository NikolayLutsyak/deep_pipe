{
 "cells": [
  {
   "cell_type": "raw",
   "metadata": {},
   "source": [
    "первая партия была сделана так\n",
    "\n",
    "antsRegistrationSyNQuick.sh -d 3 -m ../Utr/Utrecht/17/pre/FLAIR.nii.gz \\\n",
    "-f ../Amst/GE3T/100/pre/FLAIR.nii.gz -t s -o patient_name_17_to_100  \n",
    "\n",
    "docker run --rm \\\n",
    "    --name sk_strip_17 \\\n",
    "    -v /home/mount/neuro-t01-ssd/home/amir/projects/segm/projects/WMH/data/trash:/input \\\n",
    "    brain_pipeline/frsrf_minc_fsl \\\n",
    "    bash -c \". /etc/fsl/5.0/fsl.sh \\\n",
    "    && bet /input/patient_name_17_to_100Warped.nii.gz /input/brainmask.nii -m -n -f .4\\"
   ]
  },
  {
   "cell_type": "raw",
   "metadata": {
    "collapsed": true
   },
   "source": [
    "export ANTSPATH=${HOME}/resnet_cnn_mri/antsbin/bin\n",
    "export PATH=${ANTSPATH}:$PATH"
   ]
  },
  {
   "cell_type": "raw",
   "metadata": {
    "collapsed": true
   },
   "source": [
    "img='../Utr/Utrecht/17/pre/FLAIR.nii.gz'\n",
    "toImg='../Amst/GE3T/100/pre/FLAIR.nii.gz'\n",
    "patientName='patientName17_to_100'\n",
    "\n",
    "antsRegistrationSyNQuick.sh -d 3 -m ${img} \\\n",
    "-f ${toImg} -t s -o ${patientName}"
   ]
  },
  {
   "cell_type": "raw",
   "metadata": {
    "collapsed": true
   },
   "source": [
    "pathToFolder='/home/mount/neuro-t01-ssd/home/amir/projects/segm/projects/WMH/data/trash'"
   ]
  },
  {
   "cell_type": "raw",
   "metadata": {
    "collapsed": true
   },
   "source": [
    "docker run --rm \\\n",
    "--name sk_strip \\\n",
    "-v ${pathToFolder}:/input \\\n",
    "brain_pipeline/frsrf_minc_fsl \\\n",
    "bash -c \". /etc/fsl/5.0/fsl.sh \\\n",
    "&& bet /input/${patientName}Warped.nii.gz /input/brainmask.nii -m -n -f .4\\ \""
   ]
  },
  {
   "cell_type": "markdown",
   "metadata": {},
   "source": [
    "_____"
   ]
  },
  {
   "cell_type": "markdown",
   "metadata": {},
   "source": [
    "# Registration "
   ]
  },
  {
   "cell_type": "code",
   "execution_count": 1,
   "metadata": {
    "collapsed": true
   },
   "outputs": [],
   "source": [
    "import os\n",
    "import shutil\n",
    "from itertools import combinations\n",
    "from subprocess import Popen, PIPE\n",
    "from multiprocessing import Pool, cpu_count\n",
    "\n",
    "import numpy as np\n",
    "import pandas as pd"
   ]
  },
  {
   "cell_type": "raw",
   "metadata": {},
   "source": [
    "%%sh\n",
    "export ANTSPATH=${HOME}/resnet_cnn_mri/ANTs/Scripts/\n",
    "export PATH=${ANTSPATH}:$PATH\n",
    "    \n",
    "export ANTSPATH=${HOME}/resnet_cnn_mri/antsbin/bin\n",
    "export PATH=${ANTSPATH}:$PATH"
   ]
  },
  {
   "cell_type": "code",
   "execution_count": 2,
   "metadata": {
    "collapsed": true
   },
   "outputs": [],
   "source": [
    "def run_docker(cmd, container_name):  \n",
    "    try:\n",
    "        proc = Popen(cmd, shell=True, stdout=PIPE, stderr=PIPE)\n",
    "        _ = proc.wait()\n",
    "        if _!=0:\n",
    "            #print(proc.communicate())\n",
    "            print(proc.stdout())\n",
    "            return False\n",
    "    except Exception as e:\n",
    "        print (proc.communicate())\n",
    "        print (e)\n",
    "        proc_kill = Popen('docker stop '+ container_name, shell=True, stdout=PIPE)\n",
    "        proc_kill.wait()\n",
    "        proc_kill = Popen('docker rm ' + container_name, shell=True, stdout=PIPE)\n",
    "        proc_kill.wait()\n",
    "        proc.kill()\n",
    "        return False\n",
    "    return True"
   ]
  },
  {
   "cell_type": "code",
   "execution_count": 3,
   "metadata": {
    "collapsed": true
   },
   "outputs": [],
   "source": [
    "DOCKER_NAME = 'brain_pipeline/frsrf_minc_fsl'\n",
    "\n",
    "def bet_brain_mask(docker_container_name, path_to_sourse, file_name):\n",
    "    return '''docker run --rm \\\n",
    "    --name {1} \\\n",
    "    -v {2}:/input \\\n",
    "    {0} \\\n",
    "    bash -c \". /etc/fsl/5.0/fsl.sh \\\n",
    "    && bet /input/{3} /input/brainmask_{3} -m -n -f .4\\\n",
    "    \" '''.format(DOCKER_NAME, # 0\n",
    "                 docker_container_name, # 1\n",
    "                 path_to_sourse, # 2\n",
    "                 file_name # 3\n",
    "                 )"
   ]
  },
  {
   "cell_type": "code",
   "execution_count": 4,
   "metadata": {
    "collapsed": true
   },
   "outputs": [],
   "source": [
    "def reg_command(img, toImg, patientName):\n",
    "    imports='''export ANTSPATH=${HOME}/resnet_cnn_mri/ANTs/Scripts/\n",
    "    export PATH=${ANTSPATH}:$PATH\n",
    "    export ANTSPATH=${HOME}/resnet_cnn_mri/antsbin/bin\n",
    "    export PATH=${ANTSPATH}:$PATH\n",
    "    '''\n",
    "    s = '''antsRegistrationSyNQuick.sh -d 3 -m {0} -f {1} -t s -o {2} && chmod -R 777 {2}'''\n",
    "    return imports+s.format(img, toImg, patientName)"
   ]
  },
  {
   "cell_type": "markdown",
   "metadata": {},
   "source": [
    "____-"
   ]
  },
  {
   "cell_type": "code",
   "execution_count": 5,
   "metadata": {
    "collapsed": true
   },
   "outputs": [],
   "source": [
    "HOME = '/home/mount/neuro-t01-ssd/home/amir/'\n",
    "path_to_registration = os.path.join(HOME, 'projects/segm/projects/WMH/data/registration_for_histograms')\n",
    "path_to_save = '/home/mount/neuro-x02-hdd/WMHS_AUGM/'"
   ]
  },
  {
   "cell_type": "code",
   "execution_count": 6,
   "metadata": {},
   "outputs": [],
   "source": [
    "meta = pd.DataFrame()\n",
    "university = []\n",
    "path = []\n",
    "path_to_mask = []\n",
    "idx = []\n",
    "path_br_mask = '../data/skull_stripping'\n",
    "PATHS = ['../data/Utr/Utrecht/', '../data/Sing/Singapore/', '../data/Amst/GE3T/']\n",
    "\n",
    "for PATH in PATHS:\n",
    "    for i in os.listdir(PATH):\n",
    "        university.append(PATH.split('/')[-2])\n",
    "        idx.append(i)\n",
    "        path_to_brain_mask = os.path.join(path_br_mask, PATH.split('/')[-2], i, \n",
    "                                          'brain_mask/brainmask_mask.nii.gz')\n",
    "        path_for_wmhm = os.path.join(PATH, i, 'pre/FLAIR.nii.gz')\n",
    "        path_for_wmhm = os.path.abspath(path_for_wmhm)\n",
    "        path_to_mask.append(path_to_brain_mask)\n",
    "        path.append(path_for_wmhm)\n",
    "meta['idx'] = idx\n",
    "meta[\"univ\"] = university\n",
    "meta['path_flair'] = path\n",
    "meta['path_mask'] = path_to_mask"
   ]
  },
  {
   "cell_type": "code",
   "execution_count": 7,
   "metadata": {},
   "outputs": [
    {
     "data": {
      "text/html": [
       "<div>\n",
       "<table border=\"1\" class=\"dataframe\">\n",
       "  <thead>\n",
       "    <tr style=\"text-align: right;\">\n",
       "      <th></th>\n",
       "      <th>idx</th>\n",
       "      <th>univ</th>\n",
       "      <th>path_flair</th>\n",
       "      <th>path_mask</th>\n",
       "    </tr>\n",
       "  </thead>\n",
       "  <tbody>\n",
       "    <tr>\n",
       "      <th>23</th>\n",
       "      <td>58</td>\n",
       "      <td>Singapore</td>\n",
       "      <td>/home/mount/neuro-t01-ssd/home/amir/projects/s...</td>\n",
       "      <td>../data/skull_stripping/Singapore/58/brain_mas...</td>\n",
       "    </tr>\n",
       "    <tr>\n",
       "      <th>8</th>\n",
       "      <td>39</td>\n",
       "      <td>Utrecht</td>\n",
       "      <td>/home/mount/neuro-t01-ssd/home/amir/projects/s...</td>\n",
       "      <td>../data/skull_stripping/Utrecht/39/brain_mask/...</td>\n",
       "    </tr>\n",
       "    <tr>\n",
       "      <th>30</th>\n",
       "      <td>69</td>\n",
       "      <td>Singapore</td>\n",
       "      <td>/home/mount/neuro-t01-ssd/home/amir/projects/s...</td>\n",
       "      <td>../data/skull_stripping/Singapore/69/brain_mas...</td>\n",
       "    </tr>\n",
       "    <tr>\n",
       "      <th>25</th>\n",
       "      <td>51</td>\n",
       "      <td>Singapore</td>\n",
       "      <td>/home/mount/neuro-t01-ssd/home/amir/projects/s...</td>\n",
       "      <td>../data/skull_stripping/Singapore/51/brain_mas...</td>\n",
       "    </tr>\n",
       "  </tbody>\n",
       "</table>\n",
       "</div>"
      ],
      "text/plain": [
       "   idx       univ                                         path_flair  \\\n",
       "23  58  Singapore  /home/mount/neuro-t01-ssd/home/amir/projects/s...   \n",
       "8   39    Utrecht  /home/mount/neuro-t01-ssd/home/amir/projects/s...   \n",
       "30  69  Singapore  /home/mount/neuro-t01-ssd/home/amir/projects/s...   \n",
       "25  51  Singapore  /home/mount/neuro-t01-ssd/home/amir/projects/s...   \n",
       "\n",
       "                                            path_mask  \n",
       "23  ../data/skull_stripping/Singapore/58/brain_mas...  \n",
       "8   ../data/skull_stripping/Utrecht/39/brain_mask/...  \n",
       "30  ../data/skull_stripping/Singapore/69/brain_mas...  \n",
       "25  ../data/skull_stripping/Singapore/51/brain_mas...  "
      ]
     },
     "execution_count": 7,
     "metadata": {},
     "output_type": "execute_result"
    }
   ],
   "source": [
    "# сделали метадату со всеми путями\n",
    "\n",
    "meta.sample(4)"
   ]
  },
  {
   "cell_type": "code",
   "execution_count": 8,
   "metadata": {},
   "outputs": [],
   "source": [
    "# список попарных регистраций\n",
    "tmp_arr = []\n",
    "for univ1, univ2 in combinations(meta.univ.unique(), 2):\n",
    "    for first in meta[meta.univ==univ1].values:\n",
    "        for second in meta[meta.univ==univ2].values:\n",
    "            img_path, univ, idx, to_img_path, univ_to, idx_to=\\\n",
    "            first[2], first[1], first[0], second[2], second[1], second[0]\n",
    "            tmp_arr.append((img_path, univ, idx, to_img_path, univ_to, idx_to))"
   ]
  },
  {
   "cell_type": "code",
   "execution_count": 9,
   "metadata": {},
   "outputs": [
    {
     "data": {
      "text/plain": [
       "1200"
      ]
     },
     "execution_count": 9,
     "metadata": {},
     "output_type": "execute_result"
    }
   ],
   "source": [
    "len(tmp_arr)"
   ]
  },
  {
   "cell_type": "code",
   "execution_count": 10,
   "metadata": {},
   "outputs": [],
   "source": [
    "def registration_from_to(img_path, univ, idx, to_img_path, univ_to, idx_to):\n",
    "    \"\"\"\n",
    "    Pair coregistration.\n",
    "    \"\"\"\n",
    "    path = os.path.join(path_to_registration, univ+'_'+univ_to)\n",
    "    if not os.path.exists(path):\n",
    "        try:\n",
    "            os.makedirs(path, mode=0o777)\n",
    "        except Exception:\n",
    "            pass\n",
    "    path_to_save = os.path.join(path, idx+'_'+idx_to+'/')\n",
    "    if not os.path.exists(path_to_save):\n",
    "        try:\n",
    "            os.makedirs(path_to_save, mode=0o777)\n",
    "        except Exception:\n",
    "            pass\n",
    "    cmd = reg_command(img_path, to_img_path, path_to_save)\n",
    "    print (cmd)\n",
    "    try:\n",
    "        proc = Popen(cmd, shell=True, stdout=PIPE, stderr=PIPE)\n",
    "        a = proc.wait()\n",
    "        if a!=0:\n",
    "            print(proc.communicate())\n",
    "            return False\n",
    "    except Exception as e:\n",
    "        print (proc.communicate())\n",
    "        print (e)\n",
    "    return path_to_save"
   ]
  },
  {
   "cell_type": "code",
   "execution_count": 11,
   "metadata": {
    "collapsed": true
   },
   "outputs": [],
   "source": [
    "def get_rnd_string():\n",
    "    import string\n",
    "    import random\n",
    "    return ''.join(random.choice(string.ascii_uppercase + string.digits) for _ in range(10))"
   ]
  },
  {
   "cell_type": "code",
   "execution_count": 12,
   "metadata": {
    "collapsed": true
   },
   "outputs": [],
   "source": [
    "def skull_strip_for(path_to_sourse, file_name):\n",
    "    '''\n",
    "    For new registered img apply skull stripping.\n",
    "    '''\n",
    "    docker_container_name = get_rnd_string() #'sk_str' + str(path_to_sourse)[5:] + str(file_name)[:5]\n",
    "    cmd = bet_brain_mask(docker_container_name, path_to_sourse, file_name)\n",
    "    print(cmd)\n",
    "    _ = run_docker(cmd, docker_container_name)\n",
    "    return _"
   ]
  },
  {
   "cell_type": "markdown",
   "metadata": {
    "collapsed": true
   },
   "source": [
    "______"
   ]
  },
  {
   "cell_type": "code",
   "execution_count": 13,
   "metadata": {
    "collapsed": true
   },
   "outputs": [],
   "source": [
    "## Запуск на многих процессах;"
   ]
  },
  {
   "cell_type": "code",
   "execution_count": 14,
   "metadata": {
    "collapsed": true
   },
   "outputs": [],
   "source": [
    "def get_data_for_hist(meta):\n",
    "    \"\"\"\n",
    "    Main function for registration, skull stripping, \n",
    "    and some file manipulations.\n",
    "    \"\"\"\n",
    "    path = registration_from_to(*meta)\n",
    "    print(path)\n",
    "    if path:\n",
    "        skull_strip_for(path+'/', 'Warped.nii.gz')\n",
    "        skull_strip_for(path+'/', 'InverseWarped.nii.gz')\n",
    "    p = np.array(meta)[[1,2,4,5]]\n",
    "    p = '_'.join(p)\n",
    "    print (path_to_save+p)\n",
    "    shutil.copytree(path, path_to_save+p)\n",
    "    shutil.rmtree(path)\n",
    "    return True"
   ]
  },
  {
   "cell_type": "code",
   "execution_count": 36,
   "metadata": {},
   "outputs": [
    {
     "data": {
      "text/plain": [
       "[('/home/mount/neuro-t01-ssd/home/amir/projects/segm/projects/WMH/data/Sing/Singapore/68/pre/FLAIR.nii.gz',\n",
       "  'Singapore',\n",
       "  '68',\n",
       "  '/home/mount/neuro-t01-ssd/home/amir/projects/segm/projects/WMH/data/Amst/GE3T/108/pre/FLAIR.nii.gz',\n",
       "  'GE3T',\n",
       "  '108'),\n",
       " ('/home/mount/neuro-t01-ssd/home/amir/projects/segm/projects/WMH/data/Sing/Singapore/68/pre/FLAIR.nii.gz',\n",
       "  'Singapore',\n",
       "  '68',\n",
       "  '/home/mount/neuro-t01-ssd/home/amir/projects/segm/projects/WMH/data/Amst/GE3T/113/pre/FLAIR.nii.gz',\n",
       "  'GE3T',\n",
       "  '113')]"
      ]
     },
     "execution_count": 36,
     "metadata": {},
     "output_type": "execute_result"
    }
   ],
   "source": [
    "tmp_arr[810:812]"
   ]
  },
  {
   "cell_type": "code",
   "execution_count": null,
   "metadata": {
    "collapsed": true
   },
   "outputs": [],
   "source": []
  },
  {
   "cell_type": "code",
   "execution_count": null,
   "metadata": {
    "collapsed": true
   },
   "outputs": [],
   "source": [
    "# cpu_count() - 2 or 1\n",
    "with Pool(5) as pool:\n",
    "    result = pool.map(get_data_for_hist, tmp_arr[0:20])\n",
    "    print(np.sum(result))\n",
    "    with open('output.txt', 'a') as f:\n",
    "        f.write(str(sum(result)))\n",
    "        f.write('\\n')"
   ]
  },
  {
   "cell_type": "markdown",
   "metadata": {
    "collapsed": true
   },
   "source": [
    "_______"
   ]
  },
  {
   "cell_type": "raw",
   "metadata": {
    "collapsed": true
   },
   "source": [
    "rm -rf /home/mount/neuro-x02-hdd/WMHS_AUGM/*"
   ]
  },
  {
   "cell_type": "raw",
   "metadata": {
    "collapsed": true
   },
   "source": [
    "!rm -rf $path_to_registration/*"
   ]
  },
  {
   "cell_type": "code",
   "execution_count": null,
   "metadata": {
    "collapsed": true
   },
   "outputs": [],
   "source": [
    "!ls $path_to_registration/* | wc -l"
   ]
  },
  {
   "cell_type": "code",
   "execution_count": null,
   "metadata": {
    "collapsed": true
   },
   "outputs": [],
   "source": [
    "ls /home/mount/neuro-x02-hdd/WMHS_AUGM/*"
   ]
  },
  {
   "cell_type": "code",
   "execution_count": null,
   "metadata": {
    "collapsed": true
   },
   "outputs": [],
   "source": []
  }
 ],
 "metadata": {
  "kernelspec": {
   "display_name": "Python 3",
   "language": "python",
   "name": "python3"
  },
  "language_info": {
   "codemirror_mode": {
    "name": "ipython",
    "version": 3
   },
   "file_extension": ".py",
   "mimetype": "text/x-python",
   "name": "python",
   "nbconvert_exporter": "python",
   "pygments_lexer": "ipython3",
   "version": "3.6.0"
  }
 },
 "nbformat": 4,
 "nbformat_minor": 2
}
