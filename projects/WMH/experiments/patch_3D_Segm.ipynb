{
 "cells": [
  {
   "cell_type": "markdown",
   "metadata": {
    "collapsed": true
   },
   "source": [
    "_____"
   ]
  },
  {
   "cell_type": "code",
   "execution_count": 1,
   "metadata": {
    "collapsed": true,
    "scrolled": true
   },
   "outputs": [],
   "source": [
    "import os\n",
    "import sys\n",
    "sys.path.append(\"../utils/\")\n",
    "sys.path.append(\"../models/\")\n",
    "import warnings\n",
    "warnings.filterwarnings(\"ignore\")\n",
    "from datetime import datetime\n",
    "\n",
    "import torch\n",
    "import numpy as np\n",
    "from tqdm import tqdm\n",
    "import matplotlib.pyplot as plt\n",
    "\n",
    "from models import UNet, UResNet\n",
    "# from max_model import ENet3D as ENet\n",
    "from nn_utils import iterate_minibatches\n",
    "from mulptiprocessing_utils import par_iterate_minibatches\n",
    "from pytorch_utils import to_numpy, to_var, loss_cross_entropy, stochastic_step\n",
    "from data_utils import load_files, random_nonzero_crops, augment, _reshape_to\n",
    "from data_utils import combine, divide\n",
    "from metrics import hausdorff, dice\n",
    "from model_controller import Model_controller\n",
    "\n",
    "%matplotlib inline"
   ]
  },
  {
   "cell_type": "code",
   "execution_count": 2,
   "metadata": {
    "collapsed": true
   },
   "outputs": [],
   "source": [
    "PATH = '../data/Utr/Utrecht/'\n",
    "PATH1 = '../data/Sing/Singapore/'\n",
    "PATH2 = '../data/Amst/GE3T/'"
   ]
  },
  {
   "cell_type": "code",
   "execution_count": 3,
   "metadata": {
    "scrolled": true
   },
   "outputs": [
    {
     "name": "stderr",
     "output_type": "stream",
     "text": [
      "\r",
      "  0%|          | 0/20 [00:00<?, ?it/s]"
     ]
    },
    {
     "name": "stdout",
     "output_type": "stream",
     "text": [
      "INFO: brain mask from hardcoded path  ../data/skull_stripping\n"
     ]
    },
    {
     "name": "stderr",
     "output_type": "stream",
     "text": [
      "100%|██████████| 20/20 [00:04<00:00,  4.18it/s]\n"
     ]
    },
    {
     "name": "stdout",
     "output_type": "stream",
     "text": [
      "INFO: data reshape to hardcoded shape new_shape=! (256, 256, 84)\n"
     ]
    },
    {
     "name": "stderr",
     "output_type": "stream",
     "text": [
      "\r",
      "  0%|          | 0/20 [00:00<?, ?it/s]"
     ]
    },
    {
     "name": "stdout",
     "output_type": "stream",
     "text": [
      "INFO: brain mask from hardcoded path  ../data/skull_stripping\n"
     ]
    },
    {
     "name": "stderr",
     "output_type": "stream",
     "text": [
      "100%|██████████| 20/20 [00:05<00:00,  3.85it/s]\n"
     ]
    },
    {
     "name": "stdout",
     "output_type": "stream",
     "text": [
      "INFO: data reshape to hardcoded shape new_shape=! (256, 256, 84)\n"
     ]
    },
    {
     "name": "stderr",
     "output_type": "stream",
     "text": [
      "\r",
      "  0%|          | 0/20 [00:00<?, ?it/s]"
     ]
    },
    {
     "name": "stdout",
     "output_type": "stream",
     "text": [
      "INFO: brain mask from hardcoded path  ../data/skull_stripping\n"
     ]
    },
    {
     "name": "stderr",
     "output_type": "stream",
     "text": [
      "100%|██████████| 20/20 [00:05<00:00,  3.97it/s]\n"
     ]
    },
    {
     "name": "stdout",
     "output_type": "stream",
     "text": [
      "INFO: data reshape to hardcoded shape new_shape=! (256, 256, 84)\n"
     ]
    }
   ],
   "source": [
    "masks, t1, flairs, brain_mask = load_files(PATH)\n",
    "brains = np.concatenate([flairs, t1], axis=1).astype(np.float32)\n",
    "\n",
    "masks1, t11, flairs1, brain_mask1 = load_files(PATH1)\n",
    "brains1 = np.concatenate([flairs1, t11], axis=1).astype(np.float32)\n",
    "\n",
    "masks2, t12, flairs2, brain_mask2 = load_files(PATH2)\n",
    "brains2 = np.concatenate([flairs2, t12], axis=1).astype(np.float32)"
   ]
  },
  {
   "cell_type": "raw",
   "metadata": {
    "scrolled": true
   },
   "source": [
    "# Visualize\n",
    "\n",
    "for pic in np.random.choice(range(len(masks)), 2, False):\n",
    "    plt.figure(figsize=(15,5))\n",
    "    mask = masks[pic, 0]\n",
    "    flair = brains[pic, 0]\n",
    "    tttt = brains[pic, 1]\n",
    "    \n",
    "    t = np.argmax(np.sum(mask[...]==1, axis=(-2, -3)))\n",
    "    \n",
    "    plt.subplot(1,3,1)\n",
    "    plt.title('Utrecht, pic '+ str(pic)+', slice ' + str(t))\n",
    "    plt.imshow(mask[:, :, t], cmap=plt.cm.bone, vmax=2)\n",
    "    plt.subplot(1,3,2)\n",
    "    plt.title('Flair')\n",
    "    plt.imshow(flair[:, :, t], cmap=plt.cm.bone)\n",
    "    plt.subplot(1,3,3)\n",
    "    plt.title('T1')\n",
    "    plt.imshow(tttt[:, :, t], cmap=plt.cm.bone)\n",
    "\n",
    "for pic in np.random.choice(range(len(masks)), 2, False):\n",
    "    plt.figure(figsize=(15,5))\n",
    "    mask = masks1[pic, 0]\n",
    "    flair = brains1[pic, 0]\n",
    "    tttt = brains1[pic, 1]\n",
    "    t = np.argmax(np.sum(mask[...]==1, axis=(-2, -3)))\n",
    "    \n",
    "    plt.subplot(1,3,1)\n",
    "    plt.title('Singapore, pic '+ str(pic)+', slice ' + str(t))\n",
    "    plt.imshow(mask[:, :, t], cmap=plt.cm.bone, vmax=2)\n",
    "    plt.subplot(1,3,2)\n",
    "    plt.title('Flair')\n",
    "    plt.imshow(flair[:, :, t], cmap=plt.cm.bone)\n",
    "    plt.subplot(1,3,3)\n",
    "    plt.title('T1')\n",
    "    plt.imshow(tttt[:, :, t], cmap=plt.cm.bone)\n",
    "\n",
    "for pic in np.random.choice(range(len(masks)), 2, False):\n",
    "    plt.figure(figsize=(15,5))\n",
    "    mask = masks2[pic, 0]\n",
    "    flair = brains2[pic, 0]\n",
    "    tttt = brains2[pic, 1]\n",
    "    t = np.argmax(np.sum(mask[...]==1, axis=(-2, -3)))\n",
    "    \n",
    "    plt.subplot(1,3,1)\n",
    "    plt.title('Amsterdam, pic '+ str(pic)+', slice ' + str(t))\n",
    "    plt.imshow(mask[:, :, t], cmap=plt.cm.bone, vmax=2)\n",
    "    plt.subplot(1,3,2)\n",
    "    plt.title('Flair')\n",
    "    plt.imshow(flair[:, :, t], cmap=plt.cm.bone)\n",
    "    plt.subplot(1,3,3)\n",
    "    plt.title('T1')\n",
    "    plt.imshow(tttt[:, :, t], cmap=plt.cm.bone)\n"
   ]
  },
  {
   "cell_type": "markdown",
   "metadata": {
    "collapsed": true
   },
   "source": [
    "_____"
   ]
  },
  {
   "cell_type": "raw",
   "metadata": {
    "scrolled": true
   },
   "source": [
    "plt.figure(figsize=(12,3))\n",
    "plt.title('hist of flairs');\n",
    "plt.subplot(131)\n",
    "v = brains[8, 0].flatten()\n",
    "a = plt.hist(v[v!=0], bins=30);\n",
    "plt.subplot(132)\n",
    "v = brains1[8, 0].flatten()\n",
    "plt.hist(v[v!=0], bins=a[1]);\n",
    "plt.subplot(133)\n",
    "v = brains2[8, 0].flatten()\n",
    "plt.hist(v[v!=0], bins=a[1]);"
   ]
  },
  {
   "cell_type": "raw",
   "metadata": {},
   "source": [
    "plt.figure(figsize=(12,3))\n",
    "plt.title('hist of t1')\n",
    "plt.subplot(131)\n",
    "a = plt.hist(brains[8, 1].flatten(), bins=30);\n",
    "plt.subplot(132)\n",
    "plt.hist(brains1[8, 1].flatten(), bins=a[1]);\n",
    "plt.subplot(133)\n",
    "plt.hist(brains2[8, 1].flatten(), bins=a[1]);"
   ]
  },
  {
   "cell_type": "markdown",
   "metadata": {},
   "source": [
    "____"
   ]
  },
  {
   "cell_type": "code",
   "execution_count": 4,
   "metadata": {
    "collapsed": true
   },
   "outputs": [],
   "source": [
    "def get_train_split(get_train_split=20, n=15):\n",
    "    return np.in1d(np.array(range(get_train_split)), \n",
    "                   np.random.choice(range(get_train_split), n, False))"
   ]
  },
  {
   "cell_type": "code",
   "execution_count": 5,
   "metadata": {},
   "outputs": [
    {
     "data": {
      "text/plain": [
       "(array([ True,  True,  True,  True, False,  True,  True,  True,  True,\n",
       "        False,  True,  True, False, False,  True,  True,  True, False,\n",
       "         True,  True], dtype=bool),\n",
       " array([False,  True, False,  True,  True,  True, False,  True,  True,\n",
       "        False,  True,  True, False,  True,  True,  True,  True,  True,\n",
       "         True,  True], dtype=bool),\n",
       " array([ True,  True, False,  True,  True,  True,  True, False, False,\n",
       "         True, False,  True,  True,  True,  True,  True,  True, False,\n",
       "         True,  True], dtype=bool))"
      ]
     },
     "execution_count": 5,
     "metadata": {},
     "output_type": "execute_result"
    }
   ],
   "source": [
    "idx1, idx2, idx3 = get_train_split(), get_train_split(), get_train_split()\n",
    "idx1, idx2, idx3"
   ]
  },
  {
   "cell_type": "raw",
   "metadata": {
    "collapsed": true
   },
   "source": [
    "#train_test_split\n",
    "X_train = np.concatenate([brains[idx[0]], brains1[idx2], brains2[idx3]])\n",
    "X_test = np.concatenate([brains[idx[0]], brains1[~idx2], brains2[~idx3]])\n",
    "Y_train = np.concatenate([masks[idx1], masks1[idx2], masks2[idx3]])\n",
    "Y_test = np.concatenate([masks[~idx1], masks1[~idx2], masks2[~idx3]])"
   ]
  },
  {
   "cell_type": "markdown",
   "metadata": {
    "collapsed": true
   },
   "source": [
    "X_train = np.concatenate([brains[idx1]])\n",
    "X_test = np.concatenate([brains[~idx1]])\n",
    "Y_train = np.concatenate([masks[idx1]])\n",
    "Y_test = np.concatenate([masks[~idx1]])"
   ]
  },
  {
   "cell_type": "raw",
   "metadata": {
    "scrolled": true
   },
   "source": [
    "X_train.shape, X_test.shape"
   ]
  },
  {
   "cell_type": "raw",
   "metadata": {
    "collapsed": true
   },
   "source": [
    "del brains, brains1, brains2, masks, masks1, masks2"
   ]
  },
  {
   "cell_type": "markdown",
   "metadata": {
    "collapsed": true
   },
   "source": [
    "___"
   ]
  },
  {
   "cell_type": "code",
   "execution_count": 6,
   "metadata": {
    "collapsed": true
   },
   "outputs": [],
   "source": [
    "from sklearn.model_selection import KFold\n",
    "skf = KFold(n_splits=4, random_state=0, shuffle=True)"
   ]
  },
  {
   "cell_type": "code",
   "execution_count": null,
   "metadata": {
    "collapsed": true
   },
   "outputs": [],
   "source": [
    "import pickle"
   ]
  },
  {
   "cell_type": "code",
   "execution_count": null,
   "metadata": {
    "scrolled": false
   },
   "outputs": [
    {
     "name": "stderr",
     "output_type": "stream",
     "text": [
      "0.0542: 100%|██████████| 15/15 [00:34<00:00,  2.27s/it]\n"
     ]
    },
    {
     "name": "stdout",
     "output_type": "stream",
     "text": [
      "0 epoch: \n",
      "train loss 0.22762407933672268\n"
     ]
    },
    {
     "name": "stderr",
     "output_type": "stream",
     "text": [
      "0.0375: 100%|██████████| 3/3 [00:04<00:00,  1.38s/it]\n"
     ]
    },
    {
     "name": "stdout",
     "output_type": "stream",
     "text": [
      "val loss 0.03499444449941317\n"
     ]
    },
    {
     "name": "stderr",
     "output_type": "stream",
     "text": [
      "0.0895: 100%|██████████| 15/15 [00:36<00:00,  2.36s/it]\n",
      "  0%|          | 0/3 [00:00<?, ?it/s]"
     ]
    },
    {
     "name": "stdout",
     "output_type": "stream",
     "text": [
      "1 epoch: \n",
      "train loss 0.08948013409972191\n"
     ]
    },
    {
     "name": "stderr",
     "output_type": "stream",
     "text": [
      "0.0450: 100%|██████████| 3/3 [00:04<00:00,  1.34s/it]\n"
     ]
    },
    {
     "name": "stdout",
     "output_type": "stream",
     "text": [
      "val loss 0.04373382901151975\n"
     ]
    },
    {
     "name": "stderr",
     "output_type": "stream",
     "text": [
      "0.0474: 100%|██████████| 15/15 [00:36<00:00,  2.37s/it]\n",
      "  0%|          | 0/3 [00:00<?, ?it/s]"
     ]
    },
    {
     "name": "stdout",
     "output_type": "stream",
     "text": [
      "2 epoch: \n",
      "train loss 0.055058246354262035\n"
     ]
    },
    {
     "name": "stderr",
     "output_type": "stream",
     "text": [
      "0.0260: 100%|██████████| 3/3 [00:04<00:00,  1.34s/it]\n"
     ]
    },
    {
     "name": "stdout",
     "output_type": "stream",
     "text": [
      "val loss 0.02641392933825652\n"
     ]
    },
    {
     "name": "stderr",
     "output_type": "stream",
     "text": [
      "0.0354: 100%|██████████| 15/15 [00:36<00:00,  2.37s/it]\n",
      "  0%|          | 0/3 [00:00<?, ?it/s]"
     ]
    },
    {
     "name": "stdout",
     "output_type": "stream",
     "text": [
      "3 epoch: \n",
      "train loss 0.04462571255862713\n"
     ]
    },
    {
     "name": "stderr",
     "output_type": "stream",
     "text": [
      "0.0237: 100%|██████████| 3/3 [00:04<00:00,  1.34s/it]\n"
     ]
    },
    {
     "name": "stdout",
     "output_type": "stream",
     "text": [
      "val loss 0.02657667485376199\n"
     ]
    },
    {
     "name": "stderr",
     "output_type": "stream",
     "text": [
      "0.0417: 100%|██████████| 15/15 [00:36<00:00,  2.38s/it]\n",
      "  0%|          | 0/3 [00:00<?, ?it/s]"
     ]
    },
    {
     "name": "stdout",
     "output_type": "stream",
     "text": [
      "4 epoch: \n",
      "train loss 0.045262839272618295\n"
     ]
    },
    {
     "name": "stderr",
     "output_type": "stream",
     "text": [
      "0.0238: 100%|██████████| 3/3 [00:04<00:00,  1.34s/it]\n"
     ]
    },
    {
     "name": "stdout",
     "output_type": "stream",
     "text": [
      "val loss 0.023785225426157314\n"
     ]
    },
    {
     "name": "stderr",
     "output_type": "stream",
     "text": [
      "0.0406: 100%|██████████| 15/15 [00:36<00:00,  2.37s/it]\n"
     ]
    },
    {
     "name": "stdout",
     "output_type": "stream",
     "text": [
      "5 epoch: \n",
      "train loss 0.03884287799398104\n"
     ]
    },
    {
     "name": "stderr",
     "output_type": "stream",
     "text": [
      "0.0261: 100%|██████████| 4/4 [00:05<00:00,  1.34s/it]\n"
     ]
    },
    {
     "name": "stdout",
     "output_type": "stream",
     "text": [
      "val loss 0.023379947524517775\n"
     ]
    },
    {
     "name": "stderr",
     "output_type": "stream",
     "text": [
      "0.0360: 100%|██████████| 15/15 [00:36<00:00,  2.37s/it]\n"
     ]
    },
    {
     "name": "stdout",
     "output_type": "stream",
     "text": [
      "6 epoch: \n",
      "train loss 0.03840328343212605\n"
     ]
    },
    {
     "name": "stderr",
     "output_type": "stream",
     "text": [
      "0.0230: 100%|██████████| 3/3 [00:04<00:00,  1.34s/it]\n"
     ]
    },
    {
     "name": "stdout",
     "output_type": "stream",
     "text": [
      "val loss 0.0208376490821441\n"
     ]
    },
    {
     "name": "stderr",
     "output_type": "stream",
     "text": [
      "0.0419: 100%|██████████| 15/15 [00:36<00:00,  2.37s/it]\n"
     ]
    },
    {
     "name": "stdout",
     "output_type": "stream",
     "text": [
      "7 epoch: \n",
      "train loss 0.04123069482545058\n"
     ]
    },
    {
     "name": "stderr",
     "output_type": "stream",
     "text": [
      "0.0182: 100%|██████████| 3/3 [00:04<00:00,  1.34s/it]\n"
     ]
    },
    {
     "name": "stdout",
     "output_type": "stream",
     "text": [
      "val loss 0.021282924339175224\n"
     ]
    },
    {
     "name": "stderr",
     "output_type": "stream",
     "text": [
      "0.0350: 100%|██████████| 15/15 [00:36<00:00,  2.37s/it]\n",
      "  0%|          | 0/3 [00:00<?, ?it/s]"
     ]
    },
    {
     "name": "stdout",
     "output_type": "stream",
     "text": [
      "8 epoch: \n",
      "train loss 0.03798244011898835\n"
     ]
    },
    {
     "name": "stderr",
     "output_type": "stream",
     "text": [
      "0.0168: 100%|██████████| 3/3 [00:04<00:00,  1.34s/it]\n"
     ]
    },
    {
     "name": "stdout",
     "output_type": "stream",
     "text": [
      "val loss 0.02335016553600629\n"
     ]
    },
    {
     "name": "stderr",
     "output_type": "stream",
     "text": [
      "0.0375: 100%|██████████| 15/15 [00:36<00:00,  2.36s/it]\n",
      "  0%|          | 0/3 [00:00<?, ?it/s]"
     ]
    },
    {
     "name": "stdout",
     "output_type": "stream",
     "text": [
      "9 epoch: \n",
      "train loss 0.04112351089715958\n"
     ]
    },
    {
     "name": "stderr",
     "output_type": "stream",
     "text": [
      "0.0202: 100%|██████████| 3/3 [00:04<00:00,  1.34s/it]\n"
     ]
    },
    {
     "name": "stdout",
     "output_type": "stream",
     "text": [
      "val loss 0.027201912676294644\n"
     ]
    },
    {
     "name": "stderr",
     "output_type": "stream",
     "text": [
      "0.0304: 100%|██████████| 15/15 [00:36<00:00,  2.36s/it]\n",
      "  0%|          | 0/3 [00:00<?, ?it/s]"
     ]
    },
    {
     "name": "stdout",
     "output_type": "stream",
     "text": [
      "10 epoch: \n",
      "train loss 0.03670464667181174\n"
     ]
    },
    {
     "name": "stderr",
     "output_type": "stream",
     "text": [
      "0.0158: 100%|██████████| 3/3 [00:04<00:00,  1.34s/it]\n"
     ]
    },
    {
     "name": "stdout",
     "output_type": "stream",
     "text": [
      "val loss 0.017589645460247993\n"
     ]
    },
    {
     "name": "stderr",
     "output_type": "stream",
     "text": [
      "0.0336: 100%|██████████| 15/15 [00:36<00:00,  2.36s/it]\n"
     ]
    },
    {
     "name": "stdout",
     "output_type": "stream",
     "text": [
      "11 epoch: \n",
      "train loss 0.03966647485891978\n"
     ]
    },
    {
     "name": "stderr",
     "output_type": "stream",
     "text": [
      "0.0150: 100%|██████████| 3/3 [00:04<00:00,  1.34s/it]\n"
     ]
    },
    {
     "name": "stdout",
     "output_type": "stream",
     "text": [
      "val loss 0.01916994558026393\n"
     ]
    },
    {
     "name": "stderr",
     "output_type": "stream",
     "text": [
      "0.0274: 100%|██████████| 15/15 [00:36<00:00,  2.37s/it]\n"
     ]
    },
    {
     "name": "stdout",
     "output_type": "stream",
     "text": [
      "12 epoch: \n",
      "train loss 0.03991304847101371\n"
     ]
    },
    {
     "name": "stderr",
     "output_type": "stream",
     "text": [
      "0.0240: 100%|██████████| 3/3 [00:04<00:00,  1.34s/it]\n"
     ]
    },
    {
     "name": "stdout",
     "output_type": "stream",
     "text": [
      "val loss 0.022894632692138355\n"
     ]
    },
    {
     "name": "stderr",
     "output_type": "stream",
     "text": [
      "0.0384: 100%|██████████| 15/15 [00:36<00:00,  2.36s/it]\n",
      "  0%|          | 0/3 [00:00<?, ?it/s]"
     ]
    },
    {
     "name": "stdout",
     "output_type": "stream",
     "text": [
      "13 epoch: \n",
      "train loss 0.03919654736916224\n"
     ]
    },
    {
     "name": "stderr",
     "output_type": "stream",
     "text": [
      "0.0290: 100%|██████████| 3/3 [00:04<00:00,  1.34s/it]\n"
     ]
    },
    {
     "name": "stdout",
     "output_type": "stream",
     "text": [
      "val loss 0.023559870198369026\n"
     ]
    },
    {
     "name": "stderr",
     "output_type": "stream",
     "text": [
      "0.0329: 100%|██████████| 15/15 [00:36<00:00,  2.36s/it]\n"
     ]
    },
    {
     "name": "stdout",
     "output_type": "stream",
     "text": [
      "14 epoch: \n",
      "train loss 0.039921806876858076\n"
     ]
    },
    {
     "name": "stderr",
     "output_type": "stream",
     "text": [
      "0.0186: 100%|██████████| 3/3 [00:04<00:00,  1.34s/it]\n"
     ]
    },
    {
     "name": "stdout",
     "output_type": "stream",
     "text": [
      "val loss 0.018414750695228577\n"
     ]
    },
    {
     "name": "stderr",
     "output_type": "stream",
     "text": [
      "0.0302: 100%|██████████| 15/15 [00:36<00:00,  2.36s/it]\n",
      "  0%|          | 0/3 [00:00<?, ?it/s]"
     ]
    },
    {
     "name": "stdout",
     "output_type": "stream",
     "text": [
      "15 epoch: \n",
      "train loss 0.037795241673787436\n"
     ]
    },
    {
     "name": "stderr",
     "output_type": "stream",
     "text": [
      "0.0252: 100%|██████████| 3/3 [00:04<00:00,  1.34s/it]\n"
     ]
    },
    {
     "name": "stdout",
     "output_type": "stream",
     "text": [
      "val loss 0.02362031675875187\n"
     ]
    },
    {
     "name": "stderr",
     "output_type": "stream",
     "text": [
      "0.0406: 100%|██████████| 15/15 [00:36<00:00,  2.36s/it]\n",
      "  0%|          | 0/3 [00:00<?, ?it/s]"
     ]
    },
    {
     "name": "stdout",
     "output_type": "stream",
     "text": [
      "16 epoch: \n",
      "train loss 0.03890722716848056\n"
     ]
    },
    {
     "name": "stderr",
     "output_type": "stream",
     "text": [
      "0.0194: 100%|██████████| 3/3 [00:04<00:00,  1.34s/it]\n"
     ]
    },
    {
     "name": "stdout",
     "output_type": "stream",
     "text": [
      "val loss 0.01703173015266657\n"
     ]
    },
    {
     "name": "stderr",
     "output_type": "stream",
     "text": [
      "0.0805: 100%|██████████| 15/15 [00:36<00:00,  2.37s/it]\n",
      "  0%|          | 0/3 [00:00<?, ?it/s]"
     ]
    },
    {
     "name": "stdout",
     "output_type": "stream",
     "text": [
      "17 epoch: \n",
      "train loss 0.08026901061336199\n"
     ]
    },
    {
     "name": "stderr",
     "output_type": "stream",
     "text": [
      "0.0389: 100%|██████████| 3/3 [00:04<00:00,  1.34s/it]\n"
     ]
    },
    {
     "name": "stdout",
     "output_type": "stream",
     "text": [
      "val loss 0.03608658164739609\n"
     ]
    },
    {
     "name": "stderr",
     "output_type": "stream",
     "text": [
      "0.0333: 100%|██████████| 15/15 [00:36<00:00,  2.36s/it]\n",
      "  0%|          | 0/3 [00:00<?, ?it/s]"
     ]
    },
    {
     "name": "stdout",
     "output_type": "stream",
     "text": [
      "18 epoch: \n",
      "train loss 0.05269686082998912\n"
     ]
    },
    {
     "name": "stderr",
     "output_type": "stream",
     "text": [
      "0.0244: 100%|██████████| 3/3 [00:04<00:00,  1.34s/it]\n"
     ]
    },
    {
     "name": "stdout",
     "output_type": "stream",
     "text": [
      "val loss 0.026390161986152332\n"
     ]
    },
    {
     "name": "stderr",
     "output_type": "stream",
     "text": [
      "0.0434: 100%|██████████| 15/15 [00:36<00:00,  2.36s/it]\n"
     ]
    },
    {
     "name": "stdout",
     "output_type": "stream",
     "text": [
      "19 epoch: \n",
      "train loss 0.03972859506805738\n"
     ]
    },
    {
     "name": "stderr",
     "output_type": "stream",
     "text": [
      "0.0206: 100%|██████████| 3/3 [00:04<00:00,  1.34s/it]\n"
     ]
    },
    {
     "name": "stdout",
     "output_type": "stream",
     "text": [
      "val loss 0.022303874293963116\n"
     ]
    },
    {
     "name": "stderr",
     "output_type": "stream",
     "text": [
      "0.0397: 100%|██████████| 15/15 [00:36<00:00,  2.37s/it]\n",
      "  0%|          | 0/3 [00:00<?, ?it/s]"
     ]
    },
    {
     "name": "stdout",
     "output_type": "stream",
     "text": [
      "20 epoch: \n",
      "train loss 0.04336763508617878\n"
     ]
    },
    {
     "name": "stderr",
     "output_type": "stream",
     "text": [
      "0.0205: 100%|██████████| 3/3 [00:04<00:00,  1.34s/it]\n"
     ]
    },
    {
     "name": "stdout",
     "output_type": "stream",
     "text": [
      "val loss 0.01998905713359515\n"
     ]
    },
    {
     "name": "stderr",
     "output_type": "stream",
     "text": [
      "0.0636: 100%|██████████| 15/15 [00:36<00:00,  2.37s/it]\n",
      "  0%|          | 0/3 [00:00<?, ?it/s]"
     ]
    },
    {
     "name": "stdout",
     "output_type": "stream",
     "text": [
      "21 epoch: \n",
      "train loss 0.04462376634279887\n"
     ]
    },
    {
     "name": "stderr",
     "output_type": "stream",
     "text": [
      "0.0162: 100%|██████████| 3/3 [00:04<00:00,  1.34s/it]\n"
     ]
    },
    {
     "name": "stdout",
     "output_type": "stream",
     "text": [
      "val loss 0.020546478529771168\n"
     ]
    },
    {
     "name": "stderr",
     "output_type": "stream",
     "text": [
      "0.0369: 100%|██████████| 15/15 [00:36<00:00,  2.38s/it]\n"
     ]
    },
    {
     "name": "stdout",
     "output_type": "stream",
     "text": [
      "22 epoch: \n",
      "train loss 0.041371595859527585\n"
     ]
    },
    {
     "name": "stderr",
     "output_type": "stream",
     "text": [
      "0.0231: 100%|██████████| 3/3 [00:04<00:00,  1.34s/it]\n"
     ]
    },
    {
     "name": "stdout",
     "output_type": "stream",
     "text": [
      "val loss 0.022385617718100548\n"
     ]
    },
    {
     "name": "stderr",
     "output_type": "stream",
     "text": [
      "0.0456: 100%|██████████| 15/15 [00:36<00:00,  2.37s/it]\n",
      "  0%|          | 0/3 [00:00<?, ?it/s]"
     ]
    },
    {
     "name": "stdout",
     "output_type": "stream",
     "text": [
      "23 epoch: \n",
      "train loss 0.037737915913263954\n"
     ]
    },
    {
     "name": "stderr",
     "output_type": "stream",
     "text": [
      "0.0232: 100%|██████████| 3/3 [00:04<00:00,  1.34s/it]\n"
     ]
    },
    {
     "name": "stdout",
     "output_type": "stream",
     "text": [
      "val loss 0.0212338554362456\n"
     ]
    },
    {
     "name": "stderr",
     "output_type": "stream",
     "text": [
      "0.0340: 100%|██████████| 15/15 [00:36<00:00,  2.35s/it]\n"
     ]
    },
    {
     "name": "stdout",
     "output_type": "stream",
     "text": [
      "24 epoch: \n",
      "train loss 0.04124908993641536\n"
     ]
    },
    {
     "name": "stderr",
     "output_type": "stream",
     "text": [
      "0.0218: 100%|██████████| 4/4 [00:05<00:00,  1.34s/it]\n"
     ]
    },
    {
     "name": "stdout",
     "output_type": "stream",
     "text": [
      "val loss 0.022224367130547762\n"
     ]
    },
    {
     "name": "stderr",
     "output_type": "stream",
     "text": [
      "0.0540:   7%|▋         | 1/15 [00:02<00:41,  2.98s/it]"
     ]
    }
   ],
   "source": [
    "counter=0\n",
    "for tr_idx, ts_idx in skf.split(range(len(brains)), range(len(masks))):\n",
    "    counter+=1\n",
    "    X_train = np.concatenate([brains[tr_idx], brains1[tr_idx], brains2[tr_idx]])\n",
    "    X_test = np.concatenate([brains[ts_idx], brains1[ts_idx], brains2[ts_idx]])\n",
    "    Y_train = np.concatenate([masks[tr_idx], masks1[tr_idx], masks2[tr_idx]])\n",
    "    Y_test = np.concatenate([masks[ts_idx], masks1[ts_idx], masks2[ts_idx]])\n",
    "    \n",
    "\n",
    "    model = UNet().cuda()\n",
    "#     model = UResNet().cuda()\n",
    "#     model = ENet(3,2).cuda()\n",
    "    controller = Model_controller(model)\n",
    "    \n",
    "    controller.init_train_procedure(batch_size = 30, crops_shape=(52, 52, 40),\n",
    "                                    context_shape=(52, 52, 40), lr=0.015, \n",
    "                                    lr_decayer=lambda x: x*0.75, net='3D',\n",
    "                                    decay_every_epoch=16, num_of_patches=450)\n",
    "    \n",
    "    controller.train(X_train, Y_train, epoches=100, X_val=X_test, y_val=Y_test,\n",
    "                     hard_negative = lambda epoch: False)\n",
    "    y = controller.predict(X_test)\n",
    "    \n",
    "    np.savez('../reports/figures/UntitledFolder/y_dump_'+str(counter)+'.npy', y)\n",
    "    \n",
    "    y = np.logical_and(y[:, 1, ...] > y[:, 0, ...],\n",
    "                       y[:, 1, ...] > y[:, 2, ...])\n",
    "    \n",
    "    for num_img in range(len(Y_test)):\n",
    "        plt.figure()\n",
    "        t = np.argmax(np.sum(Y_test[num_img, 0, ...]==1, axis=(-2, -3)))\n",
    "        plt.subplot(121)\n",
    "        plt.imshow(y[num_img, ..., t], cmap=plt.cm.binary_r)\n",
    "        plt.title('dice: ' + str(dice(y[num_img], Y_test[num_img,0]))[:5])\n",
    "        plt.subplot(122)\n",
    "        plt.imshow(Y_test[num_img, 0,..., t], cmap=plt.cm.binary_r, vmax=2)\n",
    "        plt.savefig('../reports/figures/UntitledFolder/'+str(counter)+'_'+str(num_img)+'.png')\n",
    "        \n",
    "        plt.figure()\n",
    "        plt.plot(controller.res['train_loss'], label='train')\n",
    "        plt.plot(controller.res['val_loss'], label='val')\n",
    "        plt.legend();\n",
    "        plt.savefig('../reports/figures/UntitledFolder/'+str(counter)+'_tr_val_3D_UNet.png')\n",
    "        plt.figure()\n",
    "        plt.plot(controller.res['lr'], label='lr')\n",
    "        plt.legend();\n",
    "        plt.savefig('../reports/figures/UntitledFolder/'+str(counter)+'_lr_3D_UNet.png')\n",
    "        "
   ]
  },
  {
   "cell_type": "code",
   "execution_count": null,
   "metadata": {
    "collapsed": true
   },
   "outputs": [],
   "source": []
  },
  {
   "cell_type": "code",
   "execution_count": null,
   "metadata": {
    "collapsed": true
   },
   "outputs": [],
   "source": []
  },
  {
   "cell_type": "markdown",
   "metadata": {},
   "source": [
    "___"
   ]
  },
  {
   "cell_type": "code",
   "execution_count": null,
   "metadata": {
    "collapsed": true
   },
   "outputs": [],
   "source": [
    "import pickle\n",
    "with open('../models/dumps/model_unetcnn.pkl', 'wb') as f:\n",
    "    pickle.dump(controller.model.state_dict(), f, protocol=pickle.HIGHEST_PROTOCOL)"
   ]
  },
  {
   "cell_type": "raw",
   "metadata": {},
   "source": [
    "import pickle\n",
    "with open('../models/dumps/model_unetcnn.pkl', 'rb') as f:\n",
    "    model_dict = pickle.load(f)\n",
    "model.load_state_dict(model_dict)"
   ]
  },
  {
   "cell_type": "code",
   "execution_count": null,
   "metadata": {
    "collapsed": true
   },
   "outputs": [],
   "source": []
  }
 ],
 "metadata": {
  "kernelspec": {
   "display_name": "Python (3.6)",
   "language": "python",
   "name": "myenv"
  },
  "language_info": {
   "codemirror_mode": {
    "name": "ipython",
    "version": 3
   },
   "file_extension": ".py",
   "mimetype": "text/x-python",
   "name": "python",
   "nbconvert_exporter": "python",
   "pygments_lexer": "ipython3",
   "version": "3.6.1"
  }
 },
 "nbformat": 4,
 "nbformat_minor": 1
}
