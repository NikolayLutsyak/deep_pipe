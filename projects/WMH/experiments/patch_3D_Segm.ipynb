{
 "cells": [
  {
   "cell_type": "markdown",
   "metadata": {
    "collapsed": true
   },
   "source": [
    "_____"
   ]
  },
  {
   "cell_type": "code",
   "execution_count": 1,
   "metadata": {
    "collapsed": true,
    "scrolled": true
   },
   "outputs": [],
   "source": [
    "import os\n",
    "import sys\n",
    "sys.path.append(\"../utils/\")\n",
    "sys.path.append(\"../models/\")\n",
    "import warnings\n",
    "warnings.filterwarnings(\"ignore\")\n",
    "from datetime import datetime\n",
    "\n",
    "import torch\n",
    "import numpy as np\n",
    "from tqdm import tqdm\n",
    "import matplotlib.pyplot as plt\n",
    "\n",
    "from models import UNet, UResNet\n",
    "# from max_model import ENet3D as ENet\n",
    "from nn_utils import iterate_minibatches\n",
    "from mulptiprocessing_utils import par_iterate_minibatches\n",
    "from pytorch_utils import to_numpy, to_var, loss_cross_entropy, stochastic_step\n",
    "from data_utils import load_files, random_nonzero_crops, augment, _reshape_to\n",
    "from data_utils import combine, divide\n",
    "from metrics import hausdorff, dice\n",
    "from model_controller import Model_controller\n",
    "\n",
    "%matplotlib inline"
   ]
  },
  {
   "cell_type": "code",
   "execution_count": 2,
   "metadata": {
    "collapsed": true
   },
   "outputs": [],
   "source": [
    "PATH = '../data/Utr/Utrecht/'\n",
    "PATH1 = '../data/Sing/Singapore/'\n",
    "PATH2 = '../data/Amst/GE3T/'"
   ]
  },
  {
   "cell_type": "code",
   "execution_count": 3,
   "metadata": {
    "scrolled": true
   },
   "outputs": [
    {
     "name": "stderr",
     "output_type": "stream",
     "text": [
      "\r",
      "  0%|          | 0/20 [00:00<?, ?it/s]"
     ]
    },
    {
     "name": "stdout",
     "output_type": "stream",
     "text": [
      "INFO: brain mask from hardcoded path  ../data/skull_stripping\n"
     ]
    },
    {
     "name": "stderr",
     "output_type": "stream",
     "text": [
      "100%|██████████| 20/20 [00:05<00:00,  3.62it/s]\n"
     ]
    },
    {
     "name": "stdout",
     "output_type": "stream",
     "text": [
      "INFO: data reshape to hardcoded shape new_shape=! (256, 256, 84)\n"
     ]
    },
    {
     "name": "stderr",
     "output_type": "stream",
     "text": [
      "\r",
      "  0%|          | 0/20 [00:00<?, ?it/s]"
     ]
    },
    {
     "name": "stdout",
     "output_type": "stream",
     "text": [
      "INFO: brain mask from hardcoded path  ../data/skull_stripping\n"
     ]
    },
    {
     "name": "stderr",
     "output_type": "stream",
     "text": [
      "100%|██████████| 20/20 [00:05<00:00,  3.73it/s]\n"
     ]
    },
    {
     "name": "stdout",
     "output_type": "stream",
     "text": [
      "INFO: data reshape to hardcoded shape new_shape=! (256, 256, 84)\n"
     ]
    },
    {
     "name": "stderr",
     "output_type": "stream",
     "text": [
      "\r",
      "  0%|          | 0/20 [00:00<?, ?it/s]"
     ]
    },
    {
     "name": "stdout",
     "output_type": "stream",
     "text": [
      "INFO: brain mask from hardcoded path  ../data/skull_stripping\n"
     ]
    },
    {
     "name": "stderr",
     "output_type": "stream",
     "text": [
      "100%|██████████| 20/20 [00:05<00:00,  3.57it/s]\n"
     ]
    },
    {
     "name": "stdout",
     "output_type": "stream",
     "text": [
      "INFO: data reshape to hardcoded shape new_shape=! (256, 256, 84)\n"
     ]
    }
   ],
   "source": [
    "masks, t1, flairs, brain_mask = load_files(PATH)\n",
    "brains = np.concatenate([flairs, t1], axis=1).astype(np.float32)\n",
    "\n",
    "masks1, t11, flairs1, brain_mask1 = load_files(PATH1)\n",
    "brains1 = np.concatenate([flairs1, t11], axis=1).astype(np.float32)\n",
    "\n",
    "masks2, t12, flairs2, brain_mask2 = load_files(PATH2)\n",
    "brains2 = np.concatenate([flairs2, t12], axis=1).astype(np.float32)"
   ]
  },
  {
   "cell_type": "raw",
   "metadata": {
    "scrolled": true
   },
   "source": [
    "# Visualize\n",
    "\n",
    "for pic in np.random.choice(range(len(masks)), 2, False):\n",
    "    plt.figure(figsize=(15,5))\n",
    "    mask = masks[pic, 0]\n",
    "    flair = brains[pic, 0]\n",
    "    tttt = brains[pic, 1]\n",
    "    \n",
    "    t = np.argmax(np.sum(mask[...]==1, axis=(-2, -3)))\n",
    "    \n",
    "    plt.subplot(1,3,1)\n",
    "    plt.title('Utrecht, pic '+ str(pic)+', slice ' + str(t))\n",
    "    plt.imshow(mask[:, :, t], cmap=plt.cm.bone, vmax=2)\n",
    "    plt.subplot(1,3,2)\n",
    "    plt.title('Flair')\n",
    "    plt.imshow(flair[:, :, t], cmap=plt.cm.bone)\n",
    "    plt.subplot(1,3,3)\n",
    "    plt.title('T1')\n",
    "    plt.imshow(tttt[:, :, t], cmap=plt.cm.bone)\n",
    "\n",
    "for pic in np.random.choice(range(len(masks)), 2, False):\n",
    "    plt.figure(figsize=(15,5))\n",
    "    mask = masks1[pic, 0]\n",
    "    flair = brains1[pic, 0]\n",
    "    tttt = brains1[pic, 1]\n",
    "    t = np.argmax(np.sum(mask[...]==1, axis=(-2, -3)))\n",
    "    \n",
    "    plt.subplot(1,3,1)\n",
    "    plt.title('Singapore, pic '+ str(pic)+', slice ' + str(t))\n",
    "    plt.imshow(mask[:, :, t], cmap=plt.cm.bone, vmax=2)\n",
    "    plt.subplot(1,3,2)\n",
    "    plt.title('Flair')\n",
    "    plt.imshow(flair[:, :, t], cmap=plt.cm.bone)\n",
    "    plt.subplot(1,3,3)\n",
    "    plt.title('T1')\n",
    "    plt.imshow(tttt[:, :, t], cmap=plt.cm.bone)\n",
    "\n",
    "for pic in np.random.choice(range(len(masks)), 2, False):\n",
    "    plt.figure(figsize=(15,5))\n",
    "    mask = masks2[pic, 0]\n",
    "    flair = brains2[pic, 0]\n",
    "    tttt = brains2[pic, 1]\n",
    "    t = np.argmax(np.sum(mask[...]==1, axis=(-2, -3)))\n",
    "    \n",
    "    plt.subplot(1,3,1)\n",
    "    plt.title('Amsterdam, pic '+ str(pic)+', slice ' + str(t))\n",
    "    plt.imshow(mask[:, :, t], cmap=plt.cm.bone, vmax=2)\n",
    "    plt.subplot(1,3,2)\n",
    "    plt.title('Flair')\n",
    "    plt.imshow(flair[:, :, t], cmap=plt.cm.bone)\n",
    "    plt.subplot(1,3,3)\n",
    "    plt.title('T1')\n",
    "    plt.imshow(tttt[:, :, t], cmap=plt.cm.bone)\n"
   ]
  },
  {
   "cell_type": "markdown",
   "metadata": {
    "collapsed": true
   },
   "source": [
    "_____"
   ]
  },
  {
   "cell_type": "raw",
   "metadata": {
    "scrolled": true
   },
   "source": [
    "plt.figure(figsize=(12,3))\n",
    "plt.title('hist of flairs');\n",
    "plt.subplot(131)\n",
    "v = brains[8, 0].flatten()\n",
    "a = plt.hist(v[v!=0], bins=30);\n",
    "plt.subplot(132)\n",
    "v = brains1[8, 0].flatten()\n",
    "plt.hist(v[v!=0], bins=a[1]);\n",
    "plt.subplot(133)\n",
    "v = brains2[8, 0].flatten()\n",
    "plt.hist(v[v!=0], bins=a[1]);"
   ]
  },
  {
   "cell_type": "raw",
   "metadata": {},
   "source": [
    "plt.figure(figsize=(12,3))\n",
    "plt.title('hist of t1')\n",
    "plt.subplot(131)\n",
    "a = plt.hist(brains[8, 1].flatten(), bins=30);\n",
    "plt.subplot(132)\n",
    "plt.hist(brains1[8, 1].flatten(), bins=a[1]);\n",
    "plt.subplot(133)\n",
    "plt.hist(brains2[8, 1].flatten(), bins=a[1]);"
   ]
  },
  {
   "cell_type": "markdown",
   "metadata": {},
   "source": [
    "____"
   ]
  },
  {
   "cell_type": "code",
   "execution_count": 4,
   "metadata": {
    "collapsed": true
   },
   "outputs": [],
   "source": [
    "def get_train_split(get_train_split=20, n=15):\n",
    "    return np.in1d(np.array(range(get_train_split)), \n",
    "                   np.random.choice(range(get_train_split), n, False))"
   ]
  },
  {
   "cell_type": "code",
   "execution_count": 5,
   "metadata": {},
   "outputs": [
    {
     "data": {
      "text/plain": [
       "(array([ True, False,  True, False,  True, False,  True,  True,  True,\n",
       "         True, False,  True,  True,  True,  True,  True,  True,  True,\n",
       "        False,  True], dtype=bool),\n",
       " array([ True,  True,  True, False,  True, False, False,  True,  True,\n",
       "        False,  True,  True,  True,  True,  True, False,  True,  True,\n",
       "         True,  True], dtype=bool),\n",
       " array([ True,  True,  True, False,  True,  True,  True,  True,  True,\n",
       "         True,  True,  True, False, False, False,  True,  True,  True,\n",
       "         True, False], dtype=bool))"
      ]
     },
     "execution_count": 5,
     "metadata": {},
     "output_type": "execute_result"
    }
   ],
   "source": [
    "idx1, idx2, idx3 = get_train_split(), get_train_split(), get_train_split()\n",
    "idx1, idx2, idx3"
   ]
  },
  {
   "cell_type": "raw",
   "metadata": {
    "collapsed": true
   },
   "source": [
    "#train_test_split\n",
    "X_train = np.concatenate([brains[idx[0]], brains1[idx2], brains2[idx3]])\n",
    "X_test = np.concatenate([brains[idx[0]], brains1[~idx2], brains2[~idx3]])\n",
    "Y_train = np.concatenate([masks[idx1], masks1[idx2], masks2[idx3]])\n",
    "Y_test = np.concatenate([masks[~idx1], masks1[~idx2], masks2[~idx3]])"
   ]
  },
  {
   "cell_type": "markdown",
   "metadata": {
    "collapsed": true
   },
   "source": [
    "X_train = np.concatenate([brains[idx1]])\n",
    "X_test = np.concatenate([brains[~idx1]])\n",
    "Y_train = np.concatenate([masks[idx1]])\n",
    "Y_test = np.concatenate([masks[~idx1]])"
   ]
  },
  {
   "cell_type": "raw",
   "metadata": {
    "scrolled": true
   },
   "source": [
    "X_train.shape, X_test.shape"
   ]
  },
  {
   "cell_type": "raw",
   "metadata": {
    "collapsed": true
   },
   "source": [
    "del brains, brains1, brains2, masks, masks1, masks2"
   ]
  },
  {
   "cell_type": "markdown",
   "metadata": {
    "collapsed": true
   },
   "source": [
    "___"
   ]
  },
  {
   "cell_type": "code",
   "execution_count": 6,
   "metadata": {
    "collapsed": true
   },
   "outputs": [],
   "source": [
    "from sklearn.model_selection import KFold\n",
    "skf = KFold(n_splits=4, random_state=0, shuffle=True)"
   ]
  },
  {
   "cell_type": "code",
   "execution_count": null,
   "metadata": {
    "collapsed": true
   },
   "outputs": [],
   "source": [
    "import pickle"
   ]
  },
  {
   "cell_type": "code",
   "execution_count": null,
   "metadata": {
    "scrolled": true
   },
   "outputs": [
    {
     "name": "stderr",
     "output_type": "stream",
     "text": [
      "0.0422: 100%|██████████| 15/15 [00:34<00:00,  2.26s/it]\n"
     ]
    },
    {
     "name": "stdout",
     "output_type": "stream",
     "text": [
      "0 epoch: \n",
      "train loss 0.2910533227026463\n"
     ]
    },
    {
     "name": "stderr",
     "output_type": "stream",
     "text": [
      "0.0880: 100%|██████████| 3/3 [00:04<00:00,  1.40s/it]\n"
     ]
    },
    {
     "name": "stdout",
     "output_type": "stream",
     "text": [
      "val loss 0.1020261471470197\n",
      "dices [0.14190687361419069, 0.2692340952984924, 0.0, 0.33252812478431915, 0.0030656039239730227, 0.003711558854718982, 0.16965742251223492, 0.050701910336615065, 0.30736483610046827, 0.0, 0.0, 0.19183318853171155, 0.0, 0.017381228273464659, 0.017297297297297298]\n"
     ]
    },
    {
     "name": "stderr",
     "output_type": "stream",
     "text": [
      "0.0907: 100%|██████████| 15/15 [00:36<00:00,  2.36s/it]\n"
     ]
    },
    {
     "name": "stdout",
     "output_type": "stream",
     "text": [
      "1 epoch: \n",
      "train loss 0.10246523221333821\n"
     ]
    },
    {
     "name": "stderr",
     "output_type": "stream",
     "text": [
      "0.0323: 100%|██████████| 4/4 [00:05<00:00,  1.34s/it]\n"
     ]
    },
    {
     "name": "stdout",
     "output_type": "stream",
     "text": [
      "val loss 0.04368466790765524\n",
      "dices [0.0, 0.021334922526817641, 0.0, 0.0, 0.0, 0.0, 0.0, 0.0091711956521739139, 0.0, 0.0, 0.0, 0.0, 0.0, 0.0, 0.0]\n"
     ]
    },
    {
     "name": "stderr",
     "output_type": "stream",
     "text": [
      "0.0569: 100%|██████████| 15/15 [00:36<00:00,  2.36s/it]\n",
      "  0%|          | 0/3 [00:00<?, ?it/s]"
     ]
    },
    {
     "name": "stdout",
     "output_type": "stream",
     "text": [
      "2 epoch: \n",
      "train loss 0.05774423032999039\n"
     ]
    },
    {
     "name": "stderr",
     "output_type": "stream",
     "text": [
      "0.0250: 100%|██████████| 3/3 [00:04<00:00,  1.34s/it]\n"
     ]
    },
    {
     "name": "stdout",
     "output_type": "stream",
     "text": [
      "val loss 0.023175828158855438\n",
      "dices [0.0, 0.01209435995689139, 0.0, 0.0, 0.0, 0.0, 0.0, 0.0037465940054495911, 0.0, 0.0, 0.0, 0.0, 0.0, 0.0, 0.0]\n"
     ]
    },
    {
     "name": "stderr",
     "output_type": "stream",
     "text": [
      "0.0594: 100%|██████████| 15/15 [00:36<00:00,  2.37s/it]\n"
     ]
    },
    {
     "name": "stdout",
     "output_type": "stream",
     "text": [
      "3 epoch: \n",
      "train loss 0.05134596824645996\n"
     ]
    },
    {
     "name": "stderr",
     "output_type": "stream",
     "text": [
      "0.0266: 100%|██████████| 3/3 [00:04<00:00,  1.34s/it]\n"
     ]
    },
    {
     "name": "stdout",
     "output_type": "stream",
     "text": [
      "val loss 0.029991573343674343\n",
      "dices [0.011111111111111112, 0.023455173234908918, 0.0, 0.00067436567478715336, 0.0, 0.0, 0.0, 0.0054357057924239848, 0.0, 0.0, 0.0, 0.015536426621876969, 0.0, 0.0012202562538133007, 0.0]\n"
     ]
    },
    {
     "name": "stderr",
     "output_type": "stream",
     "text": [
      "0.0597: 100%|██████████| 15/15 [00:36<00:00,  2.35s/it]\n",
      "  0%|          | 0/3 [00:00<?, ?it/s]"
     ]
    },
    {
     "name": "stdout",
     "output_type": "stream",
     "text": [
      "4 epoch: \n",
      "train loss 0.04958153913418452\n"
     ]
    },
    {
     "name": "stderr",
     "output_type": "stream",
     "text": [
      "0.0202: 100%|██████████| 3/3 [00:04<00:00,  1.34s/it]\n"
     ]
    },
    {
     "name": "stdout",
     "output_type": "stream",
     "text": [
      "val loss 0.02518246943751971\n",
      "dices [0.0, 0.047745046157464575, 0.0, 0.00016859141869678834, 0.0, 0.0, 0.0, 0.019253504475595339, 0.0, 0.0, 0.0, 0.0, 0.0, 0.0024390243902439024, 0.0]\n"
     ]
    },
    {
     "name": "stderr",
     "output_type": "stream",
     "text": [
      "0.0448: 100%|██████████| 15/15 [00:36<00:00,  2.37s/it]\n"
     ]
    },
    {
     "name": "stdout",
     "output_type": "stream",
     "text": [
      "5 epoch: \n",
      "train loss 0.042643585428595546\n"
     ]
    },
    {
     "name": "stderr",
     "output_type": "stream",
     "text": [
      "0.0297: 100%|██████████| 4/4 [00:05<00:00,  1.34s/it]\n"
     ]
    },
    {
     "name": "stdout",
     "output_type": "stream",
     "text": [
      "val loss 0.024504183791577816\n",
      "dices [0.0, 0.028618928868305426, 0.0, 0.0, 0.0, 0.0, 0.0, 0.008156329651656755, 0.0, 0.0, 0.0, 0.0, 0.0, 0.0, 0.0]\n"
     ]
    },
    {
     "name": "stderr",
     "output_type": "stream",
     "text": [
      "0.0372: 100%|██████████| 15/15 [00:36<00:00,  2.36s/it]\n"
     ]
    },
    {
     "name": "stdout",
     "output_type": "stream",
     "text": [
      "6 epoch: \n",
      "train loss 0.04191955178976059\n"
     ]
    },
    {
     "name": "stderr",
     "output_type": "stream",
     "text": [
      "0.0277: 100%|██████████| 3/3 [00:04<00:00,  1.34s/it]\n"
     ]
    },
    {
     "name": "stdout",
     "output_type": "stream",
     "text": [
      "val loss 0.02416747311751048\n",
      "dices [0.020732550103662751, 0.13292100084340736, 0.0, 0.010233182351954371, 0.0, 0.0, 0.0024242424242424242, 0.018072289156626505, 0.0, 0.0, 0.0, 0.028779979144942649, 0.0, 0.0097205346294046164, 0.0]\n"
     ]
    },
    {
     "name": "stderr",
     "output_type": "stream",
     "text": [
      "0.0288: 100%|██████████| 15/15 [00:36<00:00,  2.36s/it]\n"
     ]
    },
    {
     "name": "stdout",
     "output_type": "stream",
     "text": [
      "7 epoch: \n",
      "train loss 0.04125047971804937\n"
     ]
    },
    {
     "name": "stderr",
     "output_type": "stream",
     "text": [
      "0.0160: 100%|██████████| 4/4 [00:05<00:00,  1.34s/it]\n"
     ]
    },
    {
     "name": "stdout",
     "output_type": "stream",
     "text": [
      "val loss 0.021952389739453793\n",
      "dices [0.013869625520110958, 0.29759524175767832, 0.0, 0.0030310684516291994, 0.0, 0.0, 0.0, 0.19408247738770504, 0.0, 0.0, 0.0, 0.0059071729957805904, 0.0, 0.0060864272671941567, 0.0]\n"
     ]
    },
    {
     "name": "stderr",
     "output_type": "stream",
     "text": [
      "0.0347: 100%|██████████| 15/15 [00:36<00:00,  2.36s/it]\n"
     ]
    },
    {
     "name": "stdout",
     "output_type": "stream",
     "text": [
      "8 epoch: \n",
      "train loss 0.03780532839397589\n"
     ]
    },
    {
     "name": "stderr",
     "output_type": "stream",
     "text": [
      "0.0211: 100%|██████████| 3/3 [00:04<00:00,  1.34s/it]\n"
     ]
    },
    {
     "name": "stdout",
     "output_type": "stream",
     "text": [
      "val loss 0.02500697287420432\n",
      "dices [0.0, 0.059610776693355148, 0.0, 0.0, 0.0, 0.0, 0.0, 0.0030664395229982964, 0.0, 0.0, 0.0, 0.0, 0.0, 0.0, 0.0]\n"
     ]
    },
    {
     "name": "stderr",
     "output_type": "stream",
     "text": [
      "0.0289: 100%|██████████| 15/15 [00:36<00:00,  2.36s/it]\n",
      "  0%|          | 0/3 [00:00<?, ?it/s]"
     ]
    },
    {
     "name": "stdout",
     "output_type": "stream",
     "text": [
      "9 epoch: \n",
      "train loss 0.040026717260479926\n"
     ]
    },
    {
     "name": "stderr",
     "output_type": "stream",
     "text": [
      "0.0229: 100%|██████████| 3/3 [00:04<00:00,  1.34s/it]\n"
     ]
    },
    {
     "name": "stdout",
     "output_type": "stream",
     "text": [
      "val loss 0.026510830968618393\n",
      "dices [0.0013956734124214933, 0.043255347987506632, 0.0, 0.0, 0.0, 0.0, 0.0, 0.011872455902306648, 0.0, 0.0, 0.0, 0.0, 0.0, 0.0, 0.0]\n"
     ]
    },
    {
     "name": "stderr",
     "output_type": "stream",
     "text": [
      "0.0426: 100%|██████████| 15/15 [00:36<00:00,  2.37s/it]\n",
      "  0%|          | 0/3 [00:00<?, ?it/s]"
     ]
    },
    {
     "name": "stdout",
     "output_type": "stream",
     "text": [
      "10 epoch: \n",
      "train loss 0.04662688175837199\n"
     ]
    },
    {
     "name": "stderr",
     "output_type": "stream",
     "text": [
      "0.0262: 100%|██████████| 3/3 [00:04<00:00,  1.34s/it]\n"
     ]
    },
    {
     "name": "stdout",
     "output_type": "stream",
     "text": [
      "val loss 0.025448191290100414\n",
      "dices [0.0013956734124214933, 0.22591504141063318, 0.0, 0.0, 0.0, 0.0, 0.0, 0.11727010573534123, 0.0, 0.0, 0.0, 0.0, 0.0, 0.0, 0.0]\n"
     ]
    },
    {
     "name": "stderr",
     "output_type": "stream",
     "text": [
      "0.0391: 100%|██████████| 15/15 [00:36<00:00,  2.36s/it]\n"
     ]
    },
    {
     "name": "stdout",
     "output_type": "stream",
     "text": [
      "11 epoch: \n",
      "train loss 0.04218241348862648\n"
     ]
    },
    {
     "name": "stderr",
     "output_type": "stream",
     "text": [
      "0.0207: 100%|██████████| 3/3 [00:04<00:00,  1.34s/it]\n"
     ]
    },
    {
     "name": "stdout",
     "output_type": "stream",
     "text": [
      "val loss 0.021222418174147606\n",
      "dices [0.0, 0.047277431494766556, 0.0, 0.0, 0.0, 0.0, 0.0, 0.010840108401084011, 0.0, 0.0, 0.0, 0.0, 0.0, 0.0, 0.0]\n"
     ]
    },
    {
     "name": "stderr",
     "output_type": "stream",
     "text": [
      "0.0382: 100%|██████████| 15/15 [00:36<00:00,  2.36s/it]\n",
      "  0%|          | 0/3 [00:00<?, ?it/s]"
     ]
    },
    {
     "name": "stdout",
     "output_type": "stream",
     "text": [
      "12 epoch: \n",
      "train loss 0.039407829195261\n"
     ]
    },
    {
     "name": "stderr",
     "output_type": "stream",
     "text": [
      "0.0264: 100%|██████████| 3/3 [00:04<00:00,  1.34s/it]\n"
     ]
    },
    {
     "name": "stdout",
     "output_type": "stream",
     "text": [
      "val loss 0.021927679578463238\n",
      "dices [0.012491325468424705, 0.23232538330494037, 0.0, 0.01089963947346357, 0.0, 0.0, 0.0, 0.13440860215053763, 0.0, 0.0, 0.0, 0.018033130635353323, 0.0, 0.0060864272671941567, 0.0]\n"
     ]
    },
    {
     "name": "stderr",
     "output_type": "stream",
     "text": [
      "0.0329: 100%|██████████| 15/15 [00:36<00:00,  2.36s/it]\n"
     ]
    },
    {
     "name": "stdout",
     "output_type": "stream",
     "text": [
      "13 epoch: \n",
      "train loss 0.03611942206819852\n"
     ]
    },
    {
     "name": "stderr",
     "output_type": "stream",
     "text": [
      "0.0221: 100%|██████████| 3/3 [00:04<00:00,  1.34s/it]\n"
     ]
    },
    {
     "name": "stdout",
     "output_type": "stream",
     "text": [
      "val loss 0.02385729302962621\n",
      "dices [0.004178272980501393, 0.21421658242821809, 0.0, 0.0057166876839007986, 0.0, 0.0, 0.0, 0.099080200096821044, 0.0, 0.0, 0.0, 0.010942760942760943, 0.0, 0.0024390243902439024, 0.0]\n"
     ]
    },
    {
     "name": "stderr",
     "output_type": "stream",
     "text": [
      "0.0437: 100%|██████████| 15/15 [00:36<00:00,  2.36s/it]\n"
     ]
    },
    {
     "name": "stdout",
     "output_type": "stream",
     "text": [
      "14 epoch: \n",
      "train loss 0.0357735433926185\n"
     ]
    },
    {
     "name": "stderr",
     "output_type": "stream",
     "text": [
      "0.0223: 100%|██████████| 3/3 [00:04<00:00,  1.34s/it]\n"
     ]
    },
    {
     "name": "stdout",
     "output_type": "stream",
     "text": [
      "val loss 0.021955950806538265\n",
      "dices [0.004178272980501393, 0.25972120322817316, 0.0, 0.013231722636295117, 0.0, 0.0, 0.0, 0.14915999371957922, 0.0, 0.0, 0.0, 0.018448637316561847, 0.0, 0.0060864272671941567, 0.0]\n"
     ]
    },
    {
     "name": "stderr",
     "output_type": "stream",
     "text": [
      "0.0434: 100%|██████████| 15/15 [00:36<00:00,  2.36s/it]\n"
     ]
    },
    {
     "name": "stdout",
     "output_type": "stream",
     "text": [
      "15 epoch: \n",
      "train loss 0.03696774517496427\n"
     ]
    },
    {
     "name": "stderr",
     "output_type": "stream",
     "text": [
      "0.0211: 100%|██████████| 3/3 [00:04<00:00,  1.34s/it]\n"
     ]
    },
    {
     "name": "stdout",
     "output_type": "stream",
     "text": [
      "val loss 0.021844629819194477\n",
      "dices [0.022068965517241378, 0.33018298813593405, 0.0, 0.059367078256603159, 0.0, 0.0, 0.0048426150121065378, 0.23719756568205433, 0.0, 0.0, 0.0, 0.046703864434800575, 0.0, 0.019347037484885126, 0.013001083423618635]\n"
     ]
    },
    {
     "name": "stderr",
     "output_type": "stream",
     "text": [
      "0.0346: 100%|██████████| 15/15 [00:36<00:00,  2.36s/it]\n"
     ]
    },
    {
     "name": "stdout",
     "output_type": "stream",
     "text": [
      "16 epoch: \n",
      "train loss 0.03629172829290231\n"
     ]
    },
    {
     "name": "stderr",
     "output_type": "stream",
     "text": [
      "0.0177: 100%|██████████| 3/3 [00:04<00:00,  1.34s/it]\n"
     ]
    },
    {
     "name": "stdout",
     "output_type": "stream",
     "text": [
      "val loss 0.02098672091960907\n",
      "dices [0.01662049861495845, 0.29409649077737243, 0.0, 0.034951134669537851, 0.0, 0.0, 0.0012128562765312311, 0.1889400921658986, 0.0, 0.0, 0.0, 0.029190992493744787, 0.0, 0.014545454545454545, 0.0043525571273122961]\n"
     ]
    },
    {
     "name": "stderr",
     "output_type": "stream",
     "text": [
      "0.0937: 100%|██████████| 15/15 [00:36<00:00,  2.37s/it]\n"
     ]
    },
    {
     "name": "stdout",
     "output_type": "stream",
     "text": [
      "17 epoch: \n",
      "train loss 0.13600339045127233\n"
     ]
    },
    {
     "name": "stderr",
     "output_type": "stream",
     "text": [
      "0.0385: 100%|██████████| 3/3 [00:04<00:00,  1.34s/it]\n"
     ]
    },
    {
     "name": "stdout",
     "output_type": "stream",
     "text": [
      "val loss 0.042808537681897484\n",
      "dices [0.0, 0.0, 0.0, 0.0, 0.0, 0.0, 0.0, 0.0, 0.0, 0.0, 0.0, 0.0, 0.0, 0.0, 0.0]\n"
     ]
    },
    {
     "name": "stderr",
     "output_type": "stream",
     "text": [
      "0.0977: 100%|██████████| 15/15 [00:36<00:00,  2.36s/it]\n",
      "  0%|          | 0/3 [00:00<?, ?it/s]"
     ]
    },
    {
     "name": "stdout",
     "output_type": "stream",
     "text": [
      "18 epoch: \n",
      "train loss 0.08659752706686656\n"
     ]
    },
    {
     "name": "stderr",
     "output_type": "stream",
     "text": [
      "0.0438: 100%|██████████| 3/3 [00:04<00:00,  1.34s/it]\n"
     ]
    },
    {
     "name": "stdout",
     "output_type": "stream",
     "text": [
      "val loss 0.0424149123330911\n",
      "dices [0.0, 0.0, 0.0, 0.0, 0.0, 0.0, 0.0, 0.0, 0.0, 0.0, 0.0, 0.0, 0.0, 0.0, 0.0]\n"
     ]
    },
    {
     "name": "stderr",
     "output_type": "stream",
     "text": [
      "0.0402: 100%|██████████| 15/15 [00:36<00:00,  2.36s/it]\n"
     ]
    },
    {
     "name": "stdout",
     "output_type": "stream",
     "text": [
      "19 epoch: \n",
      "train loss 0.05976785098512968\n"
     ]
    },
    {
     "name": "stderr",
     "output_type": "stream",
     "text": [
      "0.0212: 100%|██████████| 3/3 [00:04<00:00,  1.34s/it]\n"
     ]
    },
    {
     "name": "stdout",
     "output_type": "stream",
     "text": [
      "val loss 0.029011643802126248\n",
      "dices [0.0, 0.037356661543917723, 0.0, 0.0, 0.0, 0.0, 0.0, 0.0074779061862678452, 0.0, 0.0, 0.0, 0.0, 0.0, 0.0, 0.0]\n"
     ]
    },
    {
     "name": "stderr",
     "output_type": "stream",
     "text": [
      "0.0531: 100%|██████████| 15/15 [00:36<00:00,  2.36s/it]\n",
      "  0%|          | 0/3 [00:00<?, ?it/s]"
     ]
    },
    {
     "name": "stdout",
     "output_type": "stream",
     "text": [
      "20 epoch: \n",
      "train loss 0.0467631671577692\n"
     ]
    },
    {
     "name": "stderr",
     "output_type": "stream",
     "text": [
      "0.0252: 100%|██████████| 3/3 [00:04<00:00,  1.34s/it]\n"
     ]
    },
    {
     "name": "stdout",
     "output_type": "stream",
     "text": [
      "val loss 0.024014959732691448\n",
      "dices [0.03292181069958848, 0.5160628234874175, 0.0, 0.036074797286116164, 0.0, 0.0, 0.0012128562765312311, 0.47449999999999998, 0.0, 0.0, 0.0, 0.18129551552318895, 0.0, 0.026506024096385541, 0.0086862106406080351]\n"
     ]
    },
    {
     "name": "stderr",
     "output_type": "stream",
     "text": [
      "0.0558: 100%|██████████| 15/15 [00:36<00:00,  2.36s/it]\n"
     ]
    },
    {
     "name": "stdout",
     "output_type": "stream",
     "text": [
      "21 epoch: \n",
      "train loss 0.038892944281299906\n"
     ]
    },
    {
     "name": "stderr",
     "output_type": "stream",
     "text": [
      "0.0176: 100%|██████████| 3/3 [00:04<00:00,  1.34s/it]\n"
     ]
    },
    {
     "name": "stdout",
     "output_type": "stream",
     "text": [
      "val loss 0.01740487478673458\n",
      "dices [0.026134800550206328, 0.49891657638136511, 0.0, 0.038025956848805491, 0.0, 0.0, 0.0024242424242424242, 0.46699358732553753, 0.0, 0.0, 0.0, 0.15246636771300448, 0.0, 0.019347037484885126, 0.0043525571273122961]\n"
     ]
    },
    {
     "name": "stderr",
     "output_type": "stream",
     "text": [
      "0.0419: 100%|██████████| 15/15 [00:36<00:00,  2.37s/it]\n"
     ]
    },
    {
     "name": "stdout",
     "output_type": "stream",
     "text": [
      "22 epoch: \n",
      "train loss 0.042322250952323275\n"
     ]
    },
    {
     "name": "stderr",
     "output_type": "stream",
     "text": [
      "0.0165: 100%|██████████| 3/3 [00:04<00:00,  1.34s/it]\n"
     ]
    },
    {
     "name": "stdout",
     "output_type": "stream",
     "text": [
      "val loss 0.0232930729786555\n",
      "dices [0.004178272980501393, 0.38196338137904168, 0.0, 0.014228322731837965, 0.0, 0.0, 0.0, 0.31656511265410231, 0.0, 0.0, 0.0, 0.04505994212484498, 0.0, 0.0072992700729927005, 0.0]\n"
     ]
    },
    {
     "name": "stderr",
     "output_type": "stream",
     "text": [
      "0.0615: 100%|██████████| 15/15 [00:36<00:00,  2.36s/it]\n"
     ]
    },
    {
     "name": "stdout",
     "output_type": "stream",
     "text": [
      "23 epoch: \n",
      "train loss 0.04579710513353348\n"
     ]
    },
    {
     "name": "stderr",
     "output_type": "stream",
     "text": [
      "0.0201: 100%|██████████| 3/3 [00:04<00:00,  1.34s/it]\n"
     ]
    },
    {
     "name": "stdout",
     "output_type": "stream",
     "text": [
      "val loss 0.01711573762198289\n",
      "dices [0.006954102920723227, 0.39039039039039036, 0.0, 0.018864774624373956, 0.0, 0.0, 0.0, 0.33024691358024694, 0.0, 0.0, 0.0, 0.051894563426688634, 0.0, 0.0085106382978723406, 0.0]\n"
     ]
    },
    {
     "name": "stderr",
     "output_type": "stream",
     "text": [
      "0.0320: 100%|██████████| 15/15 [00:36<00:00,  2.36s/it]\n"
     ]
    },
    {
     "name": "stdout",
     "output_type": "stream",
     "text": [
      "24 epoch: \n",
      "train loss 0.04480612128973007\n"
     ]
    },
    {
     "name": "stderr",
     "output_type": "stream",
     "text": [
      "0.0188: 100%|██████████| 3/3 [00:04<00:00,  1.34s/it]\n"
     ]
    },
    {
     "name": "stdout",
     "output_type": "stream",
     "text": [
      "val loss 0.01623407316704591\n",
      "dices [0.019337016574585635, 0.43474576271186438, 0.0, 0.035105149859248223, 0.0, 0.0, 0.0012128562765312311, 0.39637719765583379, 0.0, 0.0, 0.0, 0.10425020048115477, 0.0, 0.020543806646525681, 0.0043525571273122961]\n"
     ]
    },
    {
     "name": "stderr",
     "output_type": "stream",
     "text": [
      "0.0325: 100%|██████████| 15/15 [00:36<00:00,  2.35s/it]\n"
     ]
    },
    {
     "name": "stdout",
     "output_type": "stream",
     "text": [
      "25 epoch: \n",
      "train loss 0.035419819255669914\n"
     ]
    },
    {
     "name": "stderr",
     "output_type": "stream",
     "text": [
      "0.0191: 100%|██████████| 3/3 [00:04<00:00,  1.34s/it]\n"
     ]
    },
    {
     "name": "stdout",
     "output_type": "stream",
     "text": [
      "val loss 0.021002729733784992\n",
      "dices [0.0027874564459930314, 0.34546269102493904, 0.0, 0.016546882834698313, 0.0, 0.0, 0.0, 0.29674099485420241, 0.0, 0.0, 0.0, 0.048639736191261336, 0.0, 0.0097205346294046164, 0.0]\n"
     ]
    },
    {
     "name": "stderr",
     "output_type": "stream",
     "text": [
      "0.0352: 100%|██████████| 15/15 [00:36<00:00,  2.36s/it]\n",
      "  0%|          | 0/3 [00:00<?, ?it/s]"
     ]
    },
    {
     "name": "stdout",
     "output_type": "stream",
     "text": [
      "26 epoch: \n",
      "train loss 0.042911012967427574\n"
     ]
    },
    {
     "name": "stderr",
     "output_type": "stream",
     "text": [
      "0.0285: 100%|██████████| 3/3 [00:04<00:00,  1.34s/it]\n"
     ]
    },
    {
     "name": "stdout",
     "output_type": "stream",
     "text": [
      "val loss 0.02072779896358649\n",
      "dices [0.0027874564459930314, 0.31427846817144306, 0.0, 0.01422475106685633, 0.0, 0.0, 0.0, 0.25887877898444378, 0.0, 0.0, 0.0, 0.036137071651090341, 0.0, 0.0097205346294046164, 0.0]\n"
     ]
    },
    {
     "name": "stderr",
     "output_type": "stream",
     "text": [
      "0.0351: 100%|██████████| 15/15 [00:36<00:00,  2.36s/it]\n"
     ]
    },
    {
     "name": "stdout",
     "output_type": "stream",
     "text": [
      "27 epoch: \n",
      "train loss 0.037462401141722994\n"
     ]
    },
    {
     "name": "stderr",
     "output_type": "stream",
     "text": [
      "0.0144: 100%|██████████| 3/3 [00:04<00:00,  1.34s/it]\n"
     ]
    },
    {
     "name": "stdout",
     "output_type": "stream",
     "text": [
      "val loss 0.016197541107734043\n",
      "dices [0.0055671537926235215, 0.33104071489532605, 0.0, 0.022159280239920028, 0.0, 0.0, 0.0, 0.28394884322460123, 0.0, 0.0, 0.0, 0.051713523496819208, 0.0, 0.012135922330097087, 0.0]\n"
     ]
    },
    {
     "name": "stderr",
     "output_type": "stream",
     "text": [
      "0.0502: 100%|██████████| 15/15 [00:36<00:00,  2.36s/it]\n"
     ]
    },
    {
     "name": "stdout",
     "output_type": "stream",
     "text": [
      "28 epoch: \n",
      "train loss 0.03783694691956043\n"
     ]
    },
    {
     "name": "stderr",
     "output_type": "stream",
     "text": [
      "0.0195: 100%|██████████| 3/3 [00:04<00:00,  1.34s/it]\n"
     ]
    },
    {
     "name": "stdout",
     "output_type": "stream",
     "text": [
      "val loss 0.02406575344502926\n",
      "dices [0.004178272980501393, 0.32031131551018344, 0.0, 0.016213957375679065, 0.0, 0.0, 0.0, 0.27001889260281936, 0.0, 0.0, 0.0, 0.03155490969483081, 0.0, 0.01092896174863388, 0.0043525571273122961]\n"
     ]
    },
    {
     "name": "stderr",
     "output_type": "stream",
     "text": [
      "0.0220: 100%|██████████| 15/15 [00:36<00:00,  2.37s/it]\n"
     ]
    },
    {
     "name": "stdout",
     "output_type": "stream",
     "text": [
      "29 epoch: \n",
      "train loss 0.0357472125440836\n"
     ]
    },
    {
     "name": "stderr",
     "output_type": "stream",
     "text": [
      "0.0216: 100%|██████████| 3/3 [00:04<00:00,  1.34s/it]\n"
     ]
    },
    {
     "name": "stdout",
     "output_type": "stream",
     "text": [
      "val loss 0.022200961286822956\n",
      "dices [0.011072664359861591, 0.37368652558525978, 0.0, 0.049453709028177112, 0.0, 0.0, 0.0012128562765312311, 0.34171678512848552, 0.0, 0.0, 0.0, 0.095257154292575544, 0.0, 0.030066145520144319, 0.0065217391304347823]\n"
     ]
    },
    {
     "name": "stderr",
     "output_type": "stream",
     "text": [
      "0.0520: 100%|██████████| 15/15 [00:36<00:00,  2.36s/it]\n"
     ]
    },
    {
     "name": "stdout",
     "output_type": "stream",
     "text": [
      "30 epoch: \n",
      "train loss 0.03650603455801805\n"
     ]
    },
    {
     "name": "stderr",
     "output_type": "stream",
     "text": [
      "0.0243: 100%|██████████| 3/3 [00:04<00:00,  1.34s/it]\n"
     ]
    },
    {
     "name": "stdout",
     "output_type": "stream",
     "text": [
      "val loss 0.021904177963733673\n",
      "dices [0.0, 0.26041884816753924, 0.0, 0.0092250922509225092, 0.0, 0.0, 0.0, 0.20602026924822267, 0.0, 0.0, 0.0, 0.017161992465466722, 0.0, 0.0085106382978723406, 0.0]\n"
     ]
    },
    {
     "name": "stderr",
     "output_type": "stream",
     "text": [
      "0.0366: 100%|██████████| 15/15 [00:36<00:00,  2.36s/it]\n"
     ]
    },
    {
     "name": "stdout",
     "output_type": "stream",
     "text": [
      "31 epoch: \n",
      "train loss 0.03893876895308494\n"
     ]
    },
    {
     "name": "stderr",
     "output_type": "stream",
     "text": [
      "0.0147: 100%|██████████| 3/3 [00:04<00:00,  1.34s/it]\n"
     ]
    },
    {
     "name": "stdout",
     "output_type": "stream",
     "text": [
      "val loss 0.022769728985925514\n",
      "dices [0.006954102920723227, 0.30749656471067233, 0.0, 0.024294866461436061, 0.0, 0.0, 0.0, 0.2631502680770903, 0.0, 0.0, 0.0, 0.0460431654676259, 0.0, 0.019347037484885126, 0.0043525571273122961]\n"
     ]
    },
    {
     "name": "stderr",
     "output_type": "stream",
     "text": [
      "0.0405: 100%|██████████| 15/15 [00:36<00:00,  2.36s/it]\n"
     ]
    },
    {
     "name": "stdout",
     "output_type": "stream",
     "text": [
      "32 epoch: \n",
      "train loss 0.03928235781689485\n"
     ]
    },
    {
     "name": "stderr",
     "output_type": "stream",
     "text": [
      "0.0199: 100%|██████████| 3/3 [00:04<00:00,  1.34s/it]\n"
     ]
    },
    {
     "name": "stdout",
     "output_type": "stream",
     "text": [
      "val loss 0.02249939429263274\n",
      "dices [0.0013947001394700139, 0.2405123590747896, 0.0, 0.010058675607711651, 0.0, 0.0, 0.0, 0.18979436405178979, 0.0, 0.0, 0.0, 0.0179428332985604, 0.0, 0.012135922330097087, 0.0043525571273122961]\n"
     ]
    },
    {
     "name": "stderr",
     "output_type": "stream",
     "text": [
      "0.0258: 100%|██████████| 15/15 [00:36<00:00,  2.36s/it]\n",
      "  0%|          | 0/3 [00:00<?, ?it/s]"
     ]
    },
    {
     "name": "stdout",
     "output_type": "stream",
     "text": [
      "33 epoch: \n",
      "train loss 0.04102193154394627\n"
     ]
    },
    {
     "name": "stderr",
     "output_type": "stream",
     "text": [
      "0.0243: 100%|██████████| 3/3 [00:04<00:00,  1.34s/it]\n"
     ]
    },
    {
     "name": "stdout",
     "output_type": "stream",
     "text": [
      "val loss 0.02094070427119732\n",
      "dices [0.0, 0.0061250225184651414, 0.0, 0.0, 0.0, 0.0, 0.0, 0.0, 0.0, 0.0, 0.0, 0.0, 0.0, 0.0, 0.0]\n"
     ]
    },
    {
     "name": "stderr",
     "output_type": "stream",
     "text": [
      "0.0208: 100%|██████████| 15/15 [00:36<00:00,  2.36s/it]\n",
      "  0%|          | 0/3 [00:00<?, ?it/s]"
     ]
    },
    {
     "name": "stdout",
     "output_type": "stream",
     "text": [
      "34 epoch: \n",
      "train loss 0.036052375783522925\n"
     ]
    },
    {
     "name": "stderr",
     "output_type": "stream",
     "text": [
      "0.0229: 100%|██████████| 3/3 [00:04<00:00,  1.34s/it]\n"
     ]
    },
    {
     "name": "stdout",
     "output_type": "stream",
     "text": [
      "val loss 0.021253113945325215\n",
      "dices [0.0, 0.10116598079561043, 0.0, 0.0010107816711590297, 0.0, 0.0, 0.0, 0.018197135636057286, 0.0, 0.0, 0.0, 0.0088476932799662952, 0.0, 0.0, 0.0]\n"
     ]
    },
    {
     "name": "stderr",
     "output_type": "stream",
     "text": [
      "0.0423: 100%|██████████| 15/15 [00:36<00:00,  2.36s/it]\n"
     ]
    },
    {
     "name": "stdout",
     "output_type": "stream",
     "text": [
      "35 epoch: \n",
      "train loss 0.032798702890674276\n"
     ]
    },
    {
     "name": "stderr",
     "output_type": "stream",
     "text": [
      "0.0217: 100%|██████████| 3/3 [00:04<00:00,  1.34s/it]\n"
     ]
    },
    {
     "name": "stdout",
     "output_type": "stream",
     "text": [
      "val loss 0.02040133687357108\n",
      "dices [0.039509536784741145, 0.45070684523809523, 0.0, 0.096032064128256517, 0.0017331022530329288, 0.0, 0.014457831325301205, 0.41750321750321751, 0.0, 0.0, 0.0, 0.14733542319749215, 0.0, 0.041841004184100417, 0.023706896551724137]\n"
     ]
    },
    {
     "name": "stderr",
     "output_type": "stream",
     "text": [
      "0.0468: 100%|██████████| 15/15 [00:36<00:00,  2.37s/it]\n"
     ]
    },
    {
     "name": "stdout",
     "output_type": "stream",
     "text": [
      "36 epoch: \n",
      "train loss 0.04053374590973059\n"
     ]
    },
    {
     "name": "stderr",
     "output_type": "stream",
     "text": [
      "0.0173: 100%|██████████| 3/3 [00:04<00:00,  1.34s/it]\n"
     ]
    },
    {
     "name": "stdout",
     "output_type": "stream",
     "text": [
      "val loss 0.02399412790934245\n",
      "dices [0.16666666666666666, 0.63236791722677099, 0.0, 0.24799588144443627, 0.043760129659643439, 0.0, 0.19423692636072573, 0.5224792229898868, 0.024593128390596745, 0.0, 0.10434782608695652, 0.46830364307494782, 0.12159329140461216, 0.19073869900771775, 0.19842829076620824]\n"
     ]
    },
    {
     "name": "stderr",
     "output_type": "stream",
     "text": [
      "0.0376: 100%|██████████| 15/15 [00:36<00:00,  2.37s/it]\n",
      "  0%|          | 0/3 [00:00<?, ?it/s]"
     ]
    },
    {
     "name": "stdout",
     "output_type": "stream",
     "text": [
      "37 epoch: \n",
      "train loss 0.03697580322623253\n"
     ]
    },
    {
     "name": "stderr",
     "output_type": "stream",
     "text": [
      "0.0205: 100%|██████████| 3/3 [00:04<00:00,  1.34s/it]\n"
     ]
    },
    {
     "name": "stdout",
     "output_type": "stream",
     "text": [
      "val loss 0.020174650475382805\n",
      "dices [0.035665294924554183, 0.31876580677794636, 0.0, 0.093378334940533589, 0.00061124694376528117, 0.0, 0.014457831325301205, 0.19920804142552542, 0.0, 0.0, 0.0, 0.067075664621676898, 0.0, 0.030066145520144319, 0.019438444924406047]\n"
     ]
    },
    {
     "name": "stderr",
     "output_type": "stream",
     "text": [
      "0.0250: 100%|██████████| 15/15 [00:36<00:00,  2.36s/it]\n"
     ]
    },
    {
     "name": "stdout",
     "output_type": "stream",
     "text": [
      "38 epoch: \n",
      "train loss 0.03420389952758948\n"
     ]
    },
    {
     "name": "stderr",
     "output_type": "stream",
     "text": [
      "0.0245: 100%|██████████| 3/3 [00:04<00:00,  1.34s/it]\n"
     ]
    },
    {
     "name": "stdout",
     "output_type": "stream",
     "text": [
      "val loss 0.019180082095166046\n",
      "dices [0.20300751879699247, 0.64779417694975405, 0.0, 0.30889679715302493, 0.046259280411193607, 0.0031821797931583136, 0.2822085889570552, 0.56653666888614096, 0.10575589459084604, 0.0, 0.18506834910620398, 0.55488721804511276, 0.24313725490196078, 0.24986709197235513, 0.24161073825503357]\n"
     ]
    },
    {
     "name": "stderr",
     "output_type": "stream",
     "text": [
      "0.0193: 100%|██████████| 15/15 [00:36<00:00,  2.37s/it]\n"
     ]
    },
    {
     "name": "stdout",
     "output_type": "stream",
     "text": [
      "39 epoch: \n",
      "train loss 0.032256699974338214\n"
     ]
    },
    {
     "name": "stderr",
     "output_type": "stream",
     "text": [
      "0.0212: 100%|██████████| 3/3 [00:04<00:00,  1.34s/it]\n"
     ]
    },
    {
     "name": "stdout",
     "output_type": "stream",
     "text": [
      "val loss 0.02248188853263855\n",
      "dices [0.22277227722772278, 0.62348078733068713, 0.0, 0.3449045029973512, 0.03561887800534283, 0.01763854152955114, 0.32683658170914542, 0.47186381871408434, 0.14685433271154824, 0.0, 0.25604838709677419, 0.5678829960112276, 0.32462686567164178, 0.27210884353741499, 0.29101019462465244]\n"
     ]
    },
    {
     "name": "stderr",
     "output_type": "stream",
     "text": [
      "0.0492: 100%|██████████| 15/15 [00:36<00:00,  2.37s/it]\n"
     ]
    },
    {
     "name": "stdout",
     "output_type": "stream",
     "text": [
      "40 epoch: \n",
      "train loss 0.030912554636597634\n"
     ]
    },
    {
     "name": "stderr",
     "output_type": "stream",
     "text": [
      "0.0217: 100%|██████████| 3/3 [00:04<00:00,  1.34s/it]\n"
     ]
    },
    {
     "name": "stdout",
     "output_type": "stream",
     "text": [
      "val loss 0.021018559734026592\n",
      "dices [0.32943568886629387, 0.68186015587485682, 0.0738327904451683, 0.55603396722880039, 0.077854671280276816, 0.3021501744906, 0.47954545454545455, 0.49474421864050455, 0.49713036348729162, 0.0089686098654708519, 0.47156937073540561, 0.6798085688240656, 0.47211155378486058, 0.46376811594202899, 0.47025892232330302]\n"
     ]
    },
    {
     "name": "stderr",
     "output_type": "stream",
     "text": [
      "0.0366: 100%|██████████| 15/15 [00:36<00:00,  2.38s/it]\n",
      "  0%|          | 0/3 [00:00<?, ?it/s]"
     ]
    },
    {
     "name": "stdout",
     "output_type": "stream",
     "text": [
      "41 epoch: \n",
      "train loss 0.03239177924891313\n"
     ]
    },
    {
     "name": "stderr",
     "output_type": "stream",
     "text": [
      "0.0204: 100%|██████████| 3/3 [00:04<00:00,  1.34s/it]\n"
     ]
    },
    {
     "name": "stdout",
     "output_type": "stream",
     "text": [
      "val loss 0.016285451129078865\n",
      "dices [0.17080943275971958, 0.53282122905027929, 0.0, 0.34628237259816208, 0.016347060672744419, 0.045678691928367508, 0.33181588265048051, 0.42632513314734971, 0.20528822466743307, 0.0, 0.2722722722722723, 0.50613258810743678, 0.0, 0.26179120296767355, 0.24881291547958215]\n"
     ]
    },
    {
     "name": "stderr",
     "output_type": "stream",
     "text": [
      "0.0403: 100%|██████████| 15/15 [00:36<00:00,  2.36s/it]\n"
     ]
    },
    {
     "name": "stdout",
     "output_type": "stream",
     "text": [
      "42 epoch: \n",
      "train loss 0.03167479435602824\n"
     ]
    },
    {
     "name": "stderr",
     "output_type": "stream",
     "text": [
      "0.0216: 100%|██████████| 3/3 [00:04<00:00,  1.34s/it]\n"
     ]
    },
    {
     "name": "stdout",
     "output_type": "stream",
     "text": [
      "val loss 0.01839849508057038\n",
      "dices [0.30718232044198895, 0.65381804193114057, 0.062827225130890049, 0.53078945759187912, 0.077842476248850753, 0.28895956383462063, 0.35675675675675678, 0.42165122156697554, 0.46302250803858519, 0.004830917874396135, 0.497165991902834, 0.68037602820211518, 0.38051750380517502, 0.44323835368611486, 0.4880239520958084]\n"
     ]
    },
    {
     "name": "stderr",
     "output_type": "stream",
     "text": [
      "0.0338: 100%|██████████| 15/15 [00:36<00:00,  2.36s/it]\n"
     ]
    },
    {
     "name": "stdout",
     "output_type": "stream",
     "text": [
      "43 epoch: \n",
      "train loss 0.029149674251675604\n"
     ]
    },
    {
     "name": "stderr",
     "output_type": "stream",
     "text": [
      "0.0145: 100%|██████████| 3/3 [00:04<00:00,  1.34s/it]\n"
     ]
    },
    {
     "name": "stdout",
     "output_type": "stream",
     "text": [
      "val loss 0.017413800582289696\n",
      "dices [0.28013665202537824, 0.62619372442019094, 0.011695906432748537, 0.48773140884844679, 0.073851696187331131, 0.35786719005561007, 0.27851140456182472, 0.33651597817614964, 0.39726417782844115, 0.0, 0.31578947368421051, 0.66171003717472121, 0.040287769784172658, 0.25048923679060664, 0.34024896265560167]\n"
     ]
    },
    {
     "name": "stderr",
     "output_type": "stream",
     "text": [
      "0.0339: 100%|██████████| 15/15 [00:36<00:00,  2.37s/it]\n",
      "  0%|          | 0/3 [00:00<?, ?it/s]"
     ]
    },
    {
     "name": "stdout",
     "output_type": "stream",
     "text": [
      "44 epoch: \n",
      "train loss 0.029273775468269984\n"
     ]
    },
    {
     "name": "stderr",
     "output_type": "stream",
     "text": [
      "0.0159: 100%|██████████| 3/3 [00:04<00:00,  1.34s/it]\n"
     ]
    },
    {
     "name": "stdout",
     "output_type": "stream",
     "text": [
      "val loss 0.016352642327547073\n",
      "dices [0.29879793932455639, 0.64796688203660002, 0.057052297939778132, 0.51306325690047339, 0.055453991468616695, 0.31987508364934197, 0.35528756957328383, 0.4265927977839335, 0.49125683060109288, 0.0, 0.42206654991243431, 0.65169349027143886, 0.039447731755424063, 0.41332733003151734, 0.38773819386909691]\n"
     ]
    },
    {
     "name": "stderr",
     "output_type": "stream",
     "text": [
      "0.0274: 100%|██████████| 15/15 [00:36<00:00,  2.37s/it]\n"
     ]
    },
    {
     "name": "stdout",
     "output_type": "stream",
     "text": [
      "45 epoch: \n",
      "train loss 0.024093135073781014\n"
     ]
    },
    {
     "name": "stderr",
     "output_type": "stream",
     "text": [
      "0.0179: 100%|██████████| 3/3 [00:04<00:00,  1.34s/it]\n"
     ]
    },
    {
     "name": "stdout",
     "output_type": "stream",
     "text": [
      "val loss 0.01755988784134388\n",
      "dices [0.33544877606527651, 0.69604279541869551, 0.090543259557344061, 0.59417951143508985, 0.096164854035489411, 0.55734579082848701, 0.40230326295585411, 0.40494494078537296, 0.64080664294187428, 0.0039603960396039604, 0.51894374282433986, 0.65432345876701359, 0.28380187416331992, 0.46108663729809102, 0.49912536443148686]\n"
     ]
    },
    {
     "name": "stderr",
     "output_type": "stream",
     "text": [
      "0.0344: 100%|██████████| 15/15 [00:36<00:00,  2.36s/it]\n",
      "  0%|          | 0/3 [00:00<?, ?it/s]"
     ]
    },
    {
     "name": "stdout",
     "output_type": "stream",
     "text": [
      "46 epoch: \n",
      "train loss 0.028693546603123347\n"
     ]
    },
    {
     "name": "stderr",
     "output_type": "stream",
     "text": [
      "0.0176: 100%|██████████| 3/3 [00:04<00:00,  1.34s/it]\n"
     ]
    },
    {
     "name": "stdout",
     "output_type": "stream",
     "text": [
      "val loss 0.018766259774565697\n",
      "dices [0.29530201342281881, 0.67883237951265163, 0.16903765690376568, 0.59448605231737761, 0.088687782805429868, 0.54261201143946614, 0.47476340694006308, 0.53831162170479019, 0.69053424961205945, 0.032345013477088951, 0.58193146417445485, 0.64278005611914524, 0.15296367112810708, 0.47603027754415478, 0.54474708171206221]\n"
     ]
    },
    {
     "name": "stderr",
     "output_type": "stream",
     "text": [
      "0.0330: 100%|██████████| 15/15 [00:36<00:00,  2.36s/it]\n"
     ]
    },
    {
     "name": "stdout",
     "output_type": "stream",
     "text": [
      "47 epoch: \n",
      "train loss 0.029201115171114605\n"
     ]
    },
    {
     "name": "stderr",
     "output_type": "stream",
     "text": [
      "0.0155: 100%|██████████| 3/3 [00:04<00:00,  1.34s/it]\n"
     ]
    },
    {
     "name": "stdout",
     "output_type": "stream",
     "text": [
      "val loss 0.018473221609989803\n",
      "dices [0.34602076124567471, 0.70040041104142303, 0.052391799544419138, 0.5916900617630545, 0.12646894236149972, 0.49525900788501848, 0.34567901234567899, 0.46945282205945715, 0.57858933046902972, 0.0, 0.38857142857142857, 0.66099055134461637, 0.24695121951219512, 0.44500846023688662, 0.44278943805010157]\n"
     ]
    },
    {
     "name": "stderr",
     "output_type": "stream",
     "text": [
      "0.0325: 100%|██████████| 15/15 [00:36<00:00,  2.37s/it]\n"
     ]
    },
    {
     "name": "stdout",
     "output_type": "stream",
     "text": [
      "48 epoch: \n",
      "train loss 0.026373219738403956\n"
     ]
    },
    {
     "name": "stderr",
     "output_type": "stream",
     "text": [
      "0.0207: 100%|██████████| 3/3 [00:04<00:00,  1.34s/it]\n"
     ]
    },
    {
     "name": "stdout",
     "output_type": "stream",
     "text": [
      "val loss 0.02270461680988471\n",
      "dices [0.17839687194525905, 0.69805689611379218, 0.11056268509378085, 0.59059820826509968, 0.080870182076140926, 0.70949633556837677, 0.35856573705179284, 0.49315068493150682, 0.64979537292240874, 0.017364657814096015, 0.3298245614035088, 0.57308970099667778, 0.23479005998286204, 0.50015064778547758, 0.38480801335559267]\n"
     ]
    },
    {
     "name": "stderr",
     "output_type": "stream",
     "text": [
      "0.0315: 100%|██████████| 15/15 [00:36<00:00,  2.37s/it]\n",
      "  0%|          | 0/3 [00:00<?, ?it/s]"
     ]
    },
    {
     "name": "stdout",
     "output_type": "stream",
     "text": [
      "49 epoch: \n",
      "train loss 0.04007767302294572\n"
     ]
    },
    {
     "name": "stderr",
     "output_type": "stream",
     "text": [
      "0.0242: 100%|██████████| 3/3 [00:04<00:00,  1.34s/it]\n"
     ]
    },
    {
     "name": "stdout",
     "output_type": "stream",
     "text": [
      "val loss 0.024334679047266643\n",
      "dices [0.36372646184340934, 0.72867720347429876, 0.1227106227106227, 0.55436010224097965, 0.082833476149671528, 0.33932311762760448, 0.4996342355523043, 0.48291288679010813, 0.60629335976214072, 0.031890660592255128, 0.50842020850040093, 0.65224913494809689, 0.54806629834254139, 0.54330708661417326, 0.52090975788701399]\n"
     ]
    },
    {
     "name": "stderr",
     "output_type": "stream",
     "text": [
      "0.0310: 100%|██████████| 15/15 [00:36<00:00,  2.36s/it]\n"
     ]
    },
    {
     "name": "stdout",
     "output_type": "stream",
     "text": [
      "50 epoch: \n",
      "train loss 0.029807531833648683\n"
     ]
    },
    {
     "name": "stderr",
     "output_type": "stream",
     "text": [
      "0.0177: 100%|██████████| 3/3 [00:04<00:00,  1.34s/it]\n"
     ]
    },
    {
     "name": "stdout",
     "output_type": "stream",
     "text": [
      "val loss 0.019620138530929882\n",
      "dices [0.33821989528795809, 0.55992018954981915, 0.0, 0.41409400409863156, 0.075360612304974983, 0.40853851844024092, 0.24977538185085355, 0.2891333719359197, 0.038776236214870155, 0.0, 0.15943312666076173, 0.52945696721311475, 0.094064949608062706, 0.22159090909090909, 0.2376068376068376]\n"
     ]
    },
    {
     "name": "stderr",
     "output_type": "stream",
     "text": [
      "0.0170: 100%|██████████| 15/15 [00:36<00:00,  2.36s/it]\n",
      "  0%|          | 0/3 [00:00<?, ?it/s]"
     ]
    },
    {
     "name": "stdout",
     "output_type": "stream",
     "text": [
      "51 epoch: \n",
      "train loss 0.02588097589711348\n"
     ]
    },
    {
     "name": "stderr",
     "output_type": "stream",
     "text": [
      "0.0141: 100%|██████████| 3/3 [00:04<00:00,  1.34s/it]\n"
     ]
    },
    {
     "name": "stdout",
     "output_type": "stream",
     "text": [
      "val loss 0.015874776057898998\n",
      "dices [0.33549783549783552, 0.65318724349561352, 0.047457627118644069, 0.56689522298407657, 0.079326923076923073, 0.50935960591133, 0.34108527131782945, 0.50625558534405724, 0.60260826771653542, 0.0, 0.49688473520249221, 0.64254385964912286, 0.075789473684210532, 0.42537654039251482, 0.44778362133734034]\n"
     ]
    },
    {
     "name": "stderr",
     "output_type": "stream",
     "text": [
      "0.0234: 100%|██████████| 15/15 [00:36<00:00,  2.37s/it]\n"
     ]
    },
    {
     "name": "stdout",
     "output_type": "stream",
     "text": [
      "52 epoch: \n",
      "train loss 0.024404286034405233\n"
     ]
    },
    {
     "name": "stderr",
     "output_type": "stream",
     "text": [
      "0.0114: 100%|██████████| 3/3 [00:04<00:00,  1.34s/it]\n"
     ]
    },
    {
     "name": "stdout",
     "output_type": "stream",
     "text": [
      "val loss 0.011902101337909698\n",
      "dices [0.33050367855121676, 0.67460723419802704, 0.029895366218236172, 0.58219954648526073, 0.088875453446191049, 0.52723013859066958, 0.35075885328836426, 0.45754558675467055, 0.58491753745436237, 0.0, 0.47103658536585363, 0.64404479131319992, 0.075630252100840331, 0.34722903384011772, 0.41719745222929938]\n"
     ]
    },
    {
     "name": "stderr",
     "output_type": "stream",
     "text": [
      "0.0248: 100%|██████████| 15/15 [00:36<00:00,  2.37s/it]\n",
      "  0%|          | 0/3 [00:00<?, ?it/s]"
     ]
    },
    {
     "name": "stdout",
     "output_type": "stream",
     "text": [
      "53 epoch: \n",
      "train loss 0.026009126752614974\n"
     ]
    },
    {
     "name": "stderr",
     "output_type": "stream",
     "text": [
      "0.0129: 100%|██████████| 3/3 [00:04<00:00,  1.34s/it]\n"
     ]
    },
    {
     "name": "stdout",
     "output_type": "stream",
     "text": [
      "val loss 0.015364934069414934\n",
      "dices [0.36540540540540539, 0.68294117647058827, 0.03462050599201065, 0.59259259259259256, 0.07627627627627627, 0.53574888587483049, 0.35398230088495575, 0.33659491193737767, 0.58271480689394894, 0.0, 0.55100714749837554, 0.62955676426339546, 0.074534161490683232, 0.40273972602739727, 0.52144772117962468]\n"
     ]
    },
    {
     "name": "stderr",
     "output_type": "stream",
     "text": [
      "0.0216: 100%|██████████| 15/15 [00:36<00:00,  2.36s/it]\n"
     ]
    },
    {
     "name": "stdout",
     "output_type": "stream",
     "text": [
      "54 epoch: \n",
      "train loss 0.025192881065110365\n"
     ]
    },
    {
     "name": "stderr",
     "output_type": "stream",
     "text": [
      "0.0153: 100%|██████████| 3/3 [00:04<00:00,  1.34s/it]\n"
     ]
    },
    {
     "name": "stdout",
     "output_type": "stream",
     "text": [
      "val loss 0.014885399490594864\n",
      "dices [0.37023080546396608, 0.7008558951965066, 0.10010881392818281, 0.62601668678176003, 0.11744084136722173, 0.63653483992467041, 0.40606936416184969, 0.46873411286222672, 0.69691551184622258, 0.0, 0.53276047261009662, 0.64592650204160995, 0.15883306320907617, 0.4663382594417077, 0.51421938479396401]\n"
     ]
    },
    {
     "name": "stderr",
     "output_type": "stream",
     "text": [
      "0.0256: 100%|██████████| 15/15 [00:36<00:00,  2.37s/it]\n"
     ]
    },
    {
     "name": "stdout",
     "output_type": "stream",
     "text": [
      "55 epoch: \n",
      "train loss 0.024881532105306785\n"
     ]
    },
    {
     "name": "stderr",
     "output_type": "stream",
     "text": [
      "0.0187: 100%|██████████| 3/3 [00:04<00:00,  1.34s/it]\n"
     ]
    },
    {
     "name": "stdout",
     "output_type": "stream",
     "text": [
      "val loss 0.017157984897494316\n",
      "dices [0.35184400169563373, 0.72356082313102366, 0.1177257525083612, 0.63925652004671074, 0.10876993166287016, 0.73610998786898507, 0.37223621606493146, 0.52337929941353623, 0.71559988379974826, 0.011342155009451797, 0.51126244106862229, 0.61315897016755205, 0.20761245674740483, 0.47526295286326453, 0.50351288056206089]\n"
     ]
    },
    {
     "name": "stderr",
     "output_type": "stream",
     "text": [
      "0.0218: 100%|██████████| 15/15 [00:36<00:00,  2.36s/it]\n",
      "  0%|          | 0/3 [00:00<?, ?it/s]"
     ]
    },
    {
     "name": "stdout",
     "output_type": "stream",
     "text": [
      "56 epoch: \n",
      "train loss 0.02533408844222625\n"
     ]
    },
    {
     "name": "stderr",
     "output_type": "stream",
     "text": [
      "0.0135: 100%|██████████| 3/3 [00:04<00:00,  1.34s/it]\n"
     ]
    },
    {
     "name": "stdout",
     "output_type": "stream",
     "text": [
      "val loss 0.015395908306042353\n",
      "dices [0.40696517412935324, 0.71473890572090537, 0.090056285178236398, 0.63236159400909331, 0.11719894520949312, 0.58775205377147122, 0.41386861313868611, 0.46445766071934297, 0.64039995238662062, 0.0, 0.51316526610644253, 0.65736275012827095, 0.32805755395683456, 0.47879282218597063, 0.52741836105976592]\n"
     ]
    },
    {
     "name": "stderr",
     "output_type": "stream",
     "text": [
      "0.0231: 100%|██████████| 15/15 [00:36<00:00,  2.37s/it]\n"
     ]
    },
    {
     "name": "stdout",
     "output_type": "stream",
     "text": [
      "57 epoch: \n",
      "train loss 0.024055748308698336\n"
     ]
    },
    {
     "name": "stderr",
     "output_type": "stream",
     "text": [
      "0.0110: 100%|██████████| 3/3 [00:04<00:00,  1.34s/it]\n"
     ]
    },
    {
     "name": "stdout",
     "output_type": "stream",
     "text": [
      "val loss 0.01365377971281608\n",
      "dices [0.36684491978609624, 0.70789511597752486, 0.11446740858505565, 0.6249039200614912, 0.057001239157372985, 0.63710912859331348, 0.41273779983457404, 0.50669065557179804, 0.63289616171339191, 0.0, 0.53606965174129351, 0.6472491909385113, 0.20905923344947736, 0.4658249891162386, 0.51093066833229228]\n"
     ]
    },
    {
     "name": "stderr",
     "output_type": "stream",
     "text": [
      "0.0209: 100%|██████████| 15/15 [00:36<00:00,  2.36s/it]\n",
      "  0%|          | 0/3 [00:00<?, ?it/s]"
     ]
    },
    {
     "name": "stdout",
     "output_type": "stream",
     "text": [
      "58 epoch: \n",
      "train loss 0.023320239037275314\n"
     ]
    },
    {
     "name": "stderr",
     "output_type": "stream",
     "text": [
      "0.0139: 100%|██████████| 3/3 [00:04<00:00,  1.34s/it]\n"
     ]
    },
    {
     "name": "stdout",
     "output_type": "stream",
     "text": [
      "val loss 0.01660867004344861\n",
      "dices [0.25331724969843183, 0.694907887258016, 0.12026515151515152, 0.63783110600182014, 0.12854442344045369, 0.70576999602069235, 0.4308077645585473, 0.51350043549791924, 0.71131729003575916, 0.031627906976744183, 0.45930701047542305, 0.59991977537103891, 0.18911174785100288, 0.52359550561797752, 0.44370860927152317]\n"
     ]
    },
    {
     "name": "stderr",
     "output_type": "stream",
     "text": [
      "0.0153: 100%|██████████| 15/15 [00:36<00:00,  2.37s/it]\n"
     ]
    },
    {
     "name": "stdout",
     "output_type": "stream",
     "text": [
      "59 epoch: \n",
      "train loss 0.023206193558871747\n"
     ]
    },
    {
     "name": "stderr",
     "output_type": "stream",
     "text": [
      "0.0146: 100%|██████████| 3/3 [00:04<00:00,  1.34s/it]\n"
     ]
    },
    {
     "name": "stdout",
     "output_type": "stream",
     "text": [
      "val loss 0.013099314644932747\n",
      "dices [0.35769656699889257, 0.6885378994759761, 0.057052297939778132, 0.60205514065921728, 0.042445359518530248, 0.61288546255506604, 0.4280442804428044, 0.49336688014638608, 0.58969226920190143, 0.0, 0.48837209302325579, 0.67039586919104988, 0.17208413001912046, 0.40410639290713951, 0.4360333080999243]\n"
     ]
    },
    {
     "name": "stderr",
     "output_type": "stream",
     "text": [
      "0.0155: 100%|██████████| 15/15 [00:36<00:00,  2.37s/it]\n"
     ]
    },
    {
     "name": "stdout",
     "output_type": "stream",
     "text": [
      "60 epoch: \n",
      "train loss 0.021995045617222785\n"
     ]
    },
    {
     "name": "stderr",
     "output_type": "stream",
     "text": [
      "0.0106: 100%|██████████| 4/4 [00:05<00:00,  1.34s/it]\n"
     ]
    },
    {
     "name": "stdout",
     "output_type": "stream",
     "text": [
      "val loss 0.010893865954130888\n",
      "dices [0.33404029692470838, 0.71293025832813905, 0.14084507042253522, 0.64459346186085498, 0.080939141180105034, 0.69380076955964087, 0.44262295081967212, 0.56326444538169551, 0.70408719346049042, 0.0, 0.52162685603615233, 0.65187523208317866, 0.14785992217898833, 0.4325581395348837, 0.52149791955617197]\n"
     ]
    },
    {
     "name": "stderr",
     "output_type": "stream",
     "text": [
      "0.0180: 100%|██████████| 15/15 [00:36<00:00,  2.36s/it]\n"
     ]
    },
    {
     "name": "stdout",
     "output_type": "stream",
     "text": [
      "61 epoch: \n",
      "train loss 0.0225279176607728\n"
     ]
    },
    {
     "name": "stderr",
     "output_type": "stream",
     "text": [
      "0.0122: 100%|██████████| 4/4 [00:05<00:00,  1.34s/it]\n"
     ]
    },
    {
     "name": "stdout",
     "output_type": "stream",
     "text": [
      "val loss 0.014149283291772008\n",
      "dices [0.32008592910848549, 0.72314900262653514, 0.14060258249641319, 0.63518627085220913, 0.086616541353383453, 0.66403716364273824, 0.42313664596273293, 0.55846057310186159, 0.6522298958211401, 0.0, 0.49226630800269, 0.68310911808669661, 0.28822495606326887, 0.37626628075253254, 0.49122807017543857]\n"
     ]
    },
    {
     "name": "stderr",
     "output_type": "stream",
     "text": [
      "0.0284: 100%|██████████| 15/15 [00:36<00:00,  2.36s/it]\n"
     ]
    },
    {
     "name": "stdout",
     "output_type": "stream",
     "text": [
      "62 epoch: \n",
      "train loss 0.02408215825756391\n"
     ]
    },
    {
     "name": "stderr",
     "output_type": "stream",
     "text": [
      "0.0137: 100%|██████████| 3/3 [00:04<00:00,  1.34s/it]\n"
     ]
    },
    {
     "name": "stdout",
     "output_type": "stream",
     "text": [
      "val loss 0.012764364170531431\n",
      "dices [0.34665282823040994, 0.73454291695743201, 0.055415617128463476, 0.64973080340808109, 0.095324283559577672, 0.62804441260744981, 0.41366223908918404, 0.44146005509641872, 0.54077582895916021, 0.0, 0.47928994082840237, 0.67367437514599393, 0.28336079077429982, 0.40203798054654932, 0.48402948402948404]\n"
     ]
    },
    {
     "name": "stderr",
     "output_type": "stream",
     "text": [
      "0.0384: 100%|██████████| 15/15 [00:36<00:00,  2.36s/it]\n"
     ]
    },
    {
     "name": "stdout",
     "output_type": "stream",
     "text": [
      "63 epoch: \n",
      "train loss 0.023872438880304495\n"
     ]
    },
    {
     "name": "stderr",
     "output_type": "stream",
     "text": [
      "0.0120: 100%|██████████| 3/3 [00:04<00:00,  1.34s/it]\n"
     ]
    },
    {
     "name": "stdout",
     "output_type": "stream",
     "text": [
      "val loss 0.012121365716060003\n",
      "dices [0.31494483450351052, 0.71697161792248953, 0.13562970936490851, 0.63543530897989264, 0.085975609756097554, 0.63709025594970814, 0.45659655831739959, 0.55299539170506917, 0.64342276326675329, 0.017421602787456445, 0.53219927095990283, 0.69620811287477957, 0.33240223463687152, 0.50021523891519581, 0.51856287425149705]\n"
     ]
    },
    {
     "name": "stderr",
     "output_type": "stream",
     "text": [
      "0.0316: 100%|██████████| 15/15 [00:36<00:00,  2.37s/it]\n"
     ]
    },
    {
     "name": "stdout",
     "output_type": "stream",
     "text": [
      "64 epoch: \n",
      "train loss 0.023630662510792416\n"
     ]
    },
    {
     "name": "stderr",
     "output_type": "stream",
     "text": [
      "0.0133: 100%|██████████| 3/3 [00:04<00:00,  1.34s/it]\n"
     ]
    },
    {
     "name": "stdout",
     "output_type": "stream",
     "text": [
      "val loss 0.012999647607405981\n",
      "dices [0.33624678663239077, 0.70877291367284712, 0.10141509433962265, 0.64525238263325102, 0.092867981790591803, 0.70172486327303318, 0.44130019120458891, 0.52023391812865494, 0.65550294491280747, 0.0068027210884353739, 0.52960312296681844, 0.67587650444793301, 0.26460481099656358, 0.42596917328351236, 0.51728723404255317]\n"
     ]
    },
    {
     "name": "stderr",
     "output_type": "stream",
     "text": [
      "0.0371: 100%|██████████| 15/15 [00:36<00:00,  2.37s/it]\n",
      "  0%|          | 0/3 [00:00<?, ?it/s]"
     ]
    },
    {
     "name": "stdout",
     "output_type": "stream",
     "text": [
      "65 epoch: \n",
      "train loss 0.028069295361638068\n"
     ]
    },
    {
     "name": "stderr",
     "output_type": "stream",
     "text": [
      "0.0186: 100%|██████████| 3/3 [00:04<00:00,  1.34s/it]\n"
     ]
    },
    {
     "name": "stdout",
     "output_type": "stream",
     "text": [
      "val loss 0.019035170475641888\n",
      "dices [0.41705069124423966, 0.70171720862257947, 0.085656016315431682, 0.62522773550530486, 0.12412636287391669, 0.36057068741893644, 0.44460277876736731, 0.33308181524199632, 0.44837515425750718, 0.0081855388813096858, 0.40000000000000002, 0.657528424184465, 0.29878401852924147, 0.54211663066954641, 0.37428977272727271]\n"
     ]
    },
    {
     "name": "stderr",
     "output_type": "stream",
     "text": [
      "0.0140: 100%|██████████| 15/15 [00:36<00:00,  2.36s/it]\n"
     ]
    },
    {
     "name": "stdout",
     "output_type": "stream",
     "text": [
      "66 epoch: \n",
      "train loss 0.023366615921258927\n"
     ]
    },
    {
     "name": "stderr",
     "output_type": "stream",
     "text": [
      "0.0095: 100%|██████████| 3/3 [00:04<00:00,  1.34s/it]\n"
     ]
    },
    {
     "name": "stdout",
     "output_type": "stream",
     "text": [
      "val loss 0.013110470647613207\n",
      "dices [0.32808532249873035, 0.71866353798199833, 0.071719641401792988, 0.63697638424284786, 0.071640023682652459, 0.68779501011463251, 0.49001536098310294, 0.50806542583192327, 0.65185015465689078, 0.0, 0.4889543446244477, 0.6773675762439807, 0.26879999999999998, 0.49151103565365023, 0.51546391752577314]\n"
     ]
    },
    {
     "name": "stderr",
     "output_type": "stream",
     "text": [
      "0.0198: 100%|██████████| 15/15 [00:36<00:00,  2.37s/it]\n"
     ]
    },
    {
     "name": "stdout",
     "output_type": "stream",
     "text": [
      "67 epoch: \n",
      "train loss 0.020569715897242227\n"
     ]
    },
    {
     "name": "stderr",
     "output_type": "stream",
     "text": [
      "0.0109: 100%|██████████| 3/3 [00:04<00:00,  1.34s/it]\n"
     ]
    },
    {
     "name": "stdout",
     "output_type": "stream",
     "text": [
      "val loss 0.011665324990948042\n",
      "dices [0.34885620915032678, 0.7343355867218242, 0.15171288743882544, 0.64623900365721065, 0.10627177700348432, 0.71987531785743586, 0.48968170689052115, 0.60998937300743894, 0.72274079392758228, 0.018691588785046728, 0.5356371490280778, 0.65611814345991559, 0.30293663060278209, 0.5248508946322068, 0.54262672811059909]\n"
     ]
    },
    {
     "name": "stderr",
     "output_type": "stream",
     "text": [
      "0.0211: 100%|██████████| 15/15 [00:36<00:00,  2.37s/it]\n"
     ]
    },
    {
     "name": "stdout",
     "output_type": "stream",
     "text": [
      "68 epoch: \n",
      "train loss 0.02512707666804393\n"
     ]
    },
    {
     "name": "stderr",
     "output_type": "stream",
     "text": [
      "0.0155: 100%|██████████| 3/3 [00:04<00:00,  1.34s/it]\n"
     ]
    },
    {
     "name": "stdout",
     "output_type": "stream",
     "text": [
      "val loss 0.013745786001284918\n",
      "dices [0.17612293144208038, 0.70755850951000498, 0.074738415545590436, 0.61549761292691885, 0.043712385175799812, 0.73112669166802546, 0.42915642915642915, 0.45998116760828628, 0.66108882521489976, 0.0, 0.52461227242076869, 0.65711805555555558, 0.076759061833688705, 0.32216748768472908, 0.4403803950256035]\n"
     ]
    },
    {
     "name": "stderr",
     "output_type": "stream",
     "text": [
      "0.0266: 100%|██████████| 15/15 [00:36<00:00,  2.37s/it]\n"
     ]
    },
    {
     "name": "stdout",
     "output_type": "stream",
     "text": [
      "69 epoch: \n",
      "train loss 0.024165405084689458\n"
     ]
    },
    {
     "name": "stderr",
     "output_type": "stream",
     "text": [
      "0.0142: 100%|██████████| 3/3 [00:04<00:00,  1.34s/it]\n"
     ]
    },
    {
     "name": "stdout",
     "output_type": "stream",
     "text": [
      "val loss 0.015467992052435875\n",
      "dices [0.36392405063291139, 0.68454151760497084, 0.073836276083467101, 0.6058206958073149, 0.029487179487179487, 0.50942285041224966, 0.38893219017926733, 0.40078494747777904, 0.50046835273651813, 0.0, 0.56569579288025895, 0.68286384976525827, 0.30441400304414001, 0.44736842105263158, 0.46841097638800255]\n"
     ]
    },
    {
     "name": "stderr",
     "output_type": "stream",
     "text": [
      "0.0256: 100%|██████████| 15/15 [00:36<00:00,  2.36s/it]\n"
     ]
    },
    {
     "name": "stdout",
     "output_type": "stream",
     "text": [
      "70 epoch: \n",
      "train loss 0.021860518616934617\n"
     ]
    },
    {
     "name": "stderr",
     "output_type": "stream",
     "text": [
      "0.0171: 100%|██████████| 3/3 [00:04<00:00,  1.34s/it]\n"
     ]
    },
    {
     "name": "stdout",
     "output_type": "stream",
     "text": [
      "val loss 0.01650123856961727\n",
      "dices [0.22311673375503163, 0.71043648294833128, 0.14263404476834982, 0.62846563713537429, 0.10663764961915125, 0.73188352377441945, 0.48668106551475881, 0.57322867176203263, 0.72421971349966796, 0.015283842794759825, 0.45248474280732343, 0.66270675317554606, 0.23149394347240915, 0.47266313932980597, 0.43558282208588955]\n"
     ]
    },
    {
     "name": "stderr",
     "output_type": "stream",
     "text": [
      "0.0190: 100%|██████████| 15/15 [00:36<00:00,  2.37s/it]\n"
     ]
    },
    {
     "name": "stdout",
     "output_type": "stream",
     "text": [
      "71 epoch: \n",
      "train loss 0.02329789170374473\n"
     ]
    },
    {
     "name": "stderr",
     "output_type": "stream",
     "text": [
      "0.0105: 100%|██████████| 3/3 [00:04<00:00,  1.34s/it]\n"
     ]
    },
    {
     "name": "stdout",
     "output_type": "stream",
     "text": [
      "val loss 0.01251861359924078\n",
      "dices [0.32522585128561499, 0.72731938919543182, 0.13912009512485138, 0.66082802547770703, 0.12776280323450134, 0.7616880733944954, 0.46666666666666667, 0.58756321408503465, 0.7149245388485187, 0.01968019680196802, 0.38790931989924432, 0.65196823787801994, 0.31847133757961782, 0.51117431938236491, 0.47437641723356011]\n"
     ]
    },
    {
     "name": "stderr",
     "output_type": "stream",
     "text": [
      "0.0303: 100%|██████████| 15/15 [00:36<00:00,  2.36s/it]\n",
      "  0%|          | 0/3 [00:00<?, ?it/s]"
     ]
    },
    {
     "name": "stdout",
     "output_type": "stream",
     "text": [
      "72 epoch: \n",
      "train loss 0.024860369662443798\n"
     ]
    },
    {
     "name": "stderr",
     "output_type": "stream",
     "text": [
      "0.0147: 100%|██████████| 3/3 [00:04<00:00,  1.34s/it]\n"
     ]
    },
    {
     "name": "stdout",
     "output_type": "stream",
     "text": [
      "val loss 0.013868703506886959\n",
      "dices [0.3707357172215372, 0.74700171330668186, 0.12185215272136475, 0.67588666152659982, 0.11988304093567251, 0.71987658330626825, 0.44294395678595544, 0.550798601266421, 0.69724393253805017, 0.0089955022488755615, 0.43948191156766414, 0.65912479172147675, 0.30919220055710306, 0.50461796809403858, 0.51086380498145201]\n"
     ]
    },
    {
     "name": "stderr",
     "output_type": "stream",
     "text": [
      "0.0286: 100%|██████████| 15/15 [00:36<00:00,  2.37s/it]\n",
      "  0%|          | 0/3 [00:00<?, ?it/s]"
     ]
    },
    {
     "name": "stdout",
     "output_type": "stream",
     "text": [
      "73 epoch: \n",
      "train loss 0.025855530239641666\n"
     ]
    },
    {
     "name": "stderr",
     "output_type": "stream",
     "text": [
      "0.0151: 100%|██████████| 3/3 [00:04<00:00,  1.34s/it]\n"
     ]
    },
    {
     "name": "stdout",
     "output_type": "stream",
     "text": [
      "val loss 0.013228466734290123\n",
      "dices [0.37252311756935269, 0.74727972399150744, 0.12002791346824843, 0.66373303997066369, 0.097170620177193481, 0.74592401903424599, 0.47785787847579814, 0.53563556208670093, 0.66333707063500158, 0.018209408194233688, 0.42050840155105557, 0.6871923559501979, 0.35603345280764637, 0.4962089300758214, 0.47524752475247523]\n"
     ]
    },
    {
     "name": "stderr",
     "output_type": "stream",
     "text": [
      "0.0200: 100%|██████████| 15/15 [00:36<00:00,  2.37s/it]\n",
      "  0%|          | 0/3 [00:00<?, ?it/s]"
     ]
    },
    {
     "name": "stdout",
     "output_type": "stream",
     "text": [
      "74 epoch: \n",
      "train loss 0.021396524645388125\n"
     ]
    },
    {
     "name": "stderr",
     "output_type": "stream",
     "text": [
      "0.0100: 100%|██████████| 3/3 [00:04<00:00,  1.34s/it]\n"
     ]
    },
    {
     "name": "stdout",
     "output_type": "stream",
     "text": [
      "val loss 0.011114283154408136\n",
      "dices [0.34458438287153653, 0.74258826859124039, 0.088311688311688313, 0.65809985253844538, 0.081114551083591335, 0.65848096825118396, 0.44384198295894656, 0.46792368626575925, 0.59137118770146291, 0.010135135135135136, 0.50827423167848695, 0.71132764920828262, 0.24052718286655683, 0.4057701256398325, 0.49195402298850577]\n"
     ]
    },
    {
     "name": "stderr",
     "output_type": "stream",
     "text": [
      "0.0204: 100%|██████████| 15/15 [00:36<00:00,  2.37s/it]\n",
      "  0%|          | 0/3 [00:00<?, ?it/s]"
     ]
    },
    {
     "name": "stdout",
     "output_type": "stream",
     "text": [
      "75 epoch: \n",
      "train loss 0.022337089789410434\n"
     ]
    },
    {
     "name": "stderr",
     "output_type": "stream",
     "text": [
      "0.0110: 100%|██████████| 3/3 [00:04<00:00,  1.34s/it]\n"
     ]
    },
    {
     "name": "stdout",
     "output_type": "stream",
     "text": [
      "val loss 0.012498437737425169\n",
      "dices [0.29160739687055476, 0.73166800966962131, 0.21134020618556701, 0.64399114788800149, 0.12877263581488935, 0.73609467455621302, 0.5056338028169014, 0.61652062616914438, 0.72580645161290325, 0.018320610687022901, 0.53915823122003192, 0.67379385964912286, 0.24781341107871721, 0.49221453287197231, 0.5468493150684931]\n"
     ]
    },
    {
     "name": "stderr",
     "output_type": "stream",
     "text": [
      "0.0332: 100%|██████████| 15/15 [00:36<00:00,  2.37s/it]\n"
     ]
    },
    {
     "name": "stdout",
     "output_type": "stream",
     "text": [
      "76 epoch: \n",
      "train loss 0.023822831797103088\n"
     ]
    },
    {
     "name": "stderr",
     "output_type": "stream",
     "text": [
      "0.0103: 100%|██████████| 3/3 [00:04<00:00,  1.34s/it]\n"
     ]
    },
    {
     "name": "stdout",
     "output_type": "stream",
     "text": [
      "val loss 0.013321437252064547\n",
      "dices [0.3470993117010816, 0.73728094968908986, 0.13672922252010725, 0.67373870673028124, 0.072412688240948417, 0.70560669456066949, 0.49607535321821034, 0.560126582278481, 0.64393939393939392, 0.0, 0.5311942959001783, 0.71863661352391428, 0.22569444444444445, 0.41156946420104312, 0.51865222623345364]\n"
     ]
    },
    {
     "name": "stderr",
     "output_type": "stream",
     "text": [
      "0.0315: 100%|██████████| 15/15 [00:36<00:00,  2.37s/it]\n",
      "  0%|          | 0/3 [00:00<?, ?it/s]"
     ]
    },
    {
     "name": "stdout",
     "output_type": "stream",
     "text": [
      "77 epoch: \n",
      "train loss 0.02120499163866043\n"
     ]
    },
    {
     "name": "stderr",
     "output_type": "stream",
     "text": [
      "0.0136: 100%|██████████| 3/3 [00:04<00:00,  1.34s/it]\n"
     ]
    },
    {
     "name": "stdout",
     "output_type": "stream",
     "text": [
      "val loss 0.012572513272364935\n",
      "dices [0.38680524175327607, 0.74646110721793968, 0.18199233716475097, 0.66842236024844726, 0.085278555866791159, 0.6959088991986504, 0.48398576512455516, 0.56559446701064886, 0.67911791179117909, 0.0097560975609756097, 0.55562461155997511, 0.72312775330396473, 0.22635135135135134, 0.45229357798165137, 0.56690997566909973]\n"
     ]
    },
    {
     "name": "stderr",
     "output_type": "stream",
     "text": [
      "0.0169: 100%|██████████| 15/15 [00:36<00:00,  2.37s/it]\n"
     ]
    },
    {
     "name": "stdout",
     "output_type": "stream",
     "text": [
      "78 epoch: \n",
      "train loss 0.021437091566622258\n"
     ]
    },
    {
     "name": "stderr",
     "output_type": "stream",
     "text": [
      "0.0124: 100%|██████████| 3/3 [00:04<00:00,  1.34s/it]\n"
     ]
    },
    {
     "name": "stdout",
     "output_type": "stream",
     "text": [
      "val loss 0.012685032871862253\n",
      "dices [0.3146696528555431, 0.73325791029524467, 0.051696284329563816, 0.64379802414928655, 0.038082731451083388, 0.61728169528681043, 0.45458458889367198, 0.43046102478489789, 0.53518542786004453, 0.0, 0.50351617440225038, 0.71480582524271841, 0.16599190283400811, 0.35079051383399207, 0.50505050505050508]\n"
     ]
    },
    {
     "name": "stderr",
     "output_type": "stream",
     "text": [
      "0.0208: 100%|██████████| 15/15 [00:36<00:00,  2.37s/it]\n"
     ]
    },
    {
     "name": "stdout",
     "output_type": "stream",
     "text": [
      "79 epoch: \n",
      "train loss 0.02303624382863442\n"
     ]
    },
    {
     "name": "stderr",
     "output_type": "stream",
     "text": [
      "0.0162: 100%|██████████| 4/4 [00:05<00:00,  1.34s/it]\n"
     ]
    },
    {
     "name": "stdout",
     "output_type": "stream",
     "text": [
      "val loss 0.014694775454699993\n",
      "dices [0.35318617242815492, 0.75982920580700253, 0.023300970873786409, 0.64946748009512978, 0.079831932773109238, 0.68450184501845024, 0.42018469656992086, 0.49182209469153515, 0.53500897666068226, 0.018292682926829267, 0.50394529195160442, 0.68759154634860853, 0.29853862212943633, 0.39752513534416084, 0.4354758345789736]\n"
     ]
    },
    {
     "name": "stderr",
     "output_type": "stream",
     "text": [
      "0.0145: 100%|██████████| 15/15 [00:36<00:00,  2.37s/it]\n"
     ]
    },
    {
     "name": "stdout",
     "output_type": "stream",
     "text": [
      "80 epoch: \n",
      "train loss 0.02171747777611017\n"
     ]
    },
    {
     "name": "stderr",
     "output_type": "stream",
     "text": [
      "0.0112: 100%|██████████| 3/3 [00:04<00:00,  1.34s/it]\n"
     ]
    },
    {
     "name": "stdout",
     "output_type": "stream",
     "text": [
      "val loss 0.014047848371167978\n",
      "dices [0.32099697885196377, 0.75007195625059964, 0.15586546349466776, 0.68207106963388375, 0.10866456963111239, 0.77356981900123578, 0.48451612903225805, 0.62844586496204558, 0.7187112763320942, 0.0, 0.45345622119815671, 0.66505524861878451, 0.24893917963224893, 0.45651214128035322, 0.51951951951951947]\n"
     ]
    },
    {
     "name": "stderr",
     "output_type": "stream",
     "text": [
      "0.0187: 100%|██████████| 15/15 [00:36<00:00,  2.37s/it]\n",
      "  0%|          | 0/3 [00:00<?, ?it/s]"
     ]
    },
    {
     "name": "stdout",
     "output_type": "stream",
     "text": [
      "81 epoch: \n",
      "train loss 0.034990066289901735\n"
     ]
    },
    {
     "name": "stderr",
     "output_type": "stream",
     "text": [
      "0.0121: 100%|██████████| 3/3 [00:04<00:00,  1.34s/it]\n"
     ]
    },
    {
     "name": "stdout",
     "output_type": "stream",
     "text": [
      "val loss 0.013922221027314663\n",
      "dices [0.28756629345904539, 0.70671351392194648, 0.034965034965034968, 0.58214762762065164, 0.032391235312797716, 0.4020356234096692, 0.40726933830382106, 0.45596248891141805, 0.49078404401650622, 0.0, 0.50041425020712516, 0.68510903426791281, 0.035087719298245612, 0.33434343434343433, 0.29417040358744395]\n"
     ]
    },
    {
     "name": "stderr",
     "output_type": "stream",
     "text": [
      "0.0210: 100%|██████████| 15/15 [00:36<00:00,  2.37s/it]\n"
     ]
    },
    {
     "name": "stdout",
     "output_type": "stream",
     "text": [
      "82 epoch: \n",
      "train loss 0.022733184198538463\n"
     ]
    },
    {
     "name": "stderr",
     "output_type": "stream",
     "text": [
      "0.0105: 100%|██████████| 3/3 [00:04<00:00,  1.34s/it]\n"
     ]
    },
    {
     "name": "stdout",
     "output_type": "stream",
     "text": [
      "val loss 0.011823927983641624\n",
      "dices [0.35961165048543692, 0.76488843879651103, 0.13822525597269625, 0.68698244451805235, 0.19323928666489221, 0.72981891348088535, 0.46382831429560401, 0.60903149138443258, 0.72485887518293957, 0.0, 0.51103804603100045, 0.67351057295779593, 0.18657937806873978, 0.49979244499792447, 0.49896907216494846]\n"
     ]
    },
    {
     "name": "stderr",
     "output_type": "stream",
     "text": [
      "0.0272: 100%|██████████| 15/15 [00:36<00:00,  2.37s/it]\n"
     ]
    },
    {
     "name": "stdout",
     "output_type": "stream",
     "text": [
      "83 epoch: \n",
      "train loss 0.021682185245056947\n"
     ]
    },
    {
     "name": "stderr",
     "output_type": "stream",
     "text": [
      "0.0109: 100%|██████████| 3/3 [00:04<00:00,  1.34s/it]\n"
     ]
    },
    {
     "name": "stdout",
     "output_type": "stream",
     "text": [
      "val loss 0.009937789912025133\n",
      "dices [0.4118190212373038, 0.7731030804107214, 0.16095890410958905, 0.69040862656072643, 0.1556179775280899, 0.71657133383072202, 0.46557147850401959, 0.57018382743597917, 0.69177035581750712, 0.0059701492537313433, 0.52822580645161288, 0.71822405782137322, 0.23426061493411421, 0.50966183574879231, 0.51190476190476186]\n"
     ]
    },
    {
     "name": "stderr",
     "output_type": "stream",
     "text": [
      "0.0227: 100%|██████████| 15/15 [00:36<00:00,  2.36s/it]\n",
      "  0%|          | 0/3 [00:00<?, ?it/s]"
     ]
    },
    {
     "name": "stdout",
     "output_type": "stream",
     "text": [
      "84 epoch: \n",
      "train loss 0.021372388862073422\n"
     ]
    },
    {
     "name": "stderr",
     "output_type": "stream",
     "text": [
      "0.0146: 100%|██████████| 3/3 [00:04<00:00,  1.34s/it]\n"
     ]
    },
    {
     "name": "stdout",
     "output_type": "stream",
     "text": [
      "val loss 0.01292806180814902\n",
      "dices [0.40756302521008403, 0.77077279702242973, 0.16666666666666666, 0.70016313213703096, 0.1354950781702374, 0.74092435630897169, 0.47955260398462074, 0.6234946122966406, 0.71388397041974794, 0.0060698027314112293, 0.51746187899655682, 0.69364269141531321, 0.22624434389140272, 0.506776180698152, 0.52131678359417166]\n"
     ]
    },
    {
     "name": "stderr",
     "output_type": "stream",
     "text": [
      "0.0209: 100%|██████████| 15/15 [00:36<00:00,  2.36s/it]\n",
      "  0%|          | 0/3 [00:00<?, ?it/s]"
     ]
    },
    {
     "name": "stdout",
     "output_type": "stream",
     "text": [
      "85 epoch: \n",
      "train loss 0.023292545042932034\n"
     ]
    },
    {
     "name": "stderr",
     "output_type": "stream",
     "text": [
      "0.0107: 100%|██████████| 3/3 [00:04<00:00,  1.34s/it]\n"
     ]
    },
    {
     "name": "stdout",
     "output_type": "stream",
     "text": [
      "val loss 0.011523965125282606\n",
      "dices [0.39512400168137873, 0.76465140891652339, 0.19675675675675675, 0.69766785781455709, 0.10104633781763826, 0.74408330703692016, 0.48815506101938261, 0.60515808783856695, 0.71654438358995554, 0.012441679626749611, 0.54284248332478191, 0.69876755517340217, 0.22331691297208539, 0.49312714776632305, 0.52011019283746551]\n"
     ]
    },
    {
     "name": "stderr",
     "output_type": "stream",
     "text": [
      "0.0224: 100%|██████████| 15/15 [00:36<00:00,  2.37s/it]\n"
     ]
    },
    {
     "name": "stdout",
     "output_type": "stream",
     "text": [
      "86 epoch: \n",
      "train loss 0.022409525203208127\n"
     ]
    },
    {
     "name": "stderr",
     "output_type": "stream",
     "text": [
      "0.0095: 100%|██████████| 3/3 [00:04<00:00,  1.34s/it]\n"
     ]
    },
    {
     "name": "stdout",
     "output_type": "stream",
     "text": [
      "val loss 0.010893709026277065\n",
      "dices [0.39586271744240714, 0.76758013619000165, 0.16772554002541296, 0.69961795606494748, 0.093108728943338437, 0.74287544028178032, 0.47166490672298489, 0.57779240728549486, 0.69151004536616978, 0.0, 0.51891891891891895, 0.72967167842896596, 0.23230490018148819, 0.41959334565619222, 0.50915331807780317]\n"
     ]
    },
    {
     "name": "stderr",
     "output_type": "stream",
     "text": [
      "0.0136: 100%|██████████| 15/15 [00:36<00:00,  2.38s/it]\n"
     ]
    },
    {
     "name": "stdout",
     "output_type": "stream",
     "text": [
      "87 epoch: \n",
      "train loss 0.021063846163451673\n"
     ]
    },
    {
     "name": "stderr",
     "output_type": "stream",
     "text": [
      "0.0137: 100%|██████████| 3/3 [00:04<00:00,  1.34s/it]\n"
     ]
    },
    {
     "name": "stdout",
     "output_type": "stream",
     "text": [
      "val loss 0.011131970832745234\n",
      "dices [0.36198766775480595, 0.76468089278128171, 0.21287128712871287, 0.68878811009833418, 0.12757767390706626, 0.74690836469774946, 0.48550971701329698, 0.62369374030005176, 0.72768969987037591, 0.023376623376623377, 0.53556485355648531, 0.72237734343837257, 0.25882352941176473, 0.47506561679790027, 0.52491694352159468]\n"
     ]
    },
    {
     "name": "stderr",
     "output_type": "stream",
     "text": [
      "0.0217: 100%|██████████| 15/15 [00:36<00:00,  2.37s/it]\n"
     ]
    },
    {
     "name": "stdout",
     "output_type": "stream",
     "text": [
      "88 epoch: \n",
      "train loss 0.02100030177583297\n"
     ]
    },
    {
     "name": "stderr",
     "output_type": "stream",
     "text": [
      "0.0137: 100%|██████████| 3/3 [00:04<00:00,  1.34s/it]\n"
     ]
    },
    {
     "name": "stdout",
     "output_type": "stream",
     "text": [
      "val loss 0.013551770709455013\n",
      "dices [0.31557236163630115, 0.76515815085158145, 0.21180555555555555, 0.69526922727685458, 0.14139740403203535, 0.76069085149709637, 0.47542697804112932, 0.6092879256965944, 0.72768742562475208, 0.012121212121212121, 0.5258666666666667, 0.71904622300400667, 0.21126760563380281, 0.42810910772075822, 0.54802592810842665]\n"
     ]
    },
    {
     "name": "stderr",
     "output_type": "stream",
     "text": [
      "0.0216: 100%|██████████| 15/15 [00:36<00:00,  2.37s/it]\n"
     ]
    },
    {
     "name": "stdout",
     "output_type": "stream",
     "text": [
      "89 epoch: \n",
      "train loss 0.02116001509130001\n"
     ]
    },
    {
     "name": "stderr",
     "output_type": "stream",
     "text": [
      "0.0082: 100%|██████████| 3/3 [00:04<00:00,  1.34s/it]\n"
     ]
    },
    {
     "name": "stdout",
     "output_type": "stream",
     "text": [
      "val loss 0.010427397986253103\n",
      "dices [0.4206896551724138, 0.7887719756878635, 0.1227106227106227, 0.69953007518796995, 0.12105415580654504, 0.73199546852241459, 0.46097641979408832, 0.59658634538152611, 0.67458116054587813, 0.0047562425683709865, 0.48773584905660378, 0.72480701022324223, 0.32911392405063289, 0.47300564061240935, 0.45437441204139228]\n"
     ]
    },
    {
     "name": "stderr",
     "output_type": "stream",
     "text": [
      "0.0202: 100%|██████████| 15/15 [00:36<00:00,  2.36s/it]\n",
      "  0%|          | 0/3 [00:00<?, ?it/s]"
     ]
    },
    {
     "name": "stdout",
     "output_type": "stream",
     "text": [
      "90 epoch: \n",
      "train loss 0.022712325553099315\n"
     ]
    },
    {
     "name": "stderr",
     "output_type": "stream",
     "text": [
      "0.0114: 100%|██████████| 3/3 [00:04<00:00,  1.34s/it]\n"
     ]
    },
    {
     "name": "stdout",
     "output_type": "stream",
     "text": [
      "val loss 0.012759355207284292\n",
      "dices [0.31573552024602769, 0.73941920440895925, 0.18732782369146006, 0.67476370510396977, 0.09820877084620136, 0.76045984202705874, 0.3809931506849315, 0.37162434502216846, 0.59590451956864166, 0.0, 0.48168249660786971, 0.69021467798302549, 0.12345679012345678, 0.28422152560083597, 0.51146131805157591]\n"
     ]
    },
    {
     "name": "stderr",
     "output_type": "stream",
     "text": [
      "0.0203: 100%|██████████| 15/15 [00:36<00:00,  2.37s/it]\n",
      "  0%|          | 0/3 [00:00<?, ?it/s]"
     ]
    },
    {
     "name": "stdout",
     "output_type": "stream",
     "text": [
      "91 epoch: \n",
      "train loss 0.02231103361894687\n"
     ]
    },
    {
     "name": "stderr",
     "output_type": "stream",
     "text": [
      "0.0094: 100%|██████████| 3/3 [00:04<00:00,  1.34s/it]\n"
     ]
    },
    {
     "name": "stdout",
     "output_type": "stream",
     "text": [
      "val loss 0.010614757736523947\n",
      "dices [0.42706502636203869, 0.7851427442457769, 0.1437246963562753, 0.70547977757711133, 0.12907010853622763, 0.73215434083601283, 0.46133333333333332, 0.5908766200632718, 0.68648648648648647, 0.0053835800807537013, 0.49687048627828601, 0.71162881754111196, 0.32258064516129031, 0.50730079265748851, 0.47808764940239046]\n"
     ]
    },
    {
     "name": "stderr",
     "output_type": "stream",
     "text": [
      "0.0204: 100%|██████████| 15/15 [00:36<00:00,  2.37s/it]\n",
      "  0%|          | 0/3 [00:00<?, ?it/s]"
     ]
    },
    {
     "name": "stdout",
     "output_type": "stream",
     "text": [
      "92 epoch: \n",
      "train loss 0.020301891739169756\n"
     ]
    },
    {
     "name": "stderr",
     "output_type": "stream",
     "text": [
      "0.0061: 100%|██████████| 3/3 [00:04<00:00,  1.34s/it]\n"
     ]
    },
    {
     "name": "stdout",
     "output_type": "stream",
     "text": [
      "val loss 0.01107874047011137\n",
      "dices [0.41289744738020601, 0.77832677893180058, 0.18828451882845187, 0.70128162997042387, 0.1070559610705596, 0.74843216638882271, 0.47840290381125228, 0.56061908856405851, 0.68194009834599911, 0.0029629629629629628, 0.50027367268746581, 0.73890860692102933, 0.2837370242214533, 0.43795620437956206, 0.51667608818541544]\n"
     ]
    },
    {
     "name": "stderr",
     "output_type": "stream",
     "text": [
      "0.0117: 100%|██████████| 15/15 [00:36<00:00,  2.37s/it]\n"
     ]
    },
    {
     "name": "stdout",
     "output_type": "stream",
     "text": [
      "93 epoch: \n",
      "train loss 0.020733784946302573\n"
     ]
    },
    {
     "name": "stderr",
     "output_type": "stream",
     "text": [
      "0.0236: 100%|██████████| 3/3 [00:04<00:00,  1.34s/it]\n"
     ]
    },
    {
     "name": "stdout",
     "output_type": "stream",
     "text": [
      "val loss 0.016111707935730617\n",
      "dices [0.39050952936600547, 0.78452254171104008, 0.11974340698503208, 0.70294388224471016, 0.15187713310580206, 0.75284755812139181, 0.44126984126984126, 0.56881839172773818, 0.67708894878706194, 0.0070921985815602835, 0.4237435008665511, 0.74057694240627203, 0.31476323119777161, 0.47958297132927891, 0.46406763738844525]\n"
     ]
    },
    {
     "name": "stderr",
     "output_type": "stream",
     "text": [
      "0.0164: 100%|██████████| 15/15 [00:36<00:00,  2.37s/it]\n",
      "  0%|          | 0/3 [00:00<?, ?it/s]"
     ]
    },
    {
     "name": "stdout",
     "output_type": "stream",
     "text": [
      "94 epoch: \n",
      "train loss 0.022977907272676627\n"
     ]
    },
    {
     "name": "stderr",
     "output_type": "stream",
     "text": [
      "0.0133: 100%|██████████| 3/3 [00:04<00:00,  1.34s/it]\n"
     ]
    },
    {
     "name": "stdout",
     "output_type": "stream",
     "text": [
      "val loss 0.013669833230475584\n",
      "dices [0.36713836477987422, 0.76663573700954402, 0.20196604110813227, 0.69348959534905186, 0.14375561545372867, 0.75913555992141457, 0.48447653429602888, 0.55816505706760311, 0.70973901973265441, 0.0084269662921348312, 0.51091703056768556, 0.73673278637449369, 0.22876949740034663, 0.43669724770642204, 0.53863898500576701]\n"
     ]
    },
    {
     "name": "stderr",
     "output_type": "stream",
     "text": [
      "0.0281: 100%|██████████| 15/15 [00:36<00:00,  2.37s/it]\n",
      "  0%|          | 0/3 [00:00<?, ?it/s]"
     ]
    },
    {
     "name": "stdout",
     "output_type": "stream",
     "text": [
      "95 epoch: \n",
      "train loss 0.019638701466222604\n"
     ]
    },
    {
     "name": "stderr",
     "output_type": "stream",
     "text": [
      "0.0122: 100%|██████████| 3/3 [00:04<00:00,  1.34s/it]\n"
     ]
    },
    {
     "name": "stdout",
     "output_type": "stream",
     "text": [
      "val loss 0.011735527465740839\n",
      "dices [0.4134697357203751, 0.7809275834011391, 0.17465753424657535, 0.70606300311758408, 0.12435858738303653, 0.74796747967479671, 0.49933244325767689, 0.63774703557312251, 0.70350803043110732, 0.020227560050568902, 0.50551558752997605, 0.72305593451568895, 0.33086419753086421, 0.51495553759094581, 0.4751066856330014]\n"
     ]
    },
    {
     "name": "stderr",
     "output_type": "stream",
     "text": [
      "0.0137: 100%|██████████| 15/15 [00:36<00:00,  2.36s/it]\n"
     ]
    },
    {
     "name": "stdout",
     "output_type": "stream",
     "text": [
      "96 epoch: \n",
      "train loss 0.020848809803525607\n"
     ]
    },
    {
     "name": "stderr",
     "output_type": "stream",
     "text": [
      "0.0088: 100%|██████████| 3/3 [00:04<00:00,  1.34s/it]\n"
     ]
    },
    {
     "name": "stdout",
     "output_type": "stream",
     "text": [
      "val loss 0.010955200841029486\n",
      "dices [0.37764932562620424, 0.77596355292474473, 0.11777777777777777, 0.69760710150521033, 0.16104527499240354, 0.74591886213027314, 0.44365192582025675, 0.54381583233793029, 0.6336151974979729, 0.0, 0.49824561403508771, 0.7410714285714286, 0.25367647058823528, 0.42863827795975668, 0.53204353083434097]\n"
     ]
    },
    {
     "name": "stderr",
     "output_type": "stream",
     "text": [
      "0.0160: 100%|██████████| 15/15 [00:36<00:00,  2.37s/it]\n",
      "  0%|          | 0/3 [00:00<?, ?it/s]"
     ]
    },
    {
     "name": "stdout",
     "output_type": "stream",
     "text": [
      "97 epoch: \n",
      "train loss 0.020627392828464507\n"
     ]
    },
    {
     "name": "stderr",
     "output_type": "stream",
     "text": [
      "0.0123: 100%|██████████| 3/3 [00:04<00:00,  1.34s/it]\n"
     ]
    }
   ],
   "source": [
    "counter=0\n",
    "for tr_idx, ts_idx in skf.split(range(len(brains)), range(len(masks))):\n",
    "    counter+=1\n",
    "    X_train = np.concatenate([brains[tr_idx], brains1[tr_idx], brains2[tr_idx]])\n",
    "    X_test = np.concatenate([brains[ts_idx], brains1[ts_idx], brains2[ts_idx]])\n",
    "    Y_train = np.concatenate([masks[tr_idx], masks1[tr_idx], masks2[tr_idx]])\n",
    "    Y_test = np.concatenate([masks[ts_idx], masks1[ts_idx], masks2[ts_idx]])\n",
    "    \n",
    "    model = UNet().cuda()\n",
    "#     model = UResNet().cuda()\n",
    "#     model = ENet(3,2).cuda()\n",
    "    controller = Model_controller(model)\n",
    "    \n",
    "    controller.init_train_procedure(batch_size = 30, crops_shape=(52, 52, 40),\n",
    "                                    context_shape=(52, 52, 40), lr=0.015, \n",
    "                                    lr_decayer=lambda x: x*0.75, net='3D',\n",
    "                                    decay_every_epoch=16, num_of_patches=450)\n",
    "    \n",
    "    controller.train(X_train, Y_train, epoches=100, X_val=X_test, y_val=Y_test,\n",
    "                     hard_negative = lambda epoch: False)\n",
    "    y = controller.predict(X_test)\n",
    "    \n",
    "    np.savez('../reports/figures/UntitledFolder/y_dump_'+str(counter)+'.npy', y)\n",
    "    \n",
    "    y = np.logical_and(y[:, 1, ...] > y[:, 0, ...],\n",
    "                       y[:, 1, ...] > y[:, 2, ...])\n",
    "    \n",
    "    for num_img in range(len(Y_test)):\n",
    "        plt.figure()\n",
    "        t = np.argmax(np.sum(Y_test[num_img, 0, ...]==1, axis=(-2, -3)))\n",
    "        plt.subplot(121)\n",
    "        plt.imshow(y[num_img, ..., t], cmap=plt.cm.binary_r)\n",
    "        plt.title('dice: ' + str(dice(y[num_img], Y_test[num_img,0]))[:5])\n",
    "        plt.subplot(122)\n",
    "        plt.imshow(Y_test[num_img, 0,..., t], cmap=plt.cm.binary_r, vmax=2)\n",
    "        plt.savefig('../reports/figures/UntitledFolder/'+str(counter)+'_'+str(num_img)+'.png')\n",
    "        \n",
    "        plt.figure()\n",
    "        plt.plot(controller.res['train_loss'], label='train')\n",
    "        plt.plot(controller.res['val_loss'], label='val')\n",
    "        plt.legend();\n",
    "        plt.savefig('../reports/figures/UntitledFolder/'+str(counter)+'_tr_val_3D_UNet.png')\n",
    "        plt.figure()\n",
    "        plt.plot(controller.res['lr'], label='lr')\n",
    "        plt.legend();\n",
    "        plt.savefig('../reports/figures/UntitledFolder/'+str(counter)+'_lr_3D_UNet.png')\n",
    "        "
   ]
  },
  {
   "cell_type": "markdown",
   "metadata": {},
   "source": [
    "___"
   ]
  },
  {
   "cell_type": "code",
   "execution_count": null,
   "metadata": {
    "collapsed": true
   },
   "outputs": [],
   "source": [
    "import pickle\n",
    "with open('../models/dumps/model_unetcnn.pkl', 'wb') as f:\n",
    "    pickle.dump(controller.model.state_dict(), f, protocol=pickle.HIGHEST_PROTOCOL)"
   ]
  },
  {
   "cell_type": "raw",
   "metadata": {},
   "source": [
    "import pickle\n",
    "with open('../models/dumps/model_unetcnn.pkl', 'rb') as f:\n",
    "    model_dict = pickle.load(f)\n",
    "model.load_state_dict(model_dict)"
   ]
  },
  {
   "cell_type": "code",
   "execution_count": null,
   "metadata": {
    "collapsed": true
   },
   "outputs": [],
   "source": []
  }
 ],
 "metadata": {
  "kernelspec": {
   "display_name": "Python (3.6)",
   "language": "python",
   "name": "myenv"
  },
  "language_info": {
   "codemirror_mode": {
    "name": "ipython",
    "version": 3
   },
   "file_extension": ".py",
   "mimetype": "text/x-python",
   "name": "python",
   "nbconvert_exporter": "python",
   "pygments_lexer": "ipython3",
   "version": "3.6.1"
  }
 },
 "nbformat": 4,
 "nbformat_minor": 1
}
