{
 "cells": [
  {
   "cell_type": "code",
   "execution_count": 1,
   "metadata": {
    "collapsed": false
   },
   "outputs": [],
   "source": [
    "import matplotlib.pyplot as plt\n",
    "import matplotlib.cm as cm\n",
    "%matplotlib inline\n",
    "\n",
    "import time\n",
    "import pickle\n",
    "from imp import reload\n",
    "from os.path import join\n",
    "\n",
    "import pandas as pd\n",
    "import seaborn as sns\n",
    "import numpy as np\n",
    "from tqdm import tqdm\n",
    "\n",
    "import torch\n",
    "import torch.nn as nn\n",
    "import torch.nn.functional as F\n",
    "from torch.autograd import Variable\n",
    "\n",
    "from data_loader import DataLoader\n",
    "import medim\n",
    "reload(medim);"
   ]
  },
  {
   "cell_type": "code",
   "execution_count": 2,
   "metadata": {
    "collapsed": true
   },
   "outputs": [],
   "source": [
    "raw_path = '/home/mount/neuro-t01-hdd/Brats2017/data/raw/'\n",
    "\n",
    "data_loader = DataLoader(raw_path)\n",
    "patients = data_loader.patients"
   ]
  },
  {
   "cell_type": "code",
   "execution_count": 3,
   "metadata": {
    "collapsed": false
   },
   "outputs": [
    {
     "name": "stderr",
     "output_type": "stream",
     "text": [
      "100%|██████████| 5/5 [00:01<00:00,  4.29it/s]\n"
     ]
    }
   ],
   "source": [
    "processed_path = '/mount/export/Brats2017/data/processed'\n",
    "mscans = []\n",
    "segmentations = []\n",
    "\n",
    "for patient in tqdm(patients[:5]):\n",
    "    filename = join(processed_path, patient)\n",
    "    \n",
    "    mscans.append(np.load(filename+'_mscan.npy'))\n",
    "    segmentations.append(np.load(filename+'_segmentation.npy'))"
   ]
  },
  {
   "cell_type": "code",
   "execution_count": 12,
   "metadata": {
    "collapsed": true
   },
   "outputs": [],
   "source": [
    "n_classes = 4"
   ]
  },
  {
   "cell_type": "code",
   "execution_count": 4,
   "metadata": {
    "collapsed": false
   },
   "outputs": [],
   "source": [
    "patch_size_x = np.array([10, 10, 10])\n",
    "patch_size_y = np.array([6, 6, 6])\n",
    "\n",
    "\n",
    "def uniform(mscans, segms, *, batch_size, patch_size_x, patch_size_y):\n",
    "    \"\"\"Patch iterator with uniformed distribution over spatial dimensions\"\"\"\n",
    "    assert np.all(patch_size_x % 2 == patch_size_y % 2)\n",
    "    patch_size_pad = (patch_size_x - patch_size_y) // 2\n",
    "\n",
    "    n = len(mscans)\n",
    "    n_mods = mscans[0].shape[0]\n",
    "\n",
    "    max_spatial_idx = np.array(\n",
    "        [list(s.shape[1:]) for s in mscans]) - patch_size_x + 1\n",
    "\n",
    "    x_batch = np.zeros((batch_size, n_mods, *patch_size_x), dtype=np.float32)\n",
    "    y_batch = np.zeros((batch_size, *patch_size_y), dtype=np.int64)\n",
    "\n",
    "    while True:\n",
    "        idx = np.random.randint(n, size=batch_size)\n",
    "        start_idx = np.random.rand(batch_size, 3) * max_spatial_idx[idx]\n",
    "        start_idx = np.int32(np.floor(start_idx))\n",
    "        for i in range(batch_size):\n",
    "            s = start_idx[i]\n",
    "            slices = [...] + [slice(s[k], s[k] + patch_size_x[k]) for k in\n",
    "                              range(3)]\n",
    "            x_batch[i] = mscans[idx[i]][slices]\n",
    "\n",
    "            s = start_idx[i] + patch_size_pad\n",
    "            slices = [slice(s[k], s[k] + patch_size_y[k]) for k in range(3)]\n",
    "            y_batch[i] = segms[idx[i]][slices]\n",
    "        yield np.array(x_batch), np.array(y_batch)\n",
    "        \n",
    "        \n",
    "def min_padding(mscan, padding):\n",
    "    padding = np.array([0] + list(padding))\n",
    "    padding = np.repeat(padding[:, None], 2, axis=1)\n",
    "    \n",
    "    return np.pad(mscan, padding, mode='minimum')"
   ]
  },
  {
   "cell_type": "code",
   "execution_count": 463,
   "metadata": {
    "collapsed": false
   },
   "outputs": [],
   "source": [
    "patch_size_x = np.array([10, 10, 10])\n",
    "patch_size_y = np.array([6, 6, 6])\n",
    "\n",
    "def uniform(mscans, msegms, *, batch_size, patch_size_x, patch_size_y):\n",
    "    \"\"\"Patch iterator with uniformed distribution over spatial dimensions\"\"\"\n",
    "    assert np.all(patch_size_x % 2 == patch_size_y % 2)\n",
    "    patch_size_pad = (patch_size_x - patch_size_y) // 2\n",
    "\n",
    "    n = len(mscans)\n",
    "\n",
    "    max_spatial_idy = np.array(\n",
    "        [list(s.shape[1:]) for s in mscans]) - patch_size_y + 1\n",
    "\n",
    "    x_batch = np.zeros((batch_size, mscans[0].shape[0], *patch_size_x), dtype=np.float32)\n",
    "    y_batch = np.zeros((batch_size, msegms[0].shape[0], *patch_size_y), dtype=np.float32)\n",
    "\n",
    "    while True:\n",
    "        idy = np.random.randint(n, size=batch_size)\n",
    "        start_idy = np.random.rand(batch_size, 3) * max_spatial_idy[idy]\n",
    "        start_idy = np.int32(np.floor(start_idy))\n",
    "        for i in range(batch_size):\n",
    "            s = start_idy[i]\n",
    "            slices = [...] + [slice(s[k], s[k] + patch_size_y[k])\n",
    "                              for k in range(3)]\n",
    "            y_batch[i] = msegms[idy[i]][slices]\n",
    "\n",
    "            s = start_idy[i] - patch_size_pad\n",
    "            e = s + patch_size_x\n",
    "            padding_l = [0] + [-s[i] if s[i] < 0 else 0 for i in range(s.shape[0])]\n",
    "            padding_r = [0] + [-mscans[idy[i]].shape[k+1] + e[k] if e[k] >= mscans[idy[i]].shape[k+1] else 0 \\\n",
    "                               for k in range(e.shape[0])]\n",
    "            padding = list(zip(padding_l, padding_r))\n",
    "            slices = [...] + [slice(max(s[k], 0), min(e[k], mscans[idy[i]].shape[k+1])) \n",
    "                              for k in range(3)]\n",
    "            \n",
    "            min_const = np.amin(mscans[idy[i]])\n",
    "            x_batch[i] = np.pad(mscans[idy[i]][slices], padding, mode='constant', constant_values=min_const)\n",
    "        yield np.array(x_batch), np.array(y_batch)"
   ]
  },
  {
   "cell_type": "code",
   "execution_count": 493,
   "metadata": {
    "collapsed": false
   },
   "outputs": [
    {
     "ename": "SyntaxError",
     "evalue": "invalid syntax (<ipython-input-493-6f71792e02dc>, line 33)",
     "output_type": "error",
     "traceback": [
      "\u001b[0;36m  File \u001b[0;32m\"<ipython-input-493-6f71792e02dc>\"\u001b[0;36m, line \u001b[0;32m33\u001b[0m\n\u001b[0;31m    padding_r = [0] + [-mscans[idy[i]].shape[k+1] + e[k] if e[k] >= mscans[idy[i]].shape[k+1] else 0 for k in range(e.shape[0])]\u001b[0m\n\u001b[0m            ^\u001b[0m\n\u001b[0;31mSyntaxError\u001b[0m\u001b[0;31m:\u001b[0m invalid syntax\n"
     ]
    }
   ],
   "source": [
    "patch_size_x_ext = np.array([20, 20, 20])\n",
    "patch_size_x = np.array([10, 10, 10])\n",
    "patch_size_y = np.array([6, 6, 6])\n",
    "\n",
    "def uniform_ext(mscans, msegms, *, batch_size, patch_size_x_ext, patch_size_x, patch_size_y):\n",
    "    \"\"\"Patch iterator with uniformed distribution over spatial dimensions\"\"\"\n",
    "    assert np.all(patch_size_x % 2 == patch_size_y % 2)\n",
    "    patch_size_pad = (patch_size_x - patch_size_y) // 2\n",
    "    patch_size_pad_ext = (patch_size_x_ext - patch_size_y) // 2\n",
    "\n",
    "    n = len(mscans)\n",
    "\n",
    "    max_spatial_idy = np.array(\n",
    "        [list(s.shape[1:]) for s in mscans]) - patch_size_y + 1\n",
    "\n",
    "    x_batch_ext = np.zeros((batch_size, mscans[0].shape[0], *patch_size_x_ext), dtype=np.float32)\n",
    "    x_batch = np.zeros((batch_size, mscans[0].shape[0], *patch_size_x), dtype=np.float32)\n",
    "    y_batch = np.zeros((batch_size, msegms[0].shape[0], *patch_size_y), dtype=np.int64)\n",
    "\n",
    "    while True:\n",
    "        idy = np.random.randint(n, size=batch_size)\n",
    "        start_idy = np.random.rand(batch_size, 3) * max_spatial_idy[idy]\n",
    "        start_idy = np.int32(np.floor(start_idy))\n",
    "        for i in range(batch_size):\n",
    "            s = start_idy[i]\n",
    "            slices = [...] + [slice(s[k], s[k] + patch_size_y[k]) for k in\n",
    "                              range(3)]\n",
    "            y_batch[i] = msegms[idy[i]][slices]\n",
    "\n",
    "            s = start_idy[i] - patch_size_pad\n",
    "            e = s + patch_size_x\n",
    "            padding_l = [0] + np.min( [-s[i] if s[i] < 0 else 0 for i in range(s.shape[0])]\n",
    "            padding_r = [0] + [-mscans[idy[i]].shape[k+1] + e[k] if e[k] >= mscans[idy[i]].shape[k+1] else 0 for k in range(e.shape[0])]\n",
    "            padding = list(zip(padding_l, padding_r))\n",
    "            slices = [...] + [slice(max(s[k], 0), min(e[k], mscans[idy[i]].shape[k+1])) \n",
    "                              for k in range(3)]\n",
    "            \n",
    "            min_const = np.amin(mscans[idy[i]])\n",
    "            x_batch[i] = np.pad(mscans[idy[i]][slices], padding, mode='constant', constant_values=min_const)\n",
    "            \n",
    "            s = start_idy[i] - patch_size_pad_ext\n",
    "            e = s + patch_size_x_ext\n",
    "            padding_l = [0] + [-s[i] if s[i] < 0 else 0 for i in range(s.shape[0])]\n",
    "            padding_r = [0] + [-mscans[idy[i]].shape[k+1] + e[k] if e[k] >= mscans[idy[i]].shape[k+1] else 0 \\\n",
    "                               for k in range(e.shape[0])]\n",
    "            padding = list(zip(padding_l, padding_r))\n",
    "            slices = [...] + [slice(max(s[k], 0), min(e[k], mscans[idy[i]].shape[k+1])) \n",
    "                              for k in range(3)]\n",
    "            \n",
    "            min_const = np.amin(mscans[idy[i]])\n",
    "            x_batch_ext[i] = np.pad(mscans[idy[i]][slices], padding, mode='constant', constant_values=min_const)\n",
    "        yield np.array(x_batch_ext), np.array(x_batch), np.array(y_batch)"
   ]
  },
  {
   "cell_type": "code",
   "execution_count": 150,
   "metadata": {
    "collapsed": false
   },
   "outputs": [
    {
     "data": {
      "text/plain": [
       "-6.1083965"
      ]
     },
     "execution_count": 150,
     "metadata": {},
     "output_type": "execute_result"
    }
   ],
   "source": [
    "min([np.amin(mscans[i]) for i in range(len(mscans))])"
   ]
  },
  {
   "cell_type": "code",
   "execution_count": 239,
   "metadata": {
    "collapsed": false
   },
   "outputs": [
    {
     "data": {
      "text/plain": [
       "(4, 140, 172, 145)"
      ]
     },
     "execution_count": 239,
     "metadata": {},
     "output_type": "execute_result"
    }
   ],
   "source": [
    "mscans[0].shape"
   ]
  },
  {
   "cell_type": "code",
   "execution_count": 8,
   "metadata": {
    "collapsed": false
   },
   "outputs": [
    {
     "data": {
      "text/plain": [
       "(3, 140, 172, 145)"
      ]
     },
     "execution_count": 8,
     "metadata": {},
     "output_type": "execute_result"
    }
   ],
   "source": [
    "segmentations[0].shape"
   ]
  },
  {
   "cell_type": "code",
   "execution_count": 34,
   "metadata": {
    "collapsed": false
   },
   "outputs": [
    {
     "name": "stdout",
     "output_type": "stream",
     "text": [
      "[[  0   0]\n",
      " [100 100]\n",
      " [ 10  10]\n",
      " [ 10  10]]\n"
     ]
    }
   ],
   "source": [
    "a = min_padding(mscans[0], [100, 10, 10], 2)"
   ]
  },
  {
   "cell_type": "code",
   "execution_count": 10,
   "metadata": {
    "collapsed": false
   },
   "outputs": [
    {
     "data": {
      "text/plain": [
       "(4, 340, 192, 165)"
      ]
     },
     "execution_count": 10,
     "metadata": {},
     "output_type": "execute_result"
    }
   ],
   "source": [
    "a.shape"
   ]
  },
  {
   "cell_type": "code",
   "execution_count": 77,
   "metadata": {
    "collapsed": false
   },
   "outputs": [
    {
     "data": {
      "text/plain": [
       "(4, 142, 174, 147)"
      ]
     },
     "execution_count": 77,
     "metadata": {},
     "output_type": "execute_result"
    }
   ],
   "source": [
    "next(iter)"
   ]
  },
  {
   "cell_type": "code",
   "execution_count": 380,
   "metadata": {
    "collapsed": false
   },
   "outputs": [
    {
     "data": {
      "text/plain": [
       "(4, 142, 159, 138)"
      ]
     },
     "execution_count": 380,
     "metadata": {},
     "output_type": "execute_result"
    }
   ],
   "source": [
    "mscans[2].shape"
   ]
  },
  {
   "cell_type": "code",
   "execution_count": 464,
   "metadata": {
    "collapsed": false
   },
   "outputs": [],
   "source": [
    "batch_size = 2\n",
    "batch_iter = uniform(mscans, segmentations, batch_size=batch_size,\n",
    "                     patch_size_x=patch_size_x, patch_size_y=patch_size_y)"
   ]
  },
  {
   "cell_type": "code",
   "execution_count": 484,
   "metadata": {
    "collapsed": false
   },
   "outputs": [],
   "source": [
    "#%%timeit\n",
    "\n",
    "x_batch, y_batch = next(batch_iter)"
   ]
  },
  {
   "cell_type": "code",
   "execution_count": 489,
   "metadata": {
    "collapsed": false
   },
   "outputs": [],
   "source": [
    "batch_size = 2\n",
    "batch_iter = uniform_ext(mscans, segmentations, batch_size=batch_size, patch_size_x_ext=patch_size_x_ext,\n",
    "                     patch_size_x=patch_size_x, patch_size_y=patch_size_y)"
   ]
  },
  {
   "cell_type": "code",
   "execution_count": 490,
   "metadata": {
    "collapsed": true
   },
   "outputs": [],
   "source": [
    "#%%timeit\n",
    "\n",
    "x_batch_ext, x_batch, y_batch = next(batch_iter)"
   ]
  },
  {
   "cell_type": "code",
   "execution_count": 491,
   "metadata": {
    "collapsed": false
   },
   "outputs": [
    {
     "name": "stdout",
     "output_type": "stream",
     "text": [
      "(2, 4, 20, 20, 20) (2, 4, 10, 10, 10) (2, 3, 6, 6, 6)\n"
     ]
    }
   ],
   "source": [
    "print(x_batch_ext.shape, x_batch.shape, y_batch.shape)"
   ]
  },
  {
   "cell_type": "code",
   "execution_count": 485,
   "metadata": {
    "collapsed": false
   },
   "outputs": [
    {
     "data": {
      "text/plain": [
       "(2, 4, 10, 10, 10)"
      ]
     },
     "execution_count": 485,
     "metadata": {},
     "output_type": "execute_result"
    }
   ],
   "source": [
    "x_batch.shape"
   ]
  },
  {
   "cell_type": "code",
   "execution_count": 486,
   "metadata": {
    "collapsed": false
   },
   "outputs": [
    {
     "data": {
      "text/plain": [
       "(2, 3, 6, 6, 6)"
      ]
     },
     "execution_count": 486,
     "metadata": {},
     "output_type": "execute_result"
    }
   ],
   "source": [
    "y_batch.shape"
   ]
  },
  {
   "cell_type": "code",
   "execution_count": 102,
   "metadata": {
    "collapsed": false
   },
   "outputs": [],
   "source": [
    "def one_hot(x):\n",
    "    enc = np.eye(n_classes)[x]\n",
    "    return np.rollaxis(enc, 4, 1)"
   ]
  },
  {
   "cell_type": "code",
   "execution_count": 37,
   "metadata": {
    "collapsed": false
   },
   "outputs": [
    {
     "data": {
      "text/plain": [
       "(4, 140, 172, 145)"
      ]
     },
     "execution_count": 37,
     "metadata": {},
     "output_type": "execute_result"
    }
   ],
   "source": [
    "one_hot(segmentations[0]).shape"
   ]
  },
  {
   "cell_type": "code",
   "execution_count": 19,
   "metadata": {
    "collapsed": false
   },
   "outputs": [
    {
     "data": {
      "text/plain": [
       "array([-0.78120344, -1.0260286 , -1.05939626, -0.63056652])"
      ]
     },
     "execution_count": 19,
     "metadata": {},
     "output_type": "execute_result"
    }
   ],
   "source": [
    "x_batch[0].mean(axis=(1, 2, 3))"
   ]
  }
 ],
 "metadata": {
  "kernelspec": {
   "display_name": "Python 3",
   "language": "python",
   "name": "python3"
  },
  "language_info": {
   "codemirror_mode": {
    "name": "ipython",
    "version": 3
   },
   "file_extension": ".py",
   "mimetype": "text/x-python",
   "name": "python",
   "nbconvert_exporter": "python",
   "pygments_lexer": "ipython3",
   "version": "3.6.0"
  }
 },
 "nbformat": 4,
 "nbformat_minor": 2
}
