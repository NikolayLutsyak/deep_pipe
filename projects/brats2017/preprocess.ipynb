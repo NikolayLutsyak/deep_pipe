{
 "cells": [
  {
   "cell_type": "code",
   "execution_count": 1,
   "metadata": {
    "collapsed": false
   },
   "outputs": [],
   "source": [
    "import matplotlib.pyplot as plt\n",
    "import matplotlib.cm as cm\n",
    "%matplotlib inline\n",
    "\n",
    "import pickle\n",
    "from imp import reload\n",
    "from os.path import join\n",
    "\n",
    "import numpy as np\n",
    "from tqdm import tqdm\n",
    "\n",
    "from data_loader import DataLoader\n",
    "import medim\n",
    "%load_ext autoreload\n",
    "%autoreload 2\n",
    "\n",
    "%load_ext line_profiler"
   ]
  },
  {
   "cell_type": "code",
   "execution_count": 2,
   "metadata": {
    "collapsed": true
   },
   "outputs": [],
   "source": [
    "raw_path = '/home/mount/neuro-t01-hdd/Brats2017/data/raw/'\n",
    "processed_path = '/mount/export/Brats2017/data/processed/'\n",
    "\n",
    "data_loader = DataLoader(raw_path)\n",
    "patients = data_loader.patients"
   ]
  },
  {
   "cell_type": "code",
   "execution_count": 24,
   "metadata": {
    "collapsed": true
   },
   "outputs": [],
   "source": [
    "def encode_segm(s):\n",
    "    r = np.zeros((3, *s.shape), dtype=bool)\n",
    "    r[0] = s > 0\n",
    "    r[1] = (s == 1) | (s == 4)\n",
    "    r[2] = (s == 4)\n",
    "    return r"
   ]
  },
  {
   "cell_type": "code",
   "execution_count": 32,
   "metadata": {
    "collapsed": true
   },
   "outputs": [],
   "source": [
    "import pandas as pd\n",
    "from collections import namedtuple"
   ]
  },
  {
   "cell_type": "code",
   "execution_count": 26,
   "metadata": {
    "collapsed": false
   },
   "outputs": [],
   "source": [
    "def preprocess():\n",
    "    for patient in tqdm(patients):\n",
    "        mscan = data_loader.load_mscan(patient)\n",
    "        segmentation = data_loader.load_segmentation(patient)\n",
    "\n",
    "        # Extract part with the brain\n",
    "        mask = np.any(mscan, axis=0)\n",
    "        mscan, segmentation = medim.bb.extract(mscan, segmentation, mask=mask)\n",
    "\n",
    "        mscan = medim.prep.normalize_mscan(\n",
    "            mscan, mean=False)\n",
    "        msegm = encode_segm(segmentation)\n",
    "\n",
    "        filename = join(processed_path, patient)\n",
    "        np.save(filename+'_mscan', mscan)\n",
    "        np.save(filename+'_msegm', msegm)"
   ]
  },
  {
   "cell_type": "code",
   "execution_count": 27,
   "metadata": {
    "collapsed": false
   },
   "outputs": [
    {
     "name": "stderr",
     "output_type": "stream",
     "text": [
      "100%|██████████| 285/285 [03:44<00:00,  1.28s/it]\n"
     ]
    }
   ],
   "source": [
    "%lprun -f preprocess preprocess()"
   ]
  }
 ],
 "metadata": {
  "kernelspec": {
   "display_name": "Python 3",
   "language": "python",
   "name": "python3"
  },
  "language_info": {
   "codemirror_mode": {
    "name": "ipython",
    "version": 3
   },
   "file_extension": ".py",
   "mimetype": "text/x-python",
   "name": "python",
   "nbconvert_exporter": "python",
   "pygments_lexer": "ipython3",
   "version": "3.6.0"
  }
 },
 "nbformat": 4,
 "nbformat_minor": 2
}
