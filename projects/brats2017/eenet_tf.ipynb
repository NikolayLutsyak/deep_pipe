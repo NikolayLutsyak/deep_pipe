{
 "cells": [
  {
   "cell_type": "code",
   "execution_count": 2,
   "metadata": {
    "collapsed": false
   },
   "outputs": [
    {
     "name": "stdout",
     "output_type": "stream",
     "text": [
      "The autoreload extension is already loaded. To reload it, use:\n",
      "  %reload_ext autoreload\n",
      "The line_profiler extension is already loaded. To reload it, use:\n",
      "  %reload_ext line_profiler\n"
     ]
    }
   ],
   "source": [
    "import matplotlib.pyplot as plt\n",
    "import matplotlib.cm as cm\n",
    "%matplotlib inline\n",
    "\n",
    "import gc\n",
    "from functools import partial\n",
    "import time\n",
    "import pickle\n",
    "from imp import reload\n",
    "from os.path import join\n",
    "from itertools import product\n",
    "\n",
    "from sklearn.model_selection import KFold\n",
    "import numpy as np\n",
    "from tqdm import tqdm_notebook as tqdm\n",
    "\n",
    "import tensorflow as tf\n",
    "\n",
    "from data_loaders import Brats2015, Brats2017\n",
    "import medim\n",
    "from models_tf import EEnet, ModelController\n",
    "\n",
    "%load_ext autoreload\n",
    "%autoreload 2\n",
    "\n",
    "%load_ext line_profiler"
   ]
  },
  {
   "cell_type": "code",
   "execution_count": 3,
   "metadata": {
    "collapsed": true
   },
   "outputs": [],
   "source": [
    "def compute_dices(y_pred, y_true):\n",
    "    dices = []\n",
    "    for yo_pred, yo_true in zip(y_pred, y_true):\n",
    "        msegm_true = data_loader.segm2msegm(yo_true)\n",
    "        msegm_pred = data_loader.segm2msegm(yo_pred)\n",
    "        dices.append([medim.metrics.dice_score(msegm_pred[k], msegm_true[k])\n",
    "                      for k in range(n_chans_msegm)])\n",
    "    return np.mean(dices, axis=0)"
   ]
  },
  {
   "cell_type": "code",
   "execution_count": 4,
   "metadata": {
    "collapsed": false
   },
   "outputs": [
    {
     "name": "stdout",
     "output_type": "stream",
     "text": [
      "\n"
     ]
    },
    {
     "data": {
      "text/plain": [
       "(4, 3, 4)"
      ]
     },
     "execution_count": 4,
     "metadata": {},
     "output_type": "execute_result"
    }
   ],
   "source": [
    "brats2017 = True\n",
    "brats2015 = not brats2017\n",
    "\n",
    "if brats2017:\n",
    "    processed_path = '/mount/export/brats2017/processed'\n",
    "    data_loader = Brats2017(processed_path)\n",
    "elif brats2015:\n",
    "    processed_path = '/mount/export/brats2015/processed'\n",
    "    data_loader = Brats2015(processed_path)\n",
    "else:\n",
    "    assert False\n",
    "\n",
    "patients = data_loader.patients\n",
    "\n",
    "spatial_size = data_loader.spatial_size\n",
    "n_modalities = data_loader.n_modalities\n",
    "n_chans_msegm = data_loader.n_chans_msegm\n",
    "n_classes = data_loader.n_classes\n",
    "\n",
    "x = []\n",
    "y = []\n",
    "\n",
    "for patient in tqdm(patients):\n",
    "    x.append(data_loader.load_mscan(patient))\n",
    "    y.append(data_loader.load_segm(patient))\n",
    "    \n",
    "n_modalities, n_chans_msegm, n_classes"
   ]
  },
  {
   "cell_type": "code",
   "execution_count": 7,
   "metadata": {
    "collapsed": true
   },
   "outputs": [],
   "source": [
    "metadata = data_loader.metadata"
   ]
  },
  {
   "cell_type": "code",
   "execution_count": 16,
   "metadata": {
    "collapsed": true
   },
   "outputs": [],
   "source": [
    "sd = ~metadata.survival.isnull().values"
   ]
  },
  {
   "cell_type": "code",
   "execution_count": 26,
   "metadata": {
    "collapsed": false
   },
   "outputs": [],
   "source": [
    "np.random.seed(17)\n",
    "\n",
    "train = ~sd\n",
    "val = ~train * (np.random.randint(2, size=len(patients), dtype=bool))\n",
    "test = ~train & ~val \n",
    "\n",
    "train = np.argwhere(train)\n",
    "val = np.argwhere(val)\n",
    "test = np.argwhere(test)"
   ]
  },
  {
   "cell_type": "code",
   "execution_count": 31,
   "metadata": {
    "collapsed": false
   },
   "outputs": [
    {
     "data": {
      "text/plain": [
       "(122, 82, 81)"
      ]
     },
     "execution_count": 31,
     "metadata": {},
     "output_type": "execute_result"
    }
   ],
   "source": [
    "len(train), len(val), len(test)"
   ]
  },
  {
   "cell_type": "code",
   "execution_count": 32,
   "metadata": {
    "collapsed": false
   },
   "outputs": [],
   "source": [
    "n_splits_train = 5\n",
    "n_splits_val = 40\n",
    "\n",
    "cv = KFold(n_splits_train, shuffle=True, random_state=42)\n",
    "train, test = next(cv.split(y))\n",
    "\n",
    "def extract(l, idx):\n",
    "    return [l[i] for i in idx]\n",
    "\n",
    "x_train, x_test = extract(x, train), extract(x, test)\n",
    "y_train, y_test = extract(y, train), extract(y, test)\n",
    "\n",
    "cv = KFold(n_splits_val, shuffle=True, random_state=21)\n",
    "train, val = next(cv.split(x_train))\n",
    "\n",
    "x_train, x_val = extract(x_train, train), extract(x_train, val)\n",
    "y_train, y_val = extract(y_train, train), extract(y_train, val)"
   ]
  },
  {
   "cell_type": "code",
   "execution_count": 6,
   "metadata": {
    "collapsed": false
   },
   "outputs": [],
   "source": [
    "kernel_size = 3\n",
    "blocks = [n_modalities, 32, 32, 64, 64]\n",
    "\n",
    "patch_size_x = np.array([25, 25, 25])\n",
    "patch_size_y = patch_size_x - 2*(len(blocks) - 1)*(kernel_size//2)"
   ]
  },
  {
   "cell_type": "code",
   "execution_count": 6,
   "metadata": {
    "collapsed": false
   },
   "outputs": [
    {
     "name": "stdout",
     "output_type": "stream",
     "text": [
      "CPU times: user 484 ms, sys: 5.64 s, total: 6.13 s\n",
      "Wall time: 6.13 s\n"
     ]
    }
   ],
   "source": [
    "%%time\n",
    "\n",
    "padding = (patch_size_x - patch_size_y) // 2\n",
    "\n",
    "def min_padding(x, padding):\n",
    "    # 3-dimentional spatial\n",
    "    non_spatial = x.ndim - 3\n",
    "    padding = np.array(padding)\n",
    "    \n",
    "    padding = list(zip(padding, padding))\n",
    "    padding = [(0, 0)] * non_spatial + padding\n",
    "    \n",
    "    return np.pad(x, padding, mode='constant')\n",
    "\n",
    "x_val_padded = [min_padding(s, padding) for s in x_val]\n",
    "y_val_padded = np.array(y_val, dtype=int)"
   ]
  },
  {
   "cell_type": "code",
   "execution_count": 7,
   "metadata": {
    "collapsed": false
   },
   "outputs": [
    {
     "data": {
      "text/plain": [
       "(array([25, 25, 25]), array([17, 17, 17]))"
      ]
     },
     "execution_count": 7,
     "metadata": {},
     "output_type": "execute_result"
    }
   ],
   "source": [
    "patch_size_x, patch_size_y"
   ]
  },
  {
   "cell_type": "code",
   "execution_count": 8,
   "metadata": {
    "collapsed": false
   },
   "outputs": [],
   "source": [
    "log_path = '/tmp/tf'\n",
    "\n",
    "restore_ckpt_path = None#'./checkpoints/ee-net'\n",
    "\n",
    "tf.reset_default_graph()\n",
    "model = EEnet(blocks, n_classes, kernel_size)\n",
    "model_controller = ModelController(model, log_path, restore_ckpt_path)"
   ]
  },
  {
   "cell_type": "code",
   "execution_count": 60,
   "metadata": {
    "collapsed": false
   },
   "outputs": [
    {
     "name": "stdout",
     "output_type": "stream",
     "text": [
      "Epoch 0\n",
      "Train: 0.243676\n",
      "Val       : 0.0450319\n",
      "Val dices : [ 0.84304292  0.6453008   0.54710687]\n",
      "\n",
      "\n",
      "Epoch 1\n",
      "Train: 0.245884\n",
      "Val       : 0.0447903\n",
      "Val dices : [ 0.84488904  0.662118    0.5464209 ]\n",
      "\n",
      "\n",
      "Epoch 2\n",
      "Train: 0.241086\n",
      "Val       : 0.043301\n",
      "Val dices : [ 0.85155596  0.65906593  0.54886376]\n",
      "\n",
      "\n",
      "Epoch 3\n",
      "Train: 0.241942\n",
      "Val       : 0.0452771\n",
      "Val dices : [ 0.84464561  0.65292923  0.54922676]\n",
      "\n",
      "\n",
      "Epoch 4\n",
      "Train: 0.240606\n",
      "Val       : 0.0437766\n",
      "Val dices : [ 0.84739051  0.65183082  0.54675475]\n",
      "\n",
      "\n",
      "Epoch 5\n",
      "Train: 0.242376\n",
      "Val       : 0.0475553\n",
      "Val dices : [ 0.83605087  0.66830167  0.54247785]\n",
      "\n",
      "\n",
      "Epoch 6\n",
      "Train: 0.24294\n",
      "Val       : 0.0444783\n",
      "Val dices : [ 0.84590839  0.65952622  0.5488746 ]\n",
      "\n",
      "\n",
      "Epoch 7\n",
      "Train: 0.240569\n",
      "Val       : 0.0452962\n",
      "Val dices : [ 0.84431334  0.65710744  0.54614743]\n",
      "\n",
      "\n",
      "Epoch 8\n",
      "Train: 0.242939\n",
      "Val       : 0.0436333\n",
      "Val dices : [ 0.84841697  0.67372025  0.54851209]\n",
      "\n",
      "\n",
      "Epoch 9\n",
      "Train: 0.244455\n",
      "Val       : 0.0439496\n",
      "Val dices : [ 0.84981665  0.63685949  0.54861007]\n",
      "\n",
      "\n",
      "Epoch 10\n",
      "Train: 0.241008\n",
      "Val       : 0.0451795\n",
      "Val dices : [ 0.84329276  0.6462628   0.54943124]\n",
      "\n",
      "\n",
      "Epoch 11\n",
      "Train: 0.24291\n",
      "Val       : 0.0443761\n",
      "Val dices : [ 0.8466611   0.636945    0.55259943]\n",
      "\n",
      "\n",
      "Epoch 12\n",
      "Train: 0.241654\n",
      "Val       : 0.0452144\n",
      "Val dices : [ 0.84483252  0.66310816  0.54707374]\n",
      "\n",
      "\n",
      "Epoch 13\n",
      "Train: 0.243761\n",
      "Val       : 0.0456252\n",
      "Val dices : [ 0.84217192  0.66443355  0.54844818]\n",
      "\n",
      "\n",
      "Epoch 14\n",
      "Train: 0.240076\n",
      "Val       : 0.0452647\n",
      "Val dices : [ 0.84518721  0.64635023  0.54691723]\n",
      "\n",
      "\n",
      "Epoch 15\n",
      "Train: 0.241575\n",
      "Val       : 0.0459219\n",
      "Val dices : [ 0.84300547  0.63531869  0.55015322]\n",
      "\n",
      "\n",
      "Epoch 16\n",
      "Train: 0.239568\n",
      "Val       : 0.0440626\n",
      "Val dices : [ 0.84944631  0.66187224  0.5490895 ]\n",
      "\n",
      "\n",
      "Epoch 17\n",
      "Train: 0.238839\n",
      "Val       : 0.0431872\n",
      "Val dices : [ 0.85230616  0.65706809  0.54720394]\n",
      "\n",
      "\n",
      "Epoch 18\n",
      "Train: 0.23887\n",
      "Val       : 0.0453195\n",
      "Val dices : [ 0.84257973  0.65372283  0.54684892]\n",
      "\n",
      "\n",
      "Epoch 19\n",
      "Train: 0.236933\n",
      "Val       : 0.0458189\n",
      "Val dices : [ 0.83750554  0.6550223   0.54843504]\n",
      "\n",
      "\n",
      "Epoch 20\n",
      "Train: 0.241612\n",
      "Val       : 0.0453366\n",
      "Val dices : [ 0.84336428  0.65239099  0.54805789]\n",
      "\n",
      "\n",
      "Epoch 21\n"
     ]
    },
    {
     "ename": "KeyboardInterrupt",
     "evalue": "",
     "output_type": "error",
     "traceback": [
      "\u001b[0;31m---------------------------------------------------------------------------\u001b[0m",
      "\u001b[0;31mKeyboardInterrupt\u001b[0m                         Traceback (most recent call last)",
      "\u001b[0;32m<ipython-input-60-808023638037>\u001b[0m in \u001b[0;36m<module>\u001b[0;34m()\u001b[0m\n\u001b[1;32m     17\u001b[0m     \u001b[0mprint\u001b[0m\u001b[0;34m(\u001b[0m\u001b[0;34m'Epoch {}'\u001b[0m\u001b[0;34m.\u001b[0m\u001b[0mformat\u001b[0m\u001b[0;34m(\u001b[0m\u001b[0mepoch\u001b[0m\u001b[0;34m)\u001b[0m\u001b[0;34m,\u001b[0m \u001b[0mflush\u001b[0m\u001b[0;34m=\u001b[0m\u001b[0;32mTrue\u001b[0m\u001b[0;34m)\u001b[0m\u001b[0;34m\u001b[0m\u001b[0m\n\u001b[1;32m     18\u001b[0m \u001b[0;34m\u001b[0m\u001b[0m\n\u001b[0;32m---> 19\u001b[0;31m     \u001b[0mtrain_loss\u001b[0m \u001b[0;34m=\u001b[0m \u001b[0mmodel_controller\u001b[0m\u001b[0;34m.\u001b[0m\u001b[0mtrain\u001b[0m\u001b[0;34m(\u001b[0m\u001b[0mtrain_iter\u001b[0m\u001b[0;34m,\u001b[0m \u001b[0mlr\u001b[0m\u001b[0;34m,\u001b[0m \u001b[0mn_batches_per_epoch\u001b[0m\u001b[0;34m)\u001b[0m\u001b[0;34m\u001b[0m\u001b[0m\n\u001b[0m\u001b[1;32m     20\u001b[0m     \u001b[0mprint\u001b[0m\u001b[0;34m(\u001b[0m\u001b[0;34m'Train:'\u001b[0m\u001b[0;34m,\u001b[0m \u001b[0mtrain_loss\u001b[0m\u001b[0;34m,\u001b[0m \u001b[0mflush\u001b[0m\u001b[0;34m=\u001b[0m\u001b[0;32mTrue\u001b[0m\u001b[0;34m)\u001b[0m\u001b[0;34m\u001b[0m\u001b[0m\n\u001b[1;32m     21\u001b[0m \u001b[0;34m\u001b[0m\u001b[0m\n",
      "\u001b[0;32m/home/mount/neuro-t01-ssd/home/krivov/medim/projects/brats2017/models_tf/model_controller.py\u001b[0m in \u001b[0;36mtrain\u001b[0;34m(self, batch_iter, lr, n_iter)\u001b[0m\n\u001b[1;32m     60\u001b[0m         \u001b[0;32mfor\u001b[0m \u001b[0mi\u001b[0m \u001b[0;32min\u001b[0m \u001b[0mrange\u001b[0m\u001b[0;34m(\u001b[0m\u001b[0mn_iter\u001b[0m\u001b[0;34m)\u001b[0m\u001b[0;34m:\u001b[0m\u001b[0;34m\u001b[0m\u001b[0m\n\u001b[1;32m     61\u001b[0m             \u001b[0;34m*\u001b[0m\u001b[0mx_batches\u001b[0m\u001b[0;34m,\u001b[0m \u001b[0my_batch\u001b[0m \u001b[0;34m=\u001b[0m \u001b[0mnext\u001b[0m\u001b[0;34m(\u001b[0m\u001b[0mbatch_iter\u001b[0m\u001b[0;34m)\u001b[0m\u001b[0;34m\u001b[0m\u001b[0m\n\u001b[0;32m---> 62\u001b[0;31m             \u001b[0mloss\u001b[0m \u001b[0;34m=\u001b[0m \u001b[0mself\u001b[0m\u001b[0;34m.\u001b[0m\u001b[0mtrain_iterate\u001b[0m\u001b[0;34m(\u001b[0m\u001b[0mx_batches\u001b[0m\u001b[0;34m,\u001b[0m \u001b[0my_batch\u001b[0m\u001b[0;34m=\u001b[0m\u001b[0my_batch\u001b[0m\u001b[0;34m,\u001b[0m \u001b[0mlr\u001b[0m\u001b[0;34m=\u001b[0m\u001b[0mlr\u001b[0m\u001b[0;34m)\u001b[0m\u001b[0;34m\u001b[0m\u001b[0m\n\u001b[0m\u001b[1;32m     63\u001b[0m \u001b[0;34m\u001b[0m\u001b[0m\n\u001b[1;32m     64\u001b[0m             \u001b[0mlosses\u001b[0m\u001b[0;34m.\u001b[0m\u001b[0mappend\u001b[0m\u001b[0;34m(\u001b[0m\u001b[0mloss\u001b[0m\u001b[0;34m)\u001b[0m\u001b[0;34m\u001b[0m\u001b[0m\n",
      "\u001b[0;32m/home/mount/neuro-t01-ssd/home/krivov/medim/projects/brats2017/models_tf/model_controller.py\u001b[0m in \u001b[0;36mtrain_iterate\u001b[0;34m(self, x_batches, y_batch, lr)\u001b[0m\n\u001b[1;32m     51\u001b[0m \u001b[0;34m\u001b[0m\u001b[0m\n\u001b[1;32m     52\u001b[0m     \u001b[0;32mdef\u001b[0m \u001b[0mtrain_iterate\u001b[0m\u001b[0;34m(\u001b[0m\u001b[0mself\u001b[0m\u001b[0;34m,\u001b[0m \u001b[0mx_batches\u001b[0m\u001b[0;34m,\u001b[0m \u001b[0my_batch\u001b[0m\u001b[0;34m,\u001b[0m \u001b[0mlr\u001b[0m\u001b[0;34m)\u001b[0m\u001b[0;34m:\u001b[0m\u001b[0;34m\u001b[0m\u001b[0m\n\u001b[0;32m---> 53\u001b[0;31m         \u001b[0m_\u001b[0m\u001b[0;34m,\u001b[0m \u001b[0mloss\u001b[0m\u001b[0;34m,\u001b[0m \u001b[0msummary\u001b[0m \u001b[0;34m=\u001b[0m \u001b[0mself\u001b[0m\u001b[0;34m.\u001b[0m\u001b[0mcall_train\u001b[0m\u001b[0;34m(\u001b[0m\u001b[0;34m*\u001b[0m\u001b[0mx_batches\u001b[0m\u001b[0;34m,\u001b[0m \u001b[0my_batch\u001b[0m\u001b[0;34m,\u001b[0m \u001b[0mlr\u001b[0m\u001b[0;34m,\u001b[0m \u001b[0;32mTrue\u001b[0m\u001b[0;34m)\u001b[0m\u001b[0;34m\u001b[0m\u001b[0m\n\u001b[0m\u001b[1;32m     54\u001b[0m \u001b[0;34m\u001b[0m\u001b[0m\n\u001b[1;32m     55\u001b[0m         \u001b[0mself\u001b[0m\u001b[0;34m.\u001b[0m\u001b[0mtrain_writer\u001b[0m\u001b[0;34m.\u001b[0m\u001b[0mwrite_summary\u001b[0m\u001b[0;34m(\u001b[0m\u001b[0msummary\u001b[0m\u001b[0;34m)\u001b[0m\u001b[0;34m\u001b[0m\u001b[0m\n",
      "\u001b[0;32m/home/mount/neuro-t01-ssd/home/krivov/anaconda3/lib/python3.6/site-packages/tensorflow/python/client/session.py\u001b[0m in \u001b[0;36m_generic_run\u001b[0;34m(*feed_args)\u001b[0m\n\u001b[1;32m   1039\u001b[0m         feed_dict = {feed: feed_val\n\u001b[1;32m   1040\u001b[0m                      for feed, feed_val in zip(feed_list, feed_args)}\n\u001b[0;32m-> 1041\u001b[0;31m         \u001b[0;32mreturn\u001b[0m \u001b[0mself\u001b[0m\u001b[0;34m.\u001b[0m\u001b[0mrun\u001b[0m\u001b[0;34m(\u001b[0m\u001b[0mfetches\u001b[0m\u001b[0;34m,\u001b[0m \u001b[0mfeed_dict\u001b[0m\u001b[0;34m=\u001b[0m\u001b[0mfeed_dict\u001b[0m\u001b[0;34m)\u001b[0m\u001b[0;34m\u001b[0m\u001b[0m\n\u001b[0m\u001b[1;32m   1042\u001b[0m       \u001b[0;32mreturn\u001b[0m \u001b[0m_generic_run\u001b[0m\u001b[0;34m\u001b[0m\u001b[0m\n\u001b[1;32m   1043\u001b[0m \u001b[0;34m\u001b[0m\u001b[0m\n",
      "\u001b[0;32m/home/mount/neuro-t01-ssd/home/krivov/anaconda3/lib/python3.6/site-packages/tensorflow/python/client/session.py\u001b[0m in \u001b[0;36mrun\u001b[0;34m(self, fetches, feed_dict, options, run_metadata)\u001b[0m\n\u001b[1;32m    787\u001b[0m     \u001b[0;32mtry\u001b[0m\u001b[0;34m:\u001b[0m\u001b[0;34m\u001b[0m\u001b[0m\n\u001b[1;32m    788\u001b[0m       result = self._run(None, fetches, feed_dict, options_ptr,\n\u001b[0;32m--> 789\u001b[0;31m                          run_metadata_ptr)\n\u001b[0m\u001b[1;32m    790\u001b[0m       \u001b[0;32mif\u001b[0m \u001b[0mrun_metadata\u001b[0m\u001b[0;34m:\u001b[0m\u001b[0;34m\u001b[0m\u001b[0m\n\u001b[1;32m    791\u001b[0m         \u001b[0mproto_data\u001b[0m \u001b[0;34m=\u001b[0m \u001b[0mtf_session\u001b[0m\u001b[0;34m.\u001b[0m\u001b[0mTF_GetBuffer\u001b[0m\u001b[0;34m(\u001b[0m\u001b[0mrun_metadata_ptr\u001b[0m\u001b[0;34m)\u001b[0m\u001b[0;34m\u001b[0m\u001b[0m\n",
      "\u001b[0;32m/home/mount/neuro-t01-ssd/home/krivov/anaconda3/lib/python3.6/site-packages/tensorflow/python/client/session.py\u001b[0m in \u001b[0;36m_run\u001b[0;34m(self, handle, fetches, feed_dict, options, run_metadata)\u001b[0m\n\u001b[1;32m    995\u001b[0m     \u001b[0;32mif\u001b[0m \u001b[0mfinal_fetches\u001b[0m \u001b[0;32mor\u001b[0m \u001b[0mfinal_targets\u001b[0m\u001b[0;34m:\u001b[0m\u001b[0;34m\u001b[0m\u001b[0m\n\u001b[1;32m    996\u001b[0m       results = self._do_run(handle, final_targets, final_fetches,\n\u001b[0;32m--> 997\u001b[0;31m                              feed_dict_string, options, run_metadata)\n\u001b[0m\u001b[1;32m    998\u001b[0m     \u001b[0;32melse\u001b[0m\u001b[0;34m:\u001b[0m\u001b[0;34m\u001b[0m\u001b[0m\n\u001b[1;32m    999\u001b[0m       \u001b[0mresults\u001b[0m \u001b[0;34m=\u001b[0m \u001b[0;34m[\u001b[0m\u001b[0;34m]\u001b[0m\u001b[0;34m\u001b[0m\u001b[0m\n",
      "\u001b[0;32m/home/mount/neuro-t01-ssd/home/krivov/anaconda3/lib/python3.6/site-packages/tensorflow/python/client/session.py\u001b[0m in \u001b[0;36m_do_run\u001b[0;34m(self, handle, target_list, fetch_list, feed_dict, options, run_metadata)\u001b[0m\n\u001b[1;32m   1130\u001b[0m     \u001b[0;32mif\u001b[0m \u001b[0mhandle\u001b[0m \u001b[0;32mis\u001b[0m \u001b[0;32mNone\u001b[0m\u001b[0;34m:\u001b[0m\u001b[0;34m\u001b[0m\u001b[0m\n\u001b[1;32m   1131\u001b[0m       return self._do_call(_run_fn, self._session, feed_dict, fetch_list,\n\u001b[0;32m-> 1132\u001b[0;31m                            target_list, options, run_metadata)\n\u001b[0m\u001b[1;32m   1133\u001b[0m     \u001b[0;32melse\u001b[0m\u001b[0;34m:\u001b[0m\u001b[0;34m\u001b[0m\u001b[0m\n\u001b[1;32m   1134\u001b[0m       return self._do_call(_prun_fn, self._session, handle, feed_dict,\n",
      "\u001b[0;32m/home/mount/neuro-t01-ssd/home/krivov/anaconda3/lib/python3.6/site-packages/tensorflow/python/client/session.py\u001b[0m in \u001b[0;36m_do_call\u001b[0;34m(self, fn, *args)\u001b[0m\n\u001b[1;32m   1137\u001b[0m   \u001b[0;32mdef\u001b[0m \u001b[0m_do_call\u001b[0m\u001b[0;34m(\u001b[0m\u001b[0mself\u001b[0m\u001b[0;34m,\u001b[0m \u001b[0mfn\u001b[0m\u001b[0;34m,\u001b[0m \u001b[0;34m*\u001b[0m\u001b[0margs\u001b[0m\u001b[0;34m)\u001b[0m\u001b[0;34m:\u001b[0m\u001b[0;34m\u001b[0m\u001b[0m\n\u001b[1;32m   1138\u001b[0m     \u001b[0;32mtry\u001b[0m\u001b[0;34m:\u001b[0m\u001b[0;34m\u001b[0m\u001b[0m\n\u001b[0;32m-> 1139\u001b[0;31m       \u001b[0;32mreturn\u001b[0m \u001b[0mfn\u001b[0m\u001b[0;34m(\u001b[0m\u001b[0;34m*\u001b[0m\u001b[0margs\u001b[0m\u001b[0;34m)\u001b[0m\u001b[0;34m\u001b[0m\u001b[0m\n\u001b[0m\u001b[1;32m   1140\u001b[0m     \u001b[0;32mexcept\u001b[0m \u001b[0merrors\u001b[0m\u001b[0;34m.\u001b[0m\u001b[0mOpError\u001b[0m \u001b[0;32mas\u001b[0m \u001b[0me\u001b[0m\u001b[0;34m:\u001b[0m\u001b[0;34m\u001b[0m\u001b[0m\n\u001b[1;32m   1141\u001b[0m       \u001b[0mmessage\u001b[0m \u001b[0;34m=\u001b[0m \u001b[0mcompat\u001b[0m\u001b[0;34m.\u001b[0m\u001b[0mas_text\u001b[0m\u001b[0;34m(\u001b[0m\u001b[0me\u001b[0m\u001b[0;34m.\u001b[0m\u001b[0mmessage\u001b[0m\u001b[0;34m)\u001b[0m\u001b[0;34m\u001b[0m\u001b[0m\n",
      "\u001b[0;32m/home/mount/neuro-t01-ssd/home/krivov/anaconda3/lib/python3.6/site-packages/tensorflow/python/client/session.py\u001b[0m in \u001b[0;36m_run_fn\u001b[0;34m(session, feed_dict, fetch_list, target_list, options, run_metadata)\u001b[0m\n\u001b[1;32m   1119\u001b[0m         return tf_session.TF_Run(session, options,\n\u001b[1;32m   1120\u001b[0m                                  \u001b[0mfeed_dict\u001b[0m\u001b[0;34m,\u001b[0m \u001b[0mfetch_list\u001b[0m\u001b[0;34m,\u001b[0m \u001b[0mtarget_list\u001b[0m\u001b[0;34m,\u001b[0m\u001b[0;34m\u001b[0m\u001b[0m\n\u001b[0;32m-> 1121\u001b[0;31m                                  status, run_metadata)\n\u001b[0m\u001b[1;32m   1122\u001b[0m \u001b[0;34m\u001b[0m\u001b[0m\n\u001b[1;32m   1123\u001b[0m     \u001b[0;32mdef\u001b[0m \u001b[0m_prun_fn\u001b[0m\u001b[0;34m(\u001b[0m\u001b[0msession\u001b[0m\u001b[0;34m,\u001b[0m \u001b[0mhandle\u001b[0m\u001b[0;34m,\u001b[0m \u001b[0mfeed_dict\u001b[0m\u001b[0;34m,\u001b[0m \u001b[0mfetch_list\u001b[0m\u001b[0;34m)\u001b[0m\u001b[0;34m:\u001b[0m\u001b[0;34m\u001b[0m\u001b[0m\n",
      "\u001b[0;31mKeyboardInterrupt\u001b[0m: "
     ]
    }
   ],
   "source": [
    "lr = 0.005\n",
    "batch_size = 128\n",
    "\n",
    "n_epoch = 100\n",
    "n_batches_per_epoch = 100\n",
    "\n",
    "def cond(y):\n",
    "    return y > 0\n",
    "\n",
    "train_iter = medim.batch_iter.patch.foreground(\n",
    "        [x_train, y_train], [patch_size_x, patch_size_y], batch_size=batch_size,\n",
    "        spatial_dims=(-3, -2, -1), f_fraction=0.5, f_condition=cond\n",
    ")\n",
    "\n",
    "for epoch in range(n_epoch):\n",
    "    gc.collect()\n",
    "    print('Epoch {}'.format(epoch), flush=True)\n",
    "    \n",
    "    train_loss = model_controller.train(train_iter, lr, n_batches_per_epoch)\n",
    "    print('Train:', train_loss, flush=True)\n",
    "    \n",
    "    y_pred, val_loss = model_controller.validate([x_val_padded], y_val_padded)\n",
    "    print('Val       :', val_loss)\n",
    "    \n",
    "    val_dices = compute_dices(y_pred, y_val_padded)\n",
    "    print('Val dices :', val_dices)\n",
    "    \n",
    "    print('\\n', flush=True)"
   ]
  },
  {
   "cell_type": "code",
   "execution_count": 61,
   "metadata": {
    "collapsed": true
   },
   "outputs": [],
   "source": [
    "s = tf.train.Saver()"
   ]
  },
  {
   "cell_type": "code",
   "execution_count": 63,
   "metadata": {
    "collapsed": false
   },
   "outputs": [
    {
     "name": "stdout",
     "output_type": "stream",
     "text": [
      "None\n"
     ]
    }
   ],
   "source": [
    "print(np.newaxis)"
   ]
  },
  {
   "cell_type": "code",
   "execution_count": null,
   "metadata": {
    "collapsed": true
   },
   "outputs": [],
   "source": [
    "s.save(model_controller.session, )"
   ]
  },
  {
   "cell_type": "code",
   "execution_count": 15,
   "metadata": {
    "collapsed": false
   },
   "outputs": [],
   "source": [
    "train_iter = medim.batch_iter.patch.foreground(\n",
    "        [x_train, y_train], [patch_size_x, patch_size_y], batch_size=batch_size,\n",
    "        spatial_dims=(-3, -2, -1), f_fraction=0.5, f_condition=cond\n",
    "    )\n",
    "\n",
    "x_batch, y_batch = next(iter(train_iter))"
   ]
  },
  {
   "cell_type": "code",
   "execution_count": null,
   "metadata": {
    "collapsed": false
   },
   "outputs": [],
   "source": [
    "import imp\n",
    "imp.reload(medim.batch_iter.patch.foreground)"
   ]
  },
  {
   "cell_type": "code",
   "execution_count": 30,
   "metadata": {
    "collapsed": false
   },
   "outputs": [
    {
     "ename": "KeyboardInterrupt",
     "evalue": "",
     "output_type": "error",
     "traceback": [
      "\u001b[0;31m---------------------------------------------------------------------------\u001b[0m",
      "\u001b[0;31mKeyboardInterrupt\u001b[0m                         Traceback (most recent call last)",
      "\u001b[0;32m<ipython-input-30-96e34cb7350a>\u001b[0m in \u001b[0;36m<module>\u001b[0;34m()\u001b[0m\n\u001b[1;32m      1\u001b[0m y_pred_proba = model_controller.predict_proba(\n\u001b[0;32m----> 2\u001b[0;31m     tqdm(map(partial(min_padding, padding=padding), x_test)))\n\u001b[0m",
      "\u001b[0;32m/home/mount/neuro-t01-ssd/home/krivov/medim/projects/brats2017/models_tf/model_controller.py\u001b[0m in \u001b[0;36mpredict_proba\u001b[0;34m(self, xs)\u001b[0m\n\u001b[1;32m     88\u001b[0m     \u001b[0;32mdef\u001b[0m \u001b[0mpredict_proba\u001b[0m\u001b[0;34m(\u001b[0m\u001b[0mself\u001b[0m\u001b[0;34m,\u001b[0m \u001b[0mxs\u001b[0m\u001b[0;34m)\u001b[0m\u001b[0;34m:\u001b[0m\u001b[0;34m\u001b[0m\u001b[0m\n\u001b[1;32m     89\u001b[0m         \u001b[0my_pred_proba\u001b[0m \u001b[0;34m=\u001b[0m \u001b[0;34m[\u001b[0m\u001b[0;34m]\u001b[0m\u001b[0;34m\u001b[0m\u001b[0m\n\u001b[0;32m---> 90\u001b[0;31m         \u001b[0;32mfor\u001b[0m \u001b[0mxos\u001b[0m \u001b[0;32min\u001b[0m \u001b[0mzip\u001b[0m\u001b[0;34m(\u001b[0m\u001b[0;34m*\u001b[0m\u001b[0mxs\u001b[0m\u001b[0;34m)\u001b[0m\u001b[0;34m:\u001b[0m\u001b[0;34m\u001b[0m\u001b[0m\n\u001b[0m\u001b[1;32m     91\u001b[0m             \u001b[0myo_pred_proba\u001b[0m \u001b[0;34m=\u001b[0m\u001b[0;31m \u001b[0m\u001b[0;31m\\\u001b[0m\u001b[0;34m\u001b[0m\u001b[0m\n\u001b[1;32m     92\u001b[0m             \u001b[0mself\u001b[0m\u001b[0;34m.\u001b[0m\u001b[0mcall_predict_proba\u001b[0m\u001b[0;34m(\u001b[0m\u001b[0;34m*\u001b[0m\u001b[0;34m[\u001b[0m\u001b[0mxo\u001b[0m\u001b[0;34m[\u001b[0m\u001b[0;32mNone\u001b[0m\u001b[0;34m,\u001b[0m \u001b[0;34m:\u001b[0m\u001b[0;34m]\u001b[0m \u001b[0;32mfor\u001b[0m \u001b[0mxo\u001b[0m \u001b[0;32min\u001b[0m \u001b[0mxos\u001b[0m\u001b[0;34m]\u001b[0m\u001b[0;34m,\u001b[0m \u001b[0;32mFalse\u001b[0m\u001b[0;34m)\u001b[0m\u001b[0;34m[\u001b[0m\u001b[0;36m0\u001b[0m\u001b[0;34m]\u001b[0m\u001b[0;34m\u001b[0m\u001b[0m\n",
      "\u001b[0;32m/home/mount/neuro-t01-ssd/home/krivov/anaconda3/lib/python3.6/site-packages/tqdm/_tqdm_notebook.py\u001b[0m in \u001b[0;36m__iter__\u001b[0;34m(self, *args, **kwargs)\u001b[0m\n\u001b[1;32m    185\u001b[0m     \u001b[0;32mdef\u001b[0m \u001b[0m__iter__\u001b[0m\u001b[0;34m(\u001b[0m\u001b[0mself\u001b[0m\u001b[0;34m,\u001b[0m \u001b[0;34m*\u001b[0m\u001b[0margs\u001b[0m\u001b[0;34m,\u001b[0m \u001b[0;34m**\u001b[0m\u001b[0mkwargs\u001b[0m\u001b[0;34m)\u001b[0m\u001b[0;34m:\u001b[0m\u001b[0;34m\u001b[0m\u001b[0m\n\u001b[1;32m    186\u001b[0m         \u001b[0;32mtry\u001b[0m\u001b[0;34m:\u001b[0m\u001b[0;34m\u001b[0m\u001b[0m\n\u001b[0;32m--> 187\u001b[0;31m             \u001b[0;32mfor\u001b[0m \u001b[0mobj\u001b[0m \u001b[0;32min\u001b[0m \u001b[0msuper\u001b[0m\u001b[0;34m(\u001b[0m\u001b[0mtqdm_notebook\u001b[0m\u001b[0;34m,\u001b[0m \u001b[0mself\u001b[0m\u001b[0;34m)\u001b[0m\u001b[0;34m.\u001b[0m\u001b[0m__iter__\u001b[0m\u001b[0;34m(\u001b[0m\u001b[0;34m*\u001b[0m\u001b[0margs\u001b[0m\u001b[0;34m,\u001b[0m \u001b[0;34m**\u001b[0m\u001b[0mkwargs\u001b[0m\u001b[0;34m)\u001b[0m\u001b[0;34m:\u001b[0m\u001b[0;34m\u001b[0m\u001b[0m\n\u001b[0m\u001b[1;32m    188\u001b[0m                 \u001b[0;31m# return super(tqdm...) will not catch exception\u001b[0m\u001b[0;34m\u001b[0m\u001b[0;34m\u001b[0m\u001b[0m\n\u001b[1;32m    189\u001b[0m                 \u001b[0;32myield\u001b[0m \u001b[0mobj\u001b[0m\u001b[0;34m\u001b[0m\u001b[0m\n",
      "\u001b[0;32m/home/mount/neuro-t01-ssd/home/krivov/anaconda3/lib/python3.6/site-packages/tqdm/_tqdm.py\u001b[0m in \u001b[0;36m__iter__\u001b[0;34m(self)\u001b[0m\n\u001b[1;32m    831\u001b[0m \"\"\", fp_write=getattr(self.fp, 'write', sys.stderr.write))\n\u001b[1;32m    832\u001b[0m \u001b[0;34m\u001b[0m\u001b[0m\n\u001b[0;32m--> 833\u001b[0;31m             \u001b[0;32mfor\u001b[0m \u001b[0mobj\u001b[0m \u001b[0;32min\u001b[0m \u001b[0miterable\u001b[0m\u001b[0;34m:\u001b[0m\u001b[0;34m\u001b[0m\u001b[0m\n\u001b[0m\u001b[1;32m    834\u001b[0m                 \u001b[0;32myield\u001b[0m \u001b[0mobj\u001b[0m\u001b[0;34m\u001b[0m\u001b[0m\n\u001b[1;32m    835\u001b[0m                 \u001b[0;31m# Update and print the progressbar.\u001b[0m\u001b[0;34m\u001b[0m\u001b[0;34m\u001b[0m\u001b[0m\n",
      "\u001b[0;32m<timed exec>\u001b[0m in \u001b[0;36mmin_padding\u001b[0;34m(x, padding)\u001b[0m\n",
      "\u001b[0;32m/home/mount/neuro-t01-ssd/home/krivov/anaconda3/lib/python3.6/site-packages/numpy/lib/arraypad.py\u001b[0m in \u001b[0;36mpad\u001b[0;34m(array, pad_width, mode, **kwargs)\u001b[0m\n\u001b[1;32m   1391\u001b[0m         \u001b[0;32mfor\u001b[0m \u001b[0maxis\u001b[0m\u001b[0;34m,\u001b[0m \u001b[0;34m(\u001b[0m\u001b[0;34m(\u001b[0m\u001b[0mpad_before\u001b[0m\u001b[0;34m,\u001b[0m \u001b[0mpad_after\u001b[0m\u001b[0;34m)\u001b[0m\u001b[0;34m,\u001b[0m \u001b[0;34m(\u001b[0m\u001b[0mbefore_val\u001b[0m\u001b[0;34m,\u001b[0m \u001b[0mafter_val\u001b[0m\u001b[0;34m)\u001b[0m\u001b[0;34m)\u001b[0m\u001b[0;31m \u001b[0m\u001b[0;31m\\\u001b[0m\u001b[0;34m\u001b[0m\u001b[0m\n\u001b[1;32m   1392\u001b[0m                 \u001b[0;32min\u001b[0m \u001b[0menumerate\u001b[0m\u001b[0;34m(\u001b[0m\u001b[0mzip\u001b[0m\u001b[0;34m(\u001b[0m\u001b[0mpad_width\u001b[0m\u001b[0;34m,\u001b[0m \u001b[0mkwargs\u001b[0m\u001b[0;34m[\u001b[0m\u001b[0;34m'constant_values'\u001b[0m\u001b[0;34m]\u001b[0m\u001b[0;34m)\u001b[0m\u001b[0;34m)\u001b[0m\u001b[0;34m:\u001b[0m\u001b[0;34m\u001b[0m\u001b[0m\n\u001b[0;32m-> 1393\u001b[0;31m             \u001b[0mnewmat\u001b[0m \u001b[0;34m=\u001b[0m \u001b[0m_prepend_const\u001b[0m\u001b[0;34m(\u001b[0m\u001b[0mnewmat\u001b[0m\u001b[0;34m,\u001b[0m \u001b[0mpad_before\u001b[0m\u001b[0;34m,\u001b[0m \u001b[0mbefore_val\u001b[0m\u001b[0;34m,\u001b[0m \u001b[0maxis\u001b[0m\u001b[0;34m)\u001b[0m\u001b[0;34m\u001b[0m\u001b[0m\n\u001b[0m\u001b[1;32m   1394\u001b[0m             \u001b[0mnewmat\u001b[0m \u001b[0;34m=\u001b[0m \u001b[0m_append_const\u001b[0m\u001b[0;34m(\u001b[0m\u001b[0mnewmat\u001b[0m\u001b[0;34m,\u001b[0m \u001b[0mpad_after\u001b[0m\u001b[0;34m,\u001b[0m \u001b[0mafter_val\u001b[0m\u001b[0;34m,\u001b[0m \u001b[0maxis\u001b[0m\u001b[0;34m)\u001b[0m\u001b[0;34m\u001b[0m\u001b[0m\n\u001b[1;32m   1395\u001b[0m \u001b[0;34m\u001b[0m\u001b[0m\n",
      "\u001b[0;32m/home/mount/neuro-t01-ssd/home/krivov/anaconda3/lib/python3.6/site-packages/numpy/lib/arraypad.py\u001b[0m in \u001b[0;36m_prepend_const\u001b[0;34m(arr, pad_amt, val, axis)\u001b[0m\n\u001b[1;32m    103\u001b[0m     \u001b[0;32mif\u001b[0m \u001b[0mval\u001b[0m \u001b[0;34m==\u001b[0m \u001b[0;36m0\u001b[0m\u001b[0;34m:\u001b[0m\u001b[0;34m\u001b[0m\u001b[0m\n\u001b[1;32m    104\u001b[0m         return np.concatenate((np.zeros(padshape, dtype=arr.dtype), arr),\n\u001b[0;32m--> 105\u001b[0;31m                               axis=axis)\n\u001b[0m\u001b[1;32m    106\u001b[0m     \u001b[0;32melse\u001b[0m\u001b[0;34m:\u001b[0m\u001b[0;34m\u001b[0m\u001b[0m\n\u001b[1;32m    107\u001b[0m         return np.concatenate(((np.zeros(padshape) + val).astype(arr.dtype),\n",
      "\u001b[0;31mKeyboardInterrupt\u001b[0m: "
     ]
    }
   ],
   "source": [
    "y_pred_proba = model_controller.predict_proba(\n",
    "    tqdm(map(partial(min_padding, padding=padding), x_test)))"
   ]
  },
  {
   "cell_type": "code",
   "execution_count": 36,
   "metadata": {
    "collapsed": false
   },
   "outputs": [
    {
     "data": {
      "text/plain": [
       "(157, 189, 149)"
      ]
     },
     "execution_count": 36,
     "metadata": {},
     "output_type": "execute_result"
    }
   ],
   "source": [
    "y_val[0].shape"
   ]
  },
  {
   "cell_type": "code",
   "execution_count": 48,
   "metadata": {
    "collapsed": false
   },
   "outputs": [
    {
     "data": {
      "image/png": "[encoded data removed]",
      "text/plain": [
       "<matplotlib.figure.Figure at 0x7faa0469c160>"
      ]
     },
     "metadata": {},
     "output_type": "display_data"
    },
    {
     "data": {
      "image/png": "[encoded data removed]",
      "text/plain": [
       "<matplotlib.figure.Figure at 0x7faa3c0cae80>"
      ]
     },
     "metadata": {},
     "output_type": "display_data"
    },
    {
     "data": {
      "image/png": "[encoded data removed]",
      "text/plain": [
       "<matplotlib.figure.Figure at 0x7faa046cecc0>"
      ]
     },
     "metadata": {},
     "output_type": "display_data"
    }
   ],
   "source": [
    "m = 81\n",
    "k = 0\n",
    "\n",
    "plt.imshow(x_val[0][3, ..., m])\n",
    "plt.colorbar()\n",
    "plt.show()\n",
    "plt.imshow(msegms[0][k, ..., m])\n",
    "plt.colorbar() \n",
    "plt.show()\n",
    "plt.imshow(y_val[0][..., m] > 0)\n",
    "plt.colorbar()\n",
    "plt.show()"
   ]
  },
  {
   "cell_type": "code",
   "execution_count": 26,
   "metadata": {
    "collapsed": false
   },
   "outputs": [],
   "source": [
    "y_pred_proba = model_controller.predict_proba([x_val_padded])"
   ]
  },
  {
   "cell_type": "code",
   "execution_count": 12,
   "metadata": {
    "collapsed": false
   },
   "outputs": [
    {
     "data": {
      "text/plain": [
       "array([ 0.80115887,  0.57093293,  0.76356091])"
      ]
     },
     "execution_count": 12,
     "metadata": {},
     "output_type": "execute_result"
    }
   ],
   "source": [
    "compute_dices(y_pred, y_val_padded)"
   ]
  },
  {
   "cell_type": "code",
   "execution_count": 51,
   "metadata": {
    "collapsed": false
   },
   "outputs": [],
   "source": [
    "def sum_probs(yo_pred_proba):\n",
    "    msegm = np.zeros((3, *yo_pred_proba.shape[1:]))\n",
    "    msegm[0] = yo_pred_proba[1:].sum(axis=0)\n",
    "    msegm[1] = yo_pred_proba[[1, 3]].sum(axis=0)\n",
    "    msegm[2] = yo_pred_proba[3]\n",
    "    return msegm\n",
    "\n",
    "msegms = [sum_probs(y) for y in y_pred_proba]\n",
    "msegms_true = [data_loader.segm2msegm(y) for y in y_val]"
   ]
  },
  {
   "cell_type": "code",
   "execution_count": 53,
   "metadata": {
    "collapsed": false
   },
   "outputs": [
    {
     "name": "stdout",
     "output_type": "stream",
     "text": [
      "0.868340979672\n",
      "0.684483748825\n",
      "0.557899718218\n"
     ]
    },
    {
     "data": {
      "text/plain": [
       "[0.78947368421052633, 0.36842105263157893, 0.63157894736842102]"
      ]
     },
     "execution_count": 53,
     "metadata": {},
     "output_type": "execute_result"
    }
   ],
   "source": [
    "def get_dice_threshold(msegms, msegms_true):\n",
    "    thresholds = []\n",
    "    for i in range(n_chans_msegm):\n",
    "        ps = np.linspace(0, 1, 20)\n",
    "        best_p = 0\n",
    "        best_score = 0\n",
    "        for p in ps:\n",
    "            score = np.mean([medim.metrics.dice_score(pred[i] > p, true[i])\n",
    "                             for pred, true in zip(msegms, msegms_true)], axis=0)\n",
    "            if score is np.nan or None:\n",
    "                print('None')\n",
    "                score = 1\n",
    "            \n",
    "            if score > best_score:\n",
    "                best_p = p\n",
    "                best_score = score\n",
    "        thresholds.append(best_p)\n",
    "        print(best_score)\n",
    "    return thresholds\n",
    "\n",
    "thresholds = get_dice_threshold(msegms, msegms_true)\n",
    "thresholds"
   ]
  },
  {
   "cell_type": "code",
   "execution_count": 55,
   "metadata": {
    "collapsed": false
   },
   "outputs": [
    {
     "data": {
      "text/plain": [
       "0"
      ]
     },
     "execution_count": 55,
     "metadata": {},
     "output_type": "execute_result"
    }
   ],
   "source": [
    "gc.collect()"
   ]
  },
  {
   "cell_type": "code",
   "execution_count": 59,
   "metadata": {
    "collapsed": false
   },
   "outputs": [
    {
     "name": "stderr",
     "output_type": "stream",
     "text": [
      "Widget Javascript not detected.  It may not be installed properly. Did you enable the widgetsnbextension? If not, then run \"jupyter nbextension enable --py --sys-prefix widgetsnbextension\"\n"
     ]
    },
    {
     "name": "stdout",
     "output_type": "stream",
     "text": [
      "\n"
     ]
    }
   ],
   "source": [
    "y_pred_proba = []\n",
    "\n",
    "for xo_test, yo_test in tqdm(zip(x_test, y_test)):\n",
    "    mscan = min_padding(xo_test, padding)\n",
    "    #msegm = np.array(msegm, dtype=np.float32)\n",
    "\n",
    "    #mscan_parts = medim.utils.divide(mscan, padding, n_parts)\n",
    "    #msegm_parts = medim.utils.divide(msegm, [0, 0, 0], n_parts)\n",
    "\n",
    "    predicted = []\n",
    "    \n",
    "    #o = np.array(mscan_part[None, :])\n",
    "    gc.collect()\n",
    "    y_pred_proba.append(model_controller.predict_proba([xo_test[None, :]])[0])"
   ]
  },
  {
   "cell_type": "code",
   "execution_count": null,
   "metadata": {
    "collapsed": true
   },
   "outputs": [],
   "source": []
  },
  {
   "cell_type": "code",
   "execution_count": null,
   "metadata": {
    "collapsed": false
   },
   "outputs": [],
   "source": [
    "np.mean([[dice_score(y_preds_t[i][k] > thresholds[k], y_test[i][k]) for k in range(n_classes)]\n",
    "         for i in range(len(y_preds_t))], axis=0)"
   ]
  },
  {
   "cell_type": "code",
   "execution_count": null,
   "metadata": {
    "collapsed": false
   },
   "outputs": [],
   "source": [
    "len(x_train), len(x_val), len(x_test)"
   ]
  },
  {
   "cell_type": "code",
   "execution_count": null,
   "metadata": {
    "collapsed": false
   },
   "outputs": [],
   "source": [
    "fig, ax = plt.subplots(2, 2, sharex=True, sharey=True, figsize=(15, 15))\n",
    "\n",
    "i = 4\n",
    "k = 90\n",
    "\n",
    "cmap = cm.GnBu\n",
    "fontsize = 30\n",
    "\n",
    "ax[0, 0].set_title('Predicted segmentation', fontsize=fontsize)\n",
    "ax[0, 0].imshow(y_preds_t[i][0, ..., k], cmap=cmap)\n",
    "#plt.colorbar()\n",
    "#plt.show()\n",
    "ax[0, 1].set_title('Ground truth', fontsize=fontsize)\n",
    "ax[0, 1].imshow(y_test[i][0, ..., k], cmap=cmap)\n",
    "\n",
    "ax[1,0].set_title('Brain slice', fontsize=fontsize)\n",
    "ax[1, 0].imshow(x_test[i][3, ..., k], cmap=cmap)\n",
    "plt.tight_layout()\n",
    "ax[0, 0].axis('off')\n",
    "ax[1, 0].axis('off')\n",
    "ax[0, 1].axis('off')\n",
    "ax[1, 1].axis('off')\n",
    "plt.show()\n",
    "#plt.colorbar()\n",
    "#plt.show()"
   ]
  },
  {
   "cell_type": "code",
   "execution_count": 10,
   "metadata": {
    "collapsed": true
   },
   "outputs": [],
   "source": [
    "def segm_log_loss(yo_pred, yo_true):\n",
    "    y_pred = np.moveaxis(yo_pred, 0, 3).reshape((-1, n_classes))\n",
    "    y_true = yo_true.flatten()\n",
    "    return log_loss(y_true, y_pred)"
   ]
  },
  {
   "cell_type": "code",
   "execution_count": null,
   "metadata": {
    "collapsed": false
   },
   "outputs": [],
   "source": [
    "# def pred_reshape(y):\n",
    "#     x = y.permute(0, 2, 3, 4, 1)\n",
    "#     return x.contiguous().view(-1, x.size()[-1])\n",
    "\n",
    "# def loss_cross_entropy(y_pred, y_true):\n",
    "#     return F.cross_entropy(pred_reshape(y_pred), y_true.view(-1))\n",
    "\n",
    "\n",
    "coeff = to_var(np.array([1, 2, 3], dtype=np.float32))\n",
    "epsilon = 1e-7\n",
    "\n",
    "def dice_loss(y_pred, target):\n",
    "    y_pred = y_pred.view(*y_pred.size()[:2], -1)\n",
    "    target = target.view(*target.size()[:2], -1)\n",
    "    \n",
    "#     s = y_pred.size()\n",
    "#     e = epsilon.expand(s[0], 1, s[2])\n",
    "    dice_scores = 2 * (epsilon + (y_pred * target).sum(2)) / \\\n",
    "                  (y_pred.sum(2) + target.sum(2) + 2 * epsilon)\n",
    "        \n",
    "    dice_scores = dice_scores.mean(0)\n",
    "    dice_scores = dice_scores.view(-1)\n",
    "\n",
    "    return -torch.sum(dice_scores * coeff)"
   ]
  },
  {
   "cell_type": "code",
   "execution_count": null,
   "metadata": {
    "collapsed": true
   },
   "outputs": [],
   "source": [
    "def predict_object(model, xo, n_parts_per_axis):\n",
    "    model.eval()\n",
    "    xo_parts = medim.utils.divide(xo, [0] + [*padding], n_parts_per_axis)\n",
    "\n",
    "    xo_predicted = []\n",
    "    for xo_part in xo_parts:\n",
    "        xo_part = xo_part[None, :]\n",
    "\n",
    "        y_pred = model(to_var(xo_part, volatile=True))\n",
    "\n",
    "        xo_predicted.append(to_numpy(y_pred)[0])\n",
    "\n",
    "    yo_pred = medim.utils.combine(xo_predicted, n_parts_per_axis)\n",
    "    return yo_pred"
   ]
  }
 ],
 "metadata": {
  "kernelspec": {
   "display_name": "Python 3",
   "language": "python",
   "name": "python3"
  },
  "language_info": {
   "codemirror_mode": {
    "name": "ipython",
    "version": 3
   },
   "file_extension": ".py",
   "mimetype": "text/x-python",
   "name": "python",
   "nbconvert_exporter": "python",
   "pygments_lexer": "ipython3",
   "version": "3.6.0"
  },
  "widgets": {
   "state": {
    "1af926ac8c034724929d1af006a69d44": {
     "views": [
      {
       "cell_index": 2
      }
     ]
    }
   },
   "version": "1.2.0"
  }
 },
 "nbformat": 4,
 "nbformat_minor": 0
}
